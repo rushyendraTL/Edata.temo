{
 "cells": [
  {
   "cell_type": "code",
   "execution_count": 2,
   "metadata": {},
   "outputs": [],
   "source": [
    "import pandas as pd"
   ]
  },
  {
   "cell_type": "markdown",
   "metadata": {},
   "source": [
    "### VV\n"
   ]
  },
  {
   "cell_type": "code",
   "execution_count": 2,
   "metadata": {},
   "outputs": [],
   "source": [
    "vv = pd.read_csv('data/VV_Q1_2025.csv',\n",
    "                 dtype={'Colour': 'object',\n",
    "                        'VehicleCondition': 'object'})\n"
   ]
  },
  {
   "cell_type": "code",
   "execution_count": 3,
   "metadata": {},
   "outputs": [],
   "source": [
    "vv.to_parquet('data/VV_Q1_2025.parquet')\n"
   ]
  },
  {
   "cell_type": "code",
   "execution_count": 2,
   "metadata": {},
   "outputs": [],
   "source": [
    "vv = pd.read_parquet('data/VV_Q1_2025.parquet')\n"
   ]
  },
  {
   "cell_type": "code",
   "execution_count": 5,
   "metadata": {},
   "outputs": [],
   "source": [
    "vv_sample = vv.sample(100000)\n"
   ]
  },
  {
   "cell_type": "code",
   "execution_count": 6,
   "metadata": {},
   "outputs": [],
   "source": [
    "vv_sample.to_parquet('data/VV_Q1_2025_sample.parquet')\n"
   ]
  },
  {
   "cell_type": "code",
   "execution_count": 48,
   "metadata": {},
   "outputs": [],
   "source": [
    "vv_sample = pd.read_parquet('data/VV_Q1_2025_sample.parquet')"
   ]
  },
  {
   "cell_type": "code",
   "execution_count": 3,
   "metadata": {},
   "outputs": [
    {
     "name": "stdout",
     "output_type": "stream",
     "text": [
      "103\n",
      "875\n",
      "2025-01-01 00:00:00\n",
      "2025-03-07 00:00:00\n"
     ]
    }
   ],
   "source": [
    "from visualization_factory import viz_factory"
   ]
  },
  {
   "cell_type": "code",
   "execution_count": 9,
   "metadata": {},
   "outputs": [
    {
     "name": "stdout",
     "output_type": "stream",
     "text": [
      "(100000, 33)\n",
      "Shape after timespan filter: (100000, 33)\n"
     ]
    }
   ],
   "source": [
    "sample_filter_data = {\n",
    "    'timespan': None,\n",
    "    'start_date': None,\n",
    "    'end_date': None,\n",
    "    'make': None,\n",
    "    'model': None,\n",
    "    'top_n': 10\n",
    "}\n",
    "\n",
    "fig, title = viz_factory.model_year_popularity(sample_filter_data)\n",
    "\n",
    "# fig, title = viz_factory.model_year_trends(sample_filter_data)\n",
    "\n",
    "\n"
   ]
  },
  {
   "cell_type": "code",
   "execution_count": 10,
   "metadata": {},
   "outputs": [
    {
     "data": {
      "text/plain": [
       "'Top 10 Model Years'"
      ]
     },
     "execution_count": 10,
     "metadata": {},
     "output_type": "execute_result"
    }
   ],
   "source": [
    "title"
   ]
  },
  {
   "cell_type": "code",
   "execution_count": 11,
   "metadata": {},
   "outputs": [
    {
     "data": {
      "application/vnd.plotly.v1+json": {
       "config": {
        "plotlyServerURL": "https://plot.ly"
       },
       "data": [
        {
         "hovertemplate": "ModelYear=%{x}<br>count=%{y}<extra></extra>",
         "legendgroup": "",
         "marker": {
          "color": "#636efa",
          "pattern": {
           "shape": ""
          }
         },
         "name": "",
         "orientation": "v",
         "showlegend": false,
         "textposition": "auto",
         "type": "bar",
         "x": {
          "bdata": "AAAAAACgn0AAAAAAAJyfQAAAAAAAkJ9AAAAAAACYn0AAAAAAAHyfQAAAAAAAgJ9AAAAAAACUn0AAAAAAAIyfQAAAAAAAhJ9AAAAAAACIn0A=",
          "dtype": "f8"
         },
         "xaxis": "x",
         "y": {
          "bdata": "pDGWLWEfBx7RHMYbxhi7GBUX6RY=",
          "dtype": "i2"
         },
         "yaxis": "y"
        }
       ],
       "layout": {
        "barmode": "relative",
        "legend": {
         "tracegroupgap": 0
        },
        "margin": {
         "t": 60
        },
        "template": {
         "data": {
          "bar": [
           {
            "error_x": {
             "color": "#2a3f5f"
            },
            "error_y": {
             "color": "#2a3f5f"
            },
            "marker": {
             "line": {
              "color": "#E5ECF6",
              "width": 0.5
             },
             "pattern": {
              "fillmode": "overlay",
              "size": 10,
              "solidity": 0.2
             }
            },
            "type": "bar"
           }
          ],
          "barpolar": [
           {
            "marker": {
             "line": {
              "color": "#E5ECF6",
              "width": 0.5
             },
             "pattern": {
              "fillmode": "overlay",
              "size": 10,
              "solidity": 0.2
             }
            },
            "type": "barpolar"
           }
          ],
          "carpet": [
           {
            "aaxis": {
             "endlinecolor": "#2a3f5f",
             "gridcolor": "white",
             "linecolor": "white",
             "minorgridcolor": "white",
             "startlinecolor": "#2a3f5f"
            },
            "baxis": {
             "endlinecolor": "#2a3f5f",
             "gridcolor": "white",
             "linecolor": "white",
             "minorgridcolor": "white",
             "startlinecolor": "#2a3f5f"
            },
            "type": "carpet"
           }
          ],
          "choropleth": [
           {
            "colorbar": {
             "outlinewidth": 0,
             "ticks": ""
            },
            "type": "choropleth"
           }
          ],
          "contour": [
           {
            "colorbar": {
             "outlinewidth": 0,
             "ticks": ""
            },
            "colorscale": [
             [
              0,
              "#0d0887"
             ],
             [
              0.1111111111111111,
              "#46039f"
             ],
             [
              0.2222222222222222,
              "#7201a8"
             ],
             [
              0.3333333333333333,
              "#9c179e"
             ],
             [
              0.4444444444444444,
              "#bd3786"
             ],
             [
              0.5555555555555556,
              "#d8576b"
             ],
             [
              0.6666666666666666,
              "#ed7953"
             ],
             [
              0.7777777777777778,
              "#fb9f3a"
             ],
             [
              0.8888888888888888,
              "#fdca26"
             ],
             [
              1,
              "#f0f921"
             ]
            ],
            "type": "contour"
           }
          ],
          "contourcarpet": [
           {
            "colorbar": {
             "outlinewidth": 0,
             "ticks": ""
            },
            "type": "contourcarpet"
           }
          ],
          "heatmap": [
           {
            "colorbar": {
             "outlinewidth": 0,
             "ticks": ""
            },
            "colorscale": [
             [
              0,
              "#0d0887"
             ],
             [
              0.1111111111111111,
              "#46039f"
             ],
             [
              0.2222222222222222,
              "#7201a8"
             ],
             [
              0.3333333333333333,
              "#9c179e"
             ],
             [
              0.4444444444444444,
              "#bd3786"
             ],
             [
              0.5555555555555556,
              "#d8576b"
             ],
             [
              0.6666666666666666,
              "#ed7953"
             ],
             [
              0.7777777777777778,
              "#fb9f3a"
             ],
             [
              0.8888888888888888,
              "#fdca26"
             ],
             [
              1,
              "#f0f921"
             ]
            ],
            "type": "heatmap"
           }
          ],
          "histogram": [
           {
            "marker": {
             "pattern": {
              "fillmode": "overlay",
              "size": 10,
              "solidity": 0.2
             }
            },
            "type": "histogram"
           }
          ],
          "histogram2d": [
           {
            "colorbar": {
             "outlinewidth": 0,
             "ticks": ""
            },
            "colorscale": [
             [
              0,
              "#0d0887"
             ],
             [
              0.1111111111111111,
              "#46039f"
             ],
             [
              0.2222222222222222,
              "#7201a8"
             ],
             [
              0.3333333333333333,
              "#9c179e"
             ],
             [
              0.4444444444444444,
              "#bd3786"
             ],
             [
              0.5555555555555556,
              "#d8576b"
             ],
             [
              0.6666666666666666,
              "#ed7953"
             ],
             [
              0.7777777777777778,
              "#fb9f3a"
             ],
             [
              0.8888888888888888,
              "#fdca26"
             ],
             [
              1,
              "#f0f921"
             ]
            ],
            "type": "histogram2d"
           }
          ],
          "histogram2dcontour": [
           {
            "colorbar": {
             "outlinewidth": 0,
             "ticks": ""
            },
            "colorscale": [
             [
              0,
              "#0d0887"
             ],
             [
              0.1111111111111111,
              "#46039f"
             ],
             [
              0.2222222222222222,
              "#7201a8"
             ],
             [
              0.3333333333333333,
              "#9c179e"
             ],
             [
              0.4444444444444444,
              "#bd3786"
             ],
             [
              0.5555555555555556,
              "#d8576b"
             ],
             [
              0.6666666666666666,
              "#ed7953"
             ],
             [
              0.7777777777777778,
              "#fb9f3a"
             ],
             [
              0.8888888888888888,
              "#fdca26"
             ],
             [
              1,
              "#f0f921"
             ]
            ],
            "type": "histogram2dcontour"
           }
          ],
          "mesh3d": [
           {
            "colorbar": {
             "outlinewidth": 0,
             "ticks": ""
            },
            "type": "mesh3d"
           }
          ],
          "parcoords": [
           {
            "line": {
             "colorbar": {
              "outlinewidth": 0,
              "ticks": ""
             }
            },
            "type": "parcoords"
           }
          ],
          "pie": [
           {
            "automargin": true,
            "type": "pie"
           }
          ],
          "scatter": [
           {
            "fillpattern": {
             "fillmode": "overlay",
             "size": 10,
             "solidity": 0.2
            },
            "type": "scatter"
           }
          ],
          "scatter3d": [
           {
            "line": {
             "colorbar": {
              "outlinewidth": 0,
              "ticks": ""
             }
            },
            "marker": {
             "colorbar": {
              "outlinewidth": 0,
              "ticks": ""
             }
            },
            "type": "scatter3d"
           }
          ],
          "scattercarpet": [
           {
            "marker": {
             "colorbar": {
              "outlinewidth": 0,
              "ticks": ""
             }
            },
            "type": "scattercarpet"
           }
          ],
          "scattergeo": [
           {
            "marker": {
             "colorbar": {
              "outlinewidth": 0,
              "ticks": ""
             }
            },
            "type": "scattergeo"
           }
          ],
          "scattergl": [
           {
            "marker": {
             "colorbar": {
              "outlinewidth": 0,
              "ticks": ""
             }
            },
            "type": "scattergl"
           }
          ],
          "scattermap": [
           {
            "marker": {
             "colorbar": {
              "outlinewidth": 0,
              "ticks": ""
             }
            },
            "type": "scattermap"
           }
          ],
          "scattermapbox": [
           {
            "marker": {
             "colorbar": {
              "outlinewidth": 0,
              "ticks": ""
             }
            },
            "type": "scattermapbox"
           }
          ],
          "scatterpolar": [
           {
            "marker": {
             "colorbar": {
              "outlinewidth": 0,
              "ticks": ""
             }
            },
            "type": "scatterpolar"
           }
          ],
          "scatterpolargl": [
           {
            "marker": {
             "colorbar": {
              "outlinewidth": 0,
              "ticks": ""
             }
            },
            "type": "scatterpolargl"
           }
          ],
          "scatterternary": [
           {
            "marker": {
             "colorbar": {
              "outlinewidth": 0,
              "ticks": ""
             }
            },
            "type": "scatterternary"
           }
          ],
          "surface": [
           {
            "colorbar": {
             "outlinewidth": 0,
             "ticks": ""
            },
            "colorscale": [
             [
              0,
              "#0d0887"
             ],
             [
              0.1111111111111111,
              "#46039f"
             ],
             [
              0.2222222222222222,
              "#7201a8"
             ],
             [
              0.3333333333333333,
              "#9c179e"
             ],
             [
              0.4444444444444444,
              "#bd3786"
             ],
             [
              0.5555555555555556,
              "#d8576b"
             ],
             [
              0.6666666666666666,
              "#ed7953"
             ],
             [
              0.7777777777777778,
              "#fb9f3a"
             ],
             [
              0.8888888888888888,
              "#fdca26"
             ],
             [
              1,
              "#f0f921"
             ]
            ],
            "type": "surface"
           }
          ],
          "table": [
           {
            "cells": {
             "fill": {
              "color": "#EBF0F8"
             },
             "line": {
              "color": "white"
             }
            },
            "header": {
             "fill": {
              "color": "#C8D4E3"
             },
             "line": {
              "color": "white"
             }
            },
            "type": "table"
           }
          ]
         },
         "layout": {
          "annotationdefaults": {
           "arrowcolor": "#2a3f5f",
           "arrowhead": 0,
           "arrowwidth": 1
          },
          "autotypenumbers": "strict",
          "coloraxis": {
           "colorbar": {
            "outlinewidth": 0,
            "ticks": ""
           }
          },
          "colorscale": {
           "diverging": [
            [
             0,
             "#8e0152"
            ],
            [
             0.1,
             "#c51b7d"
            ],
            [
             0.2,
             "#de77ae"
            ],
            [
             0.3,
             "#f1b6da"
            ],
            [
             0.4,
             "#fde0ef"
            ],
            [
             0.5,
             "#f7f7f7"
            ],
            [
             0.6,
             "#e6f5d0"
            ],
            [
             0.7,
             "#b8e186"
            ],
            [
             0.8,
             "#7fbc41"
            ],
            [
             0.9,
             "#4d9221"
            ],
            [
             1,
             "#276419"
            ]
           ],
           "sequential": [
            [
             0,
             "#0d0887"
            ],
            [
             0.1111111111111111,
             "#46039f"
            ],
            [
             0.2222222222222222,
             "#7201a8"
            ],
            [
             0.3333333333333333,
             "#9c179e"
            ],
            [
             0.4444444444444444,
             "#bd3786"
            ],
            [
             0.5555555555555556,
             "#d8576b"
            ],
            [
             0.6666666666666666,
             "#ed7953"
            ],
            [
             0.7777777777777778,
             "#fb9f3a"
            ],
            [
             0.8888888888888888,
             "#fdca26"
            ],
            [
             1,
             "#f0f921"
            ]
           ],
           "sequentialminus": [
            [
             0,
             "#0d0887"
            ],
            [
             0.1111111111111111,
             "#46039f"
            ],
            [
             0.2222222222222222,
             "#7201a8"
            ],
            [
             0.3333333333333333,
             "#9c179e"
            ],
            [
             0.4444444444444444,
             "#bd3786"
            ],
            [
             0.5555555555555556,
             "#d8576b"
            ],
            [
             0.6666666666666666,
             "#ed7953"
            ],
            [
             0.7777777777777778,
             "#fb9f3a"
            ],
            [
             0.8888888888888888,
             "#fdca26"
            ],
            [
             1,
             "#f0f921"
            ]
           ]
          },
          "colorway": [
           "#636efa",
           "#EF553B",
           "#00cc96",
           "#ab63fa",
           "#FFA15A",
           "#19d3f3",
           "#FF6692",
           "#B6E880",
           "#FF97FF",
           "#FECB52"
          ],
          "font": {
           "color": "#2a3f5f"
          },
          "geo": {
           "bgcolor": "white",
           "lakecolor": "white",
           "landcolor": "#E5ECF6",
           "showlakes": true,
           "showland": true,
           "subunitcolor": "white"
          },
          "hoverlabel": {
           "align": "left"
          },
          "hovermode": "closest",
          "mapbox": {
           "style": "light"
          },
          "paper_bgcolor": "white",
          "plot_bgcolor": "#E5ECF6",
          "polar": {
           "angularaxis": {
            "gridcolor": "white",
            "linecolor": "white",
            "ticks": ""
           },
           "bgcolor": "#E5ECF6",
           "radialaxis": {
            "gridcolor": "white",
            "linecolor": "white",
            "ticks": ""
           }
          },
          "scene": {
           "xaxis": {
            "backgroundcolor": "#E5ECF6",
            "gridcolor": "white",
            "gridwidth": 2,
            "linecolor": "white",
            "showbackground": true,
            "ticks": "",
            "zerolinecolor": "white"
           },
           "yaxis": {
            "backgroundcolor": "#E5ECF6",
            "gridcolor": "white",
            "gridwidth": 2,
            "linecolor": "white",
            "showbackground": true,
            "ticks": "",
            "zerolinecolor": "white"
           },
           "zaxis": {
            "backgroundcolor": "#E5ECF6",
            "gridcolor": "white",
            "gridwidth": 2,
            "linecolor": "white",
            "showbackground": true,
            "ticks": "",
            "zerolinecolor": "white"
           }
          },
          "shapedefaults": {
           "line": {
            "color": "#2a3f5f"
           }
          },
          "ternary": {
           "aaxis": {
            "gridcolor": "white",
            "linecolor": "white",
            "ticks": ""
           },
           "baxis": {
            "gridcolor": "white",
            "linecolor": "white",
            "ticks": ""
           },
           "bgcolor": "#E5ECF6",
           "caxis": {
            "gridcolor": "white",
            "linecolor": "white",
            "ticks": ""
           }
          },
          "title": {
           "x": 0.05
          },
          "xaxis": {
           "automargin": true,
           "gridcolor": "white",
           "linecolor": "white",
           "ticks": "",
           "title": {
            "standoff": 15
           },
           "zerolinecolor": "white",
           "zerolinewidth": 2
          },
          "yaxis": {
           "automargin": true,
           "gridcolor": "white",
           "linecolor": "white",
           "ticks": "",
           "title": {
            "standoff": 15
           },
           "zerolinecolor": "white",
           "zerolinewidth": 2
          }
         }
        },
        "xaxis": {
         "anchor": "y",
         "domain": [
          0,
          1
         ],
         "title": {
          "text": "ModelYear"
         }
        },
        "yaxis": {
         "anchor": "x",
         "domain": [
          0,
          1
         ],
         "title": {
          "text": "count"
         }
        }
       }
      }
     },
     "metadata": {},
     "output_type": "display_data"
    }
   ],
   "source": [
    "fig.show()"
   ]
  },
  {
   "cell_type": "code",
   "execution_count": 3,
   "metadata": {},
   "outputs": [],
   "source": [
    "all_makes = vv.Make.unique().tolist()\n"
   ]
  },
  {
   "cell_type": "code",
   "execution_count": 4,
   "metadata": {},
   "outputs": [
    {
     "data": {
      "text/plain": [
       "['MERCEDES BENZ',\n",
       " 'BMW',\n",
       " 'HONDA',\n",
       " 'MG',\n",
       " 'RENAULT',\n",
       " 'CHEVROLET',\n",
       " 'TOYOTA',\n",
       " 'LEXUS',\n",
       " None,\n",
       " 'MITSUBISHI',\n",
       " 'NISSAN',\n",
       " 'HYUNDAI',\n",
       " 'GMC',\n",
       " 'FORD',\n",
       " 'KIA',\n",
       " 'JEEP',\n",
       " 'LAND ROVER',\n",
       " 'POLESTAR',\n",
       " 'MAZDA',\n",
       " 'SUZUKI',\n",
       " 'DODGE',\n",
       " 'VOLKSWAGEN',\n",
       " 'AUDI',\n",
       " 'PORSCHE',\n",
       " 'VICTORY',\n",
       " 'BESTUNE',\n",
       " 'CHANGAN',\n",
       " 'INFINITI',\n",
       " 'GEELY',\n",
       " 'VOLVO',\n",
       " 'JAGUAR',\n",
       " 'TESLA',\n",
       " 'GAC',\n",
       " 'SKODA',\n",
       " 'JAC',\n",
       " 'MASERATI',\n",
       " 'ISUZU',\n",
       " 'MINI',\n",
       " 'CADILLAC',\n",
       " 'LINCOLN',\n",
       " 'PEUGEOT',\n",
       " 'CHERY',\n",
       " 'HUMMER',\n",
       " 'BYD',\n",
       " 'ROLLS ROYCE',\n",
       " 'JETOUR',\n",
       " 'GREAT WALL',\n",
       " 'RABDAN',\n",
       " 'CHRYSLER',\n",
       " 'HONGQI',\n",
       " 'DONGFENG',\n",
       " 'LAMBORGHINI',\n",
       " 'TATA',\n",
       " 'SUBARU',\n",
       " 'HAVAL',\n",
       " 'INEOS',\n",
       " 'MAHINDRA',\n",
       " 'ASHOK LEYLAND',\n",
       " 'CITROEN',\n",
       " 'ASTON MARTIN',\n",
       " 'ROX',\n",
       " 'KAIYI',\n",
       " 'FIAT',\n",
       " 'BENTLEY',\n",
       " 'OPEL',\n",
       " 'SKYWELL ',\n",
       " 'HINO',\n",
       " 'MAXUS',\n",
       " 'CMC',\n",
       " 'ABARTH',\n",
       " 'BAIC',\n",
       " 'ZNA',\n",
       " 'EXEED',\n",
       " 'ALFA ROMEO',\n",
       " 'FERRARI',\n",
       " 'JMC',\n",
       " 'ZEEKR',\n",
       " 'AVATR',\n",
       " 'LIXIANG',\n",
       " 'LUXGEN',\n",
       " 'VOYAH',\n",
       " 'DFSK',\n",
       " 'DAIHATSU',\n",
       " 'BUGATTI',\n",
       " 'SMART',\n",
       " 'KING LONG',\n",
       " 'FOTON',\n",
       " 'LOTUS',\n",
       " 'MAYBACH',\n",
       " 'PONTIAC',\n",
       " 'BAJAJ',\n",
       " 'VGV',\n",
       " 'MERCURY',\n",
       " 'ALPINE',\n",
       " 'MCLAREN',\n",
       " 'SEAT',\n",
       " 'SOUEAST',\n",
       " 'BRILLIANCE',\n",
       " 'HUAWEI',\n",
       " 'RIVIAN',\n",
       " 'FORTHING',\n",
       " 'DORCEN',\n",
       " 'KTM',\n",
       " 'SAAB',\n",
       " 'SCION',\n",
       " 'PROTON',\n",
       " 'HERO',\n",
       " 'BAW',\n",
       " 'BORGWARD',\n",
       " 'PAGANI',\n",
       " 'FISKER',\n",
       " 'LEAPMOTOR',\n",
       " 'ACURA',\n",
       " 'SSANGYONG',\n",
       " 'XIAOMI',\n",
       " 'UAZ',\n",
       " 'NIO',\n",
       " 'XPENG',\n",
       " 'AL DAMANI',\n",
       " 'YUTONG',\n",
       " 'JINBEI',\n",
       " 'ZOTYE',\n",
       " 'LUCID',\n",
       " 'NWTN',\n",
       " 'LADA']"
      ]
     },
     "execution_count": 4,
     "metadata": {},
     "output_type": "execute_result"
    }
   ],
   "source": [
    "all_makes"
   ]
  },
  {
   "cell_type": "code",
   "execution_count": 50,
   "metadata": {},
   "outputs": [],
   "source": [
    "\n",
    "vv_sample['PriceBracket'] = pd.cut(vv_sample['Price'],\n",
    "                            bins=[0, 50000, 100000, 250000,\n",
    "                                  500000, 1000000, float('inf')],\n",
    "                            labels=['<50K', '50K to 100K', '100K to 250K', '250K to 500K', '500K to 1M', '>1M'])"
   ]
  },
  {
   "cell_type": "code",
   "execution_count": 52,
   "metadata": {},
   "outputs": [],
   "source": [
    "top_makes = vv_sample['Make'].value_counts().head(10).index.tolist()\n"
   ]
  },
  {
   "cell_type": "code",
   "execution_count": 57,
   "metadata": {},
   "outputs": [
    {
     "name": "stderr",
     "output_type": "stream",
     "text": [
      "C:\\Users\\Mohammed Ali\\AppData\\Local\\Temp\\ipykernel_40032\\1520776884.py:1: FutureWarning: The default value of observed=False is deprecated and will change to observed=True in a future version of pandas. Specify observed=False to silence this warning and retain the current behavior\n",
      "  make_price_pivot = vv_sample[vv_sample['Make'].isin(top_makes)].pivot_table(index='Make', columns='PriceBracket', values='Price', aggfunc='count')\n"
     ]
    },
    {
     "data": {
      "text/html": [
       "<div>\n",
       "<style scoped>\n",
       "    .dataframe tbody tr th:only-of-type {\n",
       "        vertical-align: middle;\n",
       "    }\n",
       "\n",
       "    .dataframe tbody tr th {\n",
       "        vertical-align: top;\n",
       "    }\n",
       "\n",
       "    .dataframe thead th {\n",
       "        text-align: right;\n",
       "    }\n",
       "</style>\n",
       "<table border=\"1\" class=\"dataframe\">\n",
       "  <thead>\n",
       "    <tr style=\"text-align: right;\">\n",
       "      <th>PriceBracket</th>\n",
       "      <th>&lt;50K</th>\n",
       "      <th>50K to 100K</th>\n",
       "      <th>100K to 250K</th>\n",
       "      <th>250K to 500K</th>\n",
       "      <th>500K to 1M</th>\n",
       "      <th>&gt;1M</th>\n",
       "    </tr>\n",
       "    <tr>\n",
       "      <th>Make</th>\n",
       "      <th></th>\n",
       "      <th></th>\n",
       "      <th></th>\n",
       "      <th></th>\n",
       "      <th></th>\n",
       "      <th></th>\n",
       "    </tr>\n",
       "  </thead>\n",
       "  <tbody>\n",
       "    <tr>\n",
       "      <th>BMW</th>\n",
       "      <td>15.0</td>\n",
       "      <td>21.0</td>\n",
       "      <td>40.0</td>\n",
       "      <td>22.0</td>\n",
       "      <td>2.0</td>\n",
       "      <td>0.0</td>\n",
       "    </tr>\n",
       "    <tr>\n",
       "      <th>HONDA</th>\n",
       "      <td>67.0</td>\n",
       "      <td>27.0</td>\n",
       "      <td>6.0</td>\n",
       "      <td>0.0</td>\n",
       "      <td>0.0</td>\n",
       "      <td>0.0</td>\n",
       "    </tr>\n",
       "    <tr>\n",
       "      <th>HYUNDAI</th>\n",
       "      <td>63.0</td>\n",
       "      <td>25.0</td>\n",
       "      <td>11.0</td>\n",
       "      <td>1.0</td>\n",
       "      <td>0.0</td>\n",
       "      <td>0.0</td>\n",
       "    </tr>\n",
       "    <tr>\n",
       "      <th>KIA</th>\n",
       "      <td>53.0</td>\n",
       "      <td>37.0</td>\n",
       "      <td>11.0</td>\n",
       "      <td>0.0</td>\n",
       "      <td>0.0</td>\n",
       "      <td>0.0</td>\n",
       "    </tr>\n",
       "    <tr>\n",
       "      <th>LAND ROVER</th>\n",
       "      <td>4.0</td>\n",
       "      <td>11.0</td>\n",
       "      <td>32.0</td>\n",
       "      <td>29.0</td>\n",
       "      <td>23.0</td>\n",
       "      <td>0.0</td>\n",
       "    </tr>\n",
       "    <tr>\n",
       "      <th>LEXUS</th>\n",
       "      <td>22.0</td>\n",
       "      <td>19.0</td>\n",
       "      <td>43.0</td>\n",
       "      <td>15.0</td>\n",
       "      <td>1.0</td>\n",
       "      <td>0.0</td>\n",
       "    </tr>\n",
       "    <tr>\n",
       "      <th>MERCEDES BENZ</th>\n",
       "      <td>7.0</td>\n",
       "      <td>22.0</td>\n",
       "      <td>44.0</td>\n",
       "      <td>16.0</td>\n",
       "      <td>9.0</td>\n",
       "      <td>1.0</td>\n",
       "    </tr>\n",
       "    <tr>\n",
       "      <th>MITSUBISHI</th>\n",
       "      <td>72.0</td>\n",
       "      <td>25.0</td>\n",
       "      <td>3.0</td>\n",
       "      <td>0.0</td>\n",
       "      <td>0.0</td>\n",
       "      <td>0.0</td>\n",
       "    </tr>\n",
       "    <tr>\n",
       "      <th>NISSAN</th>\n",
       "      <td>45.0</td>\n",
       "      <td>21.0</td>\n",
       "      <td>26.0</td>\n",
       "      <td>7.0</td>\n",
       "      <td>0.0</td>\n",
       "      <td>0.0</td>\n",
       "    </tr>\n",
       "    <tr>\n",
       "      <th>TOYOTA</th>\n",
       "      <td>40.0</td>\n",
       "      <td>27.0</td>\n",
       "      <td>26.0</td>\n",
       "      <td>6.0</td>\n",
       "      <td>0.0</td>\n",
       "      <td>0.0</td>\n",
       "    </tr>\n",
       "  </tbody>\n",
       "</table>\n",
       "</div>"
      ],
      "text/plain": [
       "PriceBracket   <50K  50K to 100K  100K to 250K  250K to 500K  500K to 1M  >1M\n",
       "Make                                                                         \n",
       "BMW            15.0         21.0          40.0          22.0         2.0  0.0\n",
       "HONDA          67.0         27.0           6.0           0.0         0.0  0.0\n",
       "HYUNDAI        63.0         25.0          11.0           1.0         0.0  0.0\n",
       "KIA            53.0         37.0          11.0           0.0         0.0  0.0\n",
       "LAND ROVER      4.0         11.0          32.0          29.0        23.0  0.0\n",
       "LEXUS          22.0         19.0          43.0          15.0         1.0  0.0\n",
       "MERCEDES BENZ   7.0         22.0          44.0          16.0         9.0  1.0\n",
       "MITSUBISHI     72.0         25.0           3.0           0.0         0.0  0.0\n",
       "NISSAN         45.0         21.0          26.0           7.0         0.0  0.0\n",
       "TOYOTA         40.0         27.0          26.0           6.0         0.0  0.0"
      ]
     },
     "execution_count": 57,
     "metadata": {},
     "output_type": "execute_result"
    }
   ],
   "source": [
    "make_price_pivot = vv_sample[vv_sample['Make'].isin(top_makes)].pivot_table(index='Make', columns='PriceBracket', values='Price', aggfunc='count')\n",
    "total = make_price_pivot.sum(axis=1)\n",
    "make_price_pivot = make_price_pivot.div(total, axis=0)\n",
    "# percentage round to 2 decimal places\n",
    "make_price_pivot = make_price_pivot.round(2)\n",
    "make_price_pivot = make_price_pivot * 100\n",
    "make_price_pivot.fillna(0, inplace=True)\n",
    "make_price_pivot.head(10)\n",
    "\n",
    "\n",
    "\n"
   ]
  },
  {
   "cell_type": "code",
   "execution_count": 65,
   "metadata": {},
   "outputs": [
    {
     "data": {
      "application/vnd.plotly.v1+json": {
       "config": {
        "plotlyServerURL": "https://plot.ly"
       },
       "data": [
        {
         "coloraxis": "coloraxis",
         "hovertemplate": "PriceBracket: %{x}<br>Make: %{y}<br>color: %{z}<extra></extra>",
         "name": "0",
         "texttemplate": "%{z}",
         "type": "heatmap",
         "x": [
          "<50K",
          "50K to 100K",
          "100K to 250K",
          "250K to 500K",
          "500K to 1M",
          ">1M"
         ],
         "xaxis": "x",
         "y": [
          "BMW",
          "HONDA",
          "HYUNDAI",
          "KIA",
          "LAND ROVER",
          "LEXUS",
          "MERCEDES BENZ",
          "MITSUBISHI",
          "NISSAN",
          "TOYOTA"
         ],
         "yaxis": "y",
         "z": {
          "bdata": "AAAAAAAALkAAAAAAAAA1QAAAAAAAAERAAAAAAAAANkAAAAAAAAAAQAAAAAAAAAAAAAAAAADAUEAAAAAAAAA7QAAAAAAAABhAAAAAAAAAAAAAAAAAAAAAAAAAAAAAAAAAAAAAAACAT0AAAAAAAAA5QAAAAAAAACZAAAAAAAAA8D8AAAAAAAAAAAAAAAAAAAAAAAAAAACASkAAAAAAAIBCQAAAAAAAACZAAAAAAAAAAAAAAAAAAAAAAAAAAAAAAAAAAAAAAAAAEEAAAAAAAAAmQAAAAAAAAEBA////////PEAAAAAAAAA3QAAAAAAAAAAAAAAAAAAANkAAAAAAAAAzQAAAAAAAgEVAAAAAAAAALkAAAAAAAADwPwAAAAAAAAAAAQAAAAAAHEAAAAAAAAA2QAAAAAAAAEZAAAAAAAAAMEAAAAAAAAAiQAAAAAAAAPA/AAAAAAAAUkAAAAAAAAA5QAAAAAAAAAhAAAAAAAAAAAAAAAAAAAAAAAAAAAAAAAAAAAAAAACARkAAAAAAAAA1QAAAAAAAADpAAQAAAAAAHEAAAAAAAAAAAAAAAAAAAAAAAAAAAAAAREAAAAAAAAA7QAAAAAAAADpAAAAAAAAAGEAAAAAAAAAAAAAAAAAAAAAA",
          "dtype": "f8",
          "shape": "10, 6"
         }
        }
       ],
       "layout": {
        "coloraxis": {
         "colorscale": [
          [
           0,
           "rgb(247,251,255)"
          ],
          [
           0.125,
           "rgb(222,235,247)"
          ],
          [
           0.25,
           "rgb(198,219,239)"
          ],
          [
           0.375,
           "rgb(158,202,225)"
          ],
          [
           0.5,
           "rgb(107,174,214)"
          ],
          [
           0.625,
           "rgb(66,146,198)"
          ],
          [
           0.75,
           "rgb(33,113,181)"
          ],
          [
           0.875,
           "rgb(8,81,156)"
          ],
          [
           1,
           "rgb(8,48,107)"
          ]
         ]
        },
        "margin": {
         "t": 60
        },
        "template": {
         "data": {
          "bar": [
           {
            "error_x": {
             "color": "#2a3f5f"
            },
            "error_y": {
             "color": "#2a3f5f"
            },
            "marker": {
             "line": {
              "color": "#E5ECF6",
              "width": 0.5
             },
             "pattern": {
              "fillmode": "overlay",
              "size": 10,
              "solidity": 0.2
             }
            },
            "type": "bar"
           }
          ],
          "barpolar": [
           {
            "marker": {
             "line": {
              "color": "#E5ECF6",
              "width": 0.5
             },
             "pattern": {
              "fillmode": "overlay",
              "size": 10,
              "solidity": 0.2
             }
            },
            "type": "barpolar"
           }
          ],
          "carpet": [
           {
            "aaxis": {
             "endlinecolor": "#2a3f5f",
             "gridcolor": "white",
             "linecolor": "white",
             "minorgridcolor": "white",
             "startlinecolor": "#2a3f5f"
            },
            "baxis": {
             "endlinecolor": "#2a3f5f",
             "gridcolor": "white",
             "linecolor": "white",
             "minorgridcolor": "white",
             "startlinecolor": "#2a3f5f"
            },
            "type": "carpet"
           }
          ],
          "choropleth": [
           {
            "colorbar": {
             "outlinewidth": 0,
             "ticks": ""
            },
            "type": "choropleth"
           }
          ],
          "contour": [
           {
            "colorbar": {
             "outlinewidth": 0,
             "ticks": ""
            },
            "colorscale": [
             [
              0,
              "#0d0887"
             ],
             [
              0.1111111111111111,
              "#46039f"
             ],
             [
              0.2222222222222222,
              "#7201a8"
             ],
             [
              0.3333333333333333,
              "#9c179e"
             ],
             [
              0.4444444444444444,
              "#bd3786"
             ],
             [
              0.5555555555555556,
              "#d8576b"
             ],
             [
              0.6666666666666666,
              "#ed7953"
             ],
             [
              0.7777777777777778,
              "#fb9f3a"
             ],
             [
              0.8888888888888888,
              "#fdca26"
             ],
             [
              1,
              "#f0f921"
             ]
            ],
            "type": "contour"
           }
          ],
          "contourcarpet": [
           {
            "colorbar": {
             "outlinewidth": 0,
             "ticks": ""
            },
            "type": "contourcarpet"
           }
          ],
          "heatmap": [
           {
            "colorbar": {
             "outlinewidth": 0,
             "ticks": ""
            },
            "colorscale": [
             [
              0,
              "#0d0887"
             ],
             [
              0.1111111111111111,
              "#46039f"
             ],
             [
              0.2222222222222222,
              "#7201a8"
             ],
             [
              0.3333333333333333,
              "#9c179e"
             ],
             [
              0.4444444444444444,
              "#bd3786"
             ],
             [
              0.5555555555555556,
              "#d8576b"
             ],
             [
              0.6666666666666666,
              "#ed7953"
             ],
             [
              0.7777777777777778,
              "#fb9f3a"
             ],
             [
              0.8888888888888888,
              "#fdca26"
             ],
             [
              1,
              "#f0f921"
             ]
            ],
            "type": "heatmap"
           }
          ],
          "histogram": [
           {
            "marker": {
             "pattern": {
              "fillmode": "overlay",
              "size": 10,
              "solidity": 0.2
             }
            },
            "type": "histogram"
           }
          ],
          "histogram2d": [
           {
            "colorbar": {
             "outlinewidth": 0,
             "ticks": ""
            },
            "colorscale": [
             [
              0,
              "#0d0887"
             ],
             [
              0.1111111111111111,
              "#46039f"
             ],
             [
              0.2222222222222222,
              "#7201a8"
             ],
             [
              0.3333333333333333,
              "#9c179e"
             ],
             [
              0.4444444444444444,
              "#bd3786"
             ],
             [
              0.5555555555555556,
              "#d8576b"
             ],
             [
              0.6666666666666666,
              "#ed7953"
             ],
             [
              0.7777777777777778,
              "#fb9f3a"
             ],
             [
              0.8888888888888888,
              "#fdca26"
             ],
             [
              1,
              "#f0f921"
             ]
            ],
            "type": "histogram2d"
           }
          ],
          "histogram2dcontour": [
           {
            "colorbar": {
             "outlinewidth": 0,
             "ticks": ""
            },
            "colorscale": [
             [
              0,
              "#0d0887"
             ],
             [
              0.1111111111111111,
              "#46039f"
             ],
             [
              0.2222222222222222,
              "#7201a8"
             ],
             [
              0.3333333333333333,
              "#9c179e"
             ],
             [
              0.4444444444444444,
              "#bd3786"
             ],
             [
              0.5555555555555556,
              "#d8576b"
             ],
             [
              0.6666666666666666,
              "#ed7953"
             ],
             [
              0.7777777777777778,
              "#fb9f3a"
             ],
             [
              0.8888888888888888,
              "#fdca26"
             ],
             [
              1,
              "#f0f921"
             ]
            ],
            "type": "histogram2dcontour"
           }
          ],
          "mesh3d": [
           {
            "colorbar": {
             "outlinewidth": 0,
             "ticks": ""
            },
            "type": "mesh3d"
           }
          ],
          "parcoords": [
           {
            "line": {
             "colorbar": {
              "outlinewidth": 0,
              "ticks": ""
             }
            },
            "type": "parcoords"
           }
          ],
          "pie": [
           {
            "automargin": true,
            "type": "pie"
           }
          ],
          "scatter": [
           {
            "fillpattern": {
             "fillmode": "overlay",
             "size": 10,
             "solidity": 0.2
            },
            "type": "scatter"
           }
          ],
          "scatter3d": [
           {
            "line": {
             "colorbar": {
              "outlinewidth": 0,
              "ticks": ""
             }
            },
            "marker": {
             "colorbar": {
              "outlinewidth": 0,
              "ticks": ""
             }
            },
            "type": "scatter3d"
           }
          ],
          "scattercarpet": [
           {
            "marker": {
             "colorbar": {
              "outlinewidth": 0,
              "ticks": ""
             }
            },
            "type": "scattercarpet"
           }
          ],
          "scattergeo": [
           {
            "marker": {
             "colorbar": {
              "outlinewidth": 0,
              "ticks": ""
             }
            },
            "type": "scattergeo"
           }
          ],
          "scattergl": [
           {
            "marker": {
             "colorbar": {
              "outlinewidth": 0,
              "ticks": ""
             }
            },
            "type": "scattergl"
           }
          ],
          "scattermap": [
           {
            "marker": {
             "colorbar": {
              "outlinewidth": 0,
              "ticks": ""
             }
            },
            "type": "scattermap"
           }
          ],
          "scattermapbox": [
           {
            "marker": {
             "colorbar": {
              "outlinewidth": 0,
              "ticks": ""
             }
            },
            "type": "scattermapbox"
           }
          ],
          "scatterpolar": [
           {
            "marker": {
             "colorbar": {
              "outlinewidth": 0,
              "ticks": ""
             }
            },
            "type": "scatterpolar"
           }
          ],
          "scatterpolargl": [
           {
            "marker": {
             "colorbar": {
              "outlinewidth": 0,
              "ticks": ""
             }
            },
            "type": "scatterpolargl"
           }
          ],
          "scatterternary": [
           {
            "marker": {
             "colorbar": {
              "outlinewidth": 0,
              "ticks": ""
             }
            },
            "type": "scatterternary"
           }
          ],
          "surface": [
           {
            "colorbar": {
             "outlinewidth": 0,
             "ticks": ""
            },
            "colorscale": [
             [
              0,
              "#0d0887"
             ],
             [
              0.1111111111111111,
              "#46039f"
             ],
             [
              0.2222222222222222,
              "#7201a8"
             ],
             [
              0.3333333333333333,
              "#9c179e"
             ],
             [
              0.4444444444444444,
              "#bd3786"
             ],
             [
              0.5555555555555556,
              "#d8576b"
             ],
             [
              0.6666666666666666,
              "#ed7953"
             ],
             [
              0.7777777777777778,
              "#fb9f3a"
             ],
             [
              0.8888888888888888,
              "#fdca26"
             ],
             [
              1,
              "#f0f921"
             ]
            ],
            "type": "surface"
           }
          ],
          "table": [
           {
            "cells": {
             "fill": {
              "color": "#EBF0F8"
             },
             "line": {
              "color": "white"
             }
            },
            "header": {
             "fill": {
              "color": "#C8D4E3"
             },
             "line": {
              "color": "white"
             }
            },
            "type": "table"
           }
          ]
         },
         "layout": {
          "annotationdefaults": {
           "arrowcolor": "#2a3f5f",
           "arrowhead": 0,
           "arrowwidth": 1
          },
          "autotypenumbers": "strict",
          "coloraxis": {
           "colorbar": {
            "outlinewidth": 0,
            "ticks": ""
           }
          },
          "colorscale": {
           "diverging": [
            [
             0,
             "#8e0152"
            ],
            [
             0.1,
             "#c51b7d"
            ],
            [
             0.2,
             "#de77ae"
            ],
            [
             0.3,
             "#f1b6da"
            ],
            [
             0.4,
             "#fde0ef"
            ],
            [
             0.5,
             "#f7f7f7"
            ],
            [
             0.6,
             "#e6f5d0"
            ],
            [
             0.7,
             "#b8e186"
            ],
            [
             0.8,
             "#7fbc41"
            ],
            [
             0.9,
             "#4d9221"
            ],
            [
             1,
             "#276419"
            ]
           ],
           "sequential": [
            [
             0,
             "#0d0887"
            ],
            [
             0.1111111111111111,
             "#46039f"
            ],
            [
             0.2222222222222222,
             "#7201a8"
            ],
            [
             0.3333333333333333,
             "#9c179e"
            ],
            [
             0.4444444444444444,
             "#bd3786"
            ],
            [
             0.5555555555555556,
             "#d8576b"
            ],
            [
             0.6666666666666666,
             "#ed7953"
            ],
            [
             0.7777777777777778,
             "#fb9f3a"
            ],
            [
             0.8888888888888888,
             "#fdca26"
            ],
            [
             1,
             "#f0f921"
            ]
           ],
           "sequentialminus": [
            [
             0,
             "#0d0887"
            ],
            [
             0.1111111111111111,
             "#46039f"
            ],
            [
             0.2222222222222222,
             "#7201a8"
            ],
            [
             0.3333333333333333,
             "#9c179e"
            ],
            [
             0.4444444444444444,
             "#bd3786"
            ],
            [
             0.5555555555555556,
             "#d8576b"
            ],
            [
             0.6666666666666666,
             "#ed7953"
            ],
            [
             0.7777777777777778,
             "#fb9f3a"
            ],
            [
             0.8888888888888888,
             "#fdca26"
            ],
            [
             1,
             "#f0f921"
            ]
           ]
          },
          "colorway": [
           "#636efa",
           "#EF553B",
           "#00cc96",
           "#ab63fa",
           "#FFA15A",
           "#19d3f3",
           "#FF6692",
           "#B6E880",
           "#FF97FF",
           "#FECB52"
          ],
          "font": {
           "color": "#2a3f5f"
          },
          "geo": {
           "bgcolor": "white",
           "lakecolor": "white",
           "landcolor": "#E5ECF6",
           "showlakes": true,
           "showland": true,
           "subunitcolor": "white"
          },
          "hoverlabel": {
           "align": "left"
          },
          "hovermode": "closest",
          "mapbox": {
           "style": "light"
          },
          "paper_bgcolor": "white",
          "plot_bgcolor": "#E5ECF6",
          "polar": {
           "angularaxis": {
            "gridcolor": "white",
            "linecolor": "white",
            "ticks": ""
           },
           "bgcolor": "#E5ECF6",
           "radialaxis": {
            "gridcolor": "white",
            "linecolor": "white",
            "ticks": ""
           }
          },
          "scene": {
           "xaxis": {
            "backgroundcolor": "#E5ECF6",
            "gridcolor": "white",
            "gridwidth": 2,
            "linecolor": "white",
            "showbackground": true,
            "ticks": "",
            "zerolinecolor": "white"
           },
           "yaxis": {
            "backgroundcolor": "#E5ECF6",
            "gridcolor": "white",
            "gridwidth": 2,
            "linecolor": "white",
            "showbackground": true,
            "ticks": "",
            "zerolinecolor": "white"
           },
           "zaxis": {
            "backgroundcolor": "#E5ECF6",
            "gridcolor": "white",
            "gridwidth": 2,
            "linecolor": "white",
            "showbackground": true,
            "ticks": "",
            "zerolinecolor": "white"
           }
          },
          "shapedefaults": {
           "line": {
            "color": "#2a3f5f"
           }
          },
          "ternary": {
           "aaxis": {
            "gridcolor": "white",
            "linecolor": "white",
            "ticks": ""
           },
           "baxis": {
            "gridcolor": "white",
            "linecolor": "white",
            "ticks": ""
           },
           "bgcolor": "#E5ECF6",
           "caxis": {
            "gridcolor": "white",
            "linecolor": "white",
            "ticks": ""
           }
          },
          "title": {
           "x": 0.05
          },
          "xaxis": {
           "automargin": true,
           "gridcolor": "white",
           "linecolor": "white",
           "ticks": "",
           "title": {
            "standoff": 15
           },
           "zerolinecolor": "white",
           "zerolinewidth": 2
          },
          "yaxis": {
           "automargin": true,
           "gridcolor": "white",
           "linecolor": "white",
           "ticks": "",
           "title": {
            "standoff": 15
           },
           "zerolinecolor": "white",
           "zerolinewidth": 2
          }
         }
        },
        "xaxis": {
         "anchor": "y",
         "domain": [
          0,
          1
         ],
         "side": "top",
         "title": {
          "text": "PriceBracket"
         }
        },
        "yaxis": {
         "anchor": "x",
         "autorange": "reversed",
         "domain": [
          0,
          1
         ],
         "title": {
          "text": "Make"
         }
        }
       }
      }
     },
     "metadata": {},
     "output_type": "display_data"
    }
   ],
   "source": [
    "import plotly.express as px\n",
    "\n",
    "\n",
    "fig = px.imshow(make_price_pivot, aspect='auto', text_auto=True, color_continuous_scale='Blues')\n",
    "fig.update_xaxes(side='top')\n",
    "# format values as percentage\n",
    "fig.show()\n",
    "\n",
    "\n",
    "\n",
    "\n",
    "\n"
   ]
  },
  {
   "cell_type": "code",
   "execution_count": 70,
   "metadata": {},
   "outputs": [
    {
     "data": {
      "text/html": [
       "<div>\n",
       "<style scoped>\n",
       "    .dataframe tbody tr th:only-of-type {\n",
       "        vertical-align: middle;\n",
       "    }\n",
       "\n",
       "    .dataframe tbody tr th {\n",
       "        vertical-align: top;\n",
       "    }\n",
       "\n",
       "    .dataframe thead th {\n",
       "        text-align: right;\n",
       "    }\n",
       "</style>\n",
       "<table border=\"1\" class=\"dataframe\">\n",
       "  <thead>\n",
       "    <tr style=\"text-align: right;\">\n",
       "      <th></th>\n",
       "      <th>InquiryId</th>\n",
       "      <th>InquiryTypeID</th>\n",
       "      <th>InquiryTypeShortName</th>\n",
       "      <th>CompanyID</th>\n",
       "      <th>CompanyName</th>\n",
       "      <th>CarPark</th>\n",
       "      <th>UserID</th>\n",
       "      <th>UserName</th>\n",
       "      <th>Name</th>\n",
       "      <th>VIN</th>\n",
       "      <th>...</th>\n",
       "      <th>IsSuccessful</th>\n",
       "      <th>IsPaid</th>\n",
       "      <th>CallerCode</th>\n",
       "      <th>IsNewVehicle</th>\n",
       "      <th>IPAddress</th>\n",
       "      <th>ValuationDate</th>\n",
       "      <th>CountryCode</th>\n",
       "      <th>ValuationType</th>\n",
       "      <th>RegionId</th>\n",
       "      <th>PriceBracket</th>\n",
       "    </tr>\n",
       "  </thead>\n",
       "  <tbody>\n",
       "    <tr>\n",
       "      <th>790148</th>\n",
       "      <td>188206693</td>\n",
       "      <td>3</td>\n",
       "      <td>VV</td>\n",
       "      <td>34</td>\n",
       "      <td>United Fidelity Insurance Company</td>\n",
       "      <td>0.0</td>\n",
       "      <td>5254</td>\n",
       "      <td>production-ed@unitedinsurance.ae</td>\n",
       "      <td>Production United</td>\n",
       "      <td>SALEA7BU5R2257662</td>\n",
       "      <td>...</td>\n",
       "      <td>True</td>\n",
       "      <td>True</td>\n",
       "      <td>None</td>\n",
       "      <td>0</td>\n",
       "      <td>193.123.65.205</td>\n",
       "      <td>2025-01-27</td>\n",
       "      <td>ARE</td>\n",
       "      <td>b2c</td>\n",
       "      <td>101</td>\n",
       "      <td>250K to 500K</td>\n",
       "    </tr>\n",
       "    <tr>\n",
       "      <th>949977</th>\n",
       "      <td>188733483</td>\n",
       "      <td>3</td>\n",
       "      <td>VV</td>\n",
       "      <td>34</td>\n",
       "      <td>United Fidelity Insurance Company</td>\n",
       "      <td>0.0</td>\n",
       "      <td>5254</td>\n",
       "      <td>production-ed@unitedinsurance.ae</td>\n",
       "      <td>Production United</td>\n",
       "      <td>MBJYMLA21ST121588</td>\n",
       "      <td>...</td>\n",
       "      <td>True</td>\n",
       "      <td>False</td>\n",
       "      <td>None</td>\n",
       "      <td>0</td>\n",
       "      <td>193.123.65.205</td>\n",
       "      <td>2025-01-31</td>\n",
       "      <td>ARE</td>\n",
       "      <td>b2c</td>\n",
       "      <td>101</td>\n",
       "      <td>50K to 100K</td>\n",
       "    </tr>\n",
       "    <tr>\n",
       "      <th>1111261</th>\n",
       "      <td>189466522</td>\n",
       "      <td>3</td>\n",
       "      <td>VV</td>\n",
       "      <td>83</td>\n",
       "      <td>Oriental Insurance Co.</td>\n",
       "      <td>0.0</td>\n",
       "      <td>5251</td>\n",
       "      <td>production-ed@oicgulf.ae</td>\n",
       "      <td>Production Oriental Gulf</td>\n",
       "      <td>MAJTKBFEXGTA67485</td>\n",
       "      <td>...</td>\n",
       "      <td>True</td>\n",
       "      <td>True</td>\n",
       "      <td>7746</td>\n",
       "      <td>0</td>\n",
       "      <td>20.74.181.134</td>\n",
       "      <td>2025-02-05</td>\n",
       "      <td>ARE</td>\n",
       "      <td>b2c</td>\n",
       "      <td>101</td>\n",
       "      <td>&lt;50K</td>\n",
       "    </tr>\n",
       "    <tr>\n",
       "      <th>763283</th>\n",
       "      <td>188123003</td>\n",
       "      <td>3</td>\n",
       "      <td>VV</td>\n",
       "      <td>16</td>\n",
       "      <td>Dubai National Insurance &amp; Reinsurance PSC</td>\n",
       "      <td>35000.0</td>\n",
       "      <td>5475</td>\n",
       "      <td>ritesh.s@dni.ae</td>\n",
       "      <td>Ritesh Satish</td>\n",
       "      <td>JN6BE6BS7J9030134</td>\n",
       "      <td>...</td>\n",
       "      <td>True</td>\n",
       "      <td>True</td>\n",
       "      <td>VSPortal</td>\n",
       "      <td>0</td>\n",
       "      <td>5.195.205.205</td>\n",
       "      <td>2025-01-27</td>\n",
       "      <td>ARE</td>\n",
       "      <td>b2c</td>\n",
       "      <td>101</td>\n",
       "      <td>&lt;50K</td>\n",
       "    </tr>\n",
       "    <tr>\n",
       "      <th>1278678</th>\n",
       "      <td>190033920</td>\n",
       "      <td>3</td>\n",
       "      <td>VV</td>\n",
       "      <td>18</td>\n",
       "      <td>Adamjee Insurance Co.</td>\n",
       "      <td>35000.0</td>\n",
       "      <td>5248</td>\n",
       "      <td>production-ed@adamjeeinsurance.com</td>\n",
       "      <td>Production Adamjee Insurance</td>\n",
       "      <td>JA4AP3AW0JZ035407</td>\n",
       "      <td>...</td>\n",
       "      <td>True</td>\n",
       "      <td>False</td>\n",
       "      <td>None</td>\n",
       "      <td>0</td>\n",
       "      <td>210.2.151.93</td>\n",
       "      <td>2025-02-11</td>\n",
       "      <td>ARE</td>\n",
       "      <td>b2c</td>\n",
       "      <td>112</td>\n",
       "      <td>&lt;50K</td>\n",
       "    </tr>\n",
       "    <tr>\n",
       "      <th>...</th>\n",
       "      <td>...</td>\n",
       "      <td>...</td>\n",
       "      <td>...</td>\n",
       "      <td>...</td>\n",
       "      <td>...</td>\n",
       "      <td>...</td>\n",
       "      <td>...</td>\n",
       "      <td>...</td>\n",
       "      <td>...</td>\n",
       "      <td>...</td>\n",
       "      <td>...</td>\n",
       "      <td>...</td>\n",
       "      <td>...</td>\n",
       "      <td>...</td>\n",
       "      <td>...</td>\n",
       "      <td>...</td>\n",
       "      <td>...</td>\n",
       "      <td>...</td>\n",
       "      <td>...</td>\n",
       "      <td>...</td>\n",
       "      <td>...</td>\n",
       "    </tr>\n",
       "    <tr>\n",
       "      <th>1300265</th>\n",
       "      <td>190093736</td>\n",
       "      <td>3</td>\n",
       "      <td>VV</td>\n",
       "      <td>18</td>\n",
       "      <td>Adamjee Insurance Co.</td>\n",
       "      <td>35000.0</td>\n",
       "      <td>5248</td>\n",
       "      <td>production-ed@adamjeeinsurance.com</td>\n",
       "      <td>Production Adamjee Insurance</td>\n",
       "      <td>JTHBK1GG3F2166276</td>\n",
       "      <td>...</td>\n",
       "      <td>True</td>\n",
       "      <td>False</td>\n",
       "      <td>None</td>\n",
       "      <td>0</td>\n",
       "      <td>210.2.151.93</td>\n",
       "      <td>2025-02-11</td>\n",
       "      <td>ARE</td>\n",
       "      <td>b2c</td>\n",
       "      <td>112</td>\n",
       "      <td>&lt;50K</td>\n",
       "    </tr>\n",
       "    <tr>\n",
       "      <th>1779829</th>\n",
       "      <td>191722038</td>\n",
       "      <td>3</td>\n",
       "      <td>VV</td>\n",
       "      <td>34</td>\n",
       "      <td>United Fidelity Insurance Company</td>\n",
       "      <td>0.0</td>\n",
       "      <td>5254</td>\n",
       "      <td>production-ed@unitedinsurance.ae</td>\n",
       "      <td>Production United</td>\n",
       "      <td>JTNBZ4HK8R3034786</td>\n",
       "      <td>...</td>\n",
       "      <td>True</td>\n",
       "      <td>False</td>\n",
       "      <td>None</td>\n",
       "      <td>0</td>\n",
       "      <td>139.185.50.193</td>\n",
       "      <td>2025-02-25</td>\n",
       "      <td>ARE</td>\n",
       "      <td>b2c</td>\n",
       "      <td>101</td>\n",
       "      <td>100K to 250K</td>\n",
       "    </tr>\n",
       "    <tr>\n",
       "      <th>130284</th>\n",
       "      <td>185006832</td>\n",
       "      <td>3</td>\n",
       "      <td>VV</td>\n",
       "      <td>17</td>\n",
       "      <td>Al Sagr National Insurance. Co.</td>\n",
       "      <td>80000.0</td>\n",
       "      <td>5268</td>\n",
       "      <td>production-ed@alsagrins.ae</td>\n",
       "      <td>Production Al Sagr Insurance</td>\n",
       "      <td>LZWADAGA9RF102353</td>\n",
       "      <td>...</td>\n",
       "      <td>True</td>\n",
       "      <td>False</td>\n",
       "      <td>US03</td>\n",
       "      <td>0</td>\n",
       "      <td>193.123.68.77</td>\n",
       "      <td>2025-01-06</td>\n",
       "      <td>ARE</td>\n",
       "      <td>b2c</td>\n",
       "      <td>101</td>\n",
       "      <td>50K to 100K</td>\n",
       "    </tr>\n",
       "    <tr>\n",
       "      <th>493619</th>\n",
       "      <td>187178695</td>\n",
       "      <td>3</td>\n",
       "      <td>VV</td>\n",
       "      <td>17</td>\n",
       "      <td>Al Sagr National Insurance. Co.</td>\n",
       "      <td>80000.0</td>\n",
       "      <td>5268</td>\n",
       "      <td>production-ed@alsagrins.ae</td>\n",
       "      <td>Production Al Sagr Insurance</td>\n",
       "      <td>KMHYB814BRU146969</td>\n",
       "      <td>...</td>\n",
       "      <td>True</td>\n",
       "      <td>False</td>\n",
       "      <td>ASRW</td>\n",
       "      <td>0</td>\n",
       "      <td>193.123.68.77</td>\n",
       "      <td>2025-01-17</td>\n",
       "      <td>ARE</td>\n",
       "      <td>b2c</td>\n",
       "      <td>101</td>\n",
       "      <td>100K to 250K</td>\n",
       "    </tr>\n",
       "    <tr>\n",
       "      <th>1084946</th>\n",
       "      <td>189383065</td>\n",
       "      <td>3</td>\n",
       "      <td>VV</td>\n",
       "      <td>48</td>\n",
       "      <td>Tokio Marine and Nichido Fire Insurance Co. Ltd</td>\n",
       "      <td>0.0</td>\n",
       "      <td>4978</td>\n",
       "      <td>faiz@tmnf.ae</td>\n",
       "      <td>Faiz TMNF</td>\n",
       "      <td>KMHYB8149SU221567</td>\n",
       "      <td>...</td>\n",
       "      <td>True</td>\n",
       "      <td>True</td>\n",
       "      <td>VSPortal</td>\n",
       "      <td>0</td>\n",
       "      <td>86.98.222.53</td>\n",
       "      <td>2025-02-05</td>\n",
       "      <td>ARE</td>\n",
       "      <td>b2c</td>\n",
       "      <td>101</td>\n",
       "      <td>100K to 250K</td>\n",
       "    </tr>\n",
       "  </tbody>\n",
       "</table>\n",
       "<p>100000 rows × 34 columns</p>\n",
       "</div>"
      ],
      "text/plain": [
       "         InquiryId  InquiryTypeID InquiryTypeShortName  CompanyID  \\\n",
       "790148   188206693              3                   VV         34   \n",
       "949977   188733483              3                   VV         34   \n",
       "1111261  189466522              3                   VV         83   \n",
       "763283   188123003              3                   VV         16   \n",
       "1278678  190033920              3                   VV         18   \n",
       "...            ...            ...                  ...        ...   \n",
       "1300265  190093736              3                   VV         18   \n",
       "1779829  191722038              3                   VV         34   \n",
       "130284   185006832              3                   VV         17   \n",
       "493619   187178695              3                   VV         17   \n",
       "1084946  189383065              3                   VV         48   \n",
       "\n",
       "                                             CompanyName  CarPark  UserID  \\\n",
       "790148                 United Fidelity Insurance Company      0.0    5254   \n",
       "949977                 United Fidelity Insurance Company      0.0    5254   \n",
       "1111261                           Oriental Insurance Co.      0.0    5251   \n",
       "763283        Dubai National Insurance & Reinsurance PSC  35000.0    5475   \n",
       "1278678                            Adamjee Insurance Co.  35000.0    5248   \n",
       "...                                                  ...      ...     ...   \n",
       "1300265                            Adamjee Insurance Co.  35000.0    5248   \n",
       "1779829                United Fidelity Insurance Company      0.0    5254   \n",
       "130284                   Al Sagr National Insurance. Co.  80000.0    5268   \n",
       "493619                   Al Sagr National Insurance. Co.  80000.0    5268   \n",
       "1084946  Tokio Marine and Nichido Fire Insurance Co. Ltd      0.0    4978   \n",
       "\n",
       "                                   UserName                          Name  \\\n",
       "790148     production-ed@unitedinsurance.ae             Production United   \n",
       "949977     production-ed@unitedinsurance.ae             Production United   \n",
       "1111261            production-ed@oicgulf.ae      Production Oriental Gulf   \n",
       "763283                      ritesh.s@dni.ae                 Ritesh Satish   \n",
       "1278678  production-ed@adamjeeinsurance.com  Production Adamjee Insurance   \n",
       "...                                     ...                           ...   \n",
       "1300265  production-ed@adamjeeinsurance.com  Production Adamjee Insurance   \n",
       "1779829    production-ed@unitedinsurance.ae             Production United   \n",
       "130284           production-ed@alsagrins.ae  Production Al Sagr Insurance   \n",
       "493619           production-ed@alsagrins.ae  Production Al Sagr Insurance   \n",
       "1084946                        faiz@tmnf.ae                     Faiz TMNF   \n",
       "\n",
       "                       VIN  ...  IsSuccessful  IsPaid CallerCode IsNewVehicle  \\\n",
       "790148   SALEA7BU5R2257662  ...          True    True       None            0   \n",
       "949977   MBJYMLA21ST121588  ...          True   False       None            0   \n",
       "1111261  MAJTKBFEXGTA67485  ...          True    True       7746            0   \n",
       "763283   JN6BE6BS7J9030134  ...          True    True   VSPortal            0   \n",
       "1278678  JA4AP3AW0JZ035407  ...          True   False       None            0   \n",
       "...                    ...  ...           ...     ...        ...          ...   \n",
       "1300265  JTHBK1GG3F2166276  ...          True   False       None            0   \n",
       "1779829  JTNBZ4HK8R3034786  ...          True   False       None            0   \n",
       "130284   LZWADAGA9RF102353  ...          True   False       US03            0   \n",
       "493619   KMHYB814BRU146969  ...          True   False       ASRW            0   \n",
       "1084946  KMHYB8149SU221567  ...          True    True   VSPortal            0   \n",
       "\n",
       "              IPAddress ValuationDate CountryCode ValuationType RegionId  \\\n",
       "790148   193.123.65.205    2025-01-27         ARE           b2c      101   \n",
       "949977   193.123.65.205    2025-01-31         ARE           b2c      101   \n",
       "1111261   20.74.181.134    2025-02-05         ARE           b2c      101   \n",
       "763283    5.195.205.205    2025-01-27         ARE           b2c      101   \n",
       "1278678    210.2.151.93    2025-02-11         ARE           b2c      112   \n",
       "...                 ...           ...         ...           ...      ...   \n",
       "1300265    210.2.151.93    2025-02-11         ARE           b2c      112   \n",
       "1779829  139.185.50.193    2025-02-25         ARE           b2c      101   \n",
       "130284    193.123.68.77    2025-01-06         ARE           b2c      101   \n",
       "493619    193.123.68.77    2025-01-17         ARE           b2c      101   \n",
       "1084946    86.98.222.53    2025-02-05         ARE           b2c      101   \n",
       "\n",
       "         PriceBracket  \n",
       "790148   250K to 500K  \n",
       "949977    50K to 100K  \n",
       "1111261          <50K  \n",
       "763283           <50K  \n",
       "1278678          <50K  \n",
       "...               ...  \n",
       "1300265          <50K  \n",
       "1779829  100K to 250K  \n",
       "130284    50K to 100K  \n",
       "493619   100K to 250K  \n",
       "1084946  100K to 250K  \n",
       "\n",
       "[100000 rows x 34 columns]"
      ]
     },
     "execution_count": 70,
     "metadata": {},
     "output_type": "execute_result"
    }
   ],
   "source": [
    "vv_sample"
   ]
  },
  {
   "cell_type": "markdown",
   "metadata": {},
   "source": [
    "### VS\n"
   ]
  },
  {
   "cell_type": "code",
   "execution_count": 6,
   "metadata": {},
   "outputs": [
    {
     "name": "stderr",
     "output_type": "stream",
     "text": [
      "C:\\Users\\Mohammed Ali\\AppData\\Local\\Temp\\ipykernel_40032\\4083557608.py:1: DtypeWarning: Columns (1,2,5,6,7,9,10,11) have mixed types. Specify dtype option on import or set low_memory=False.\n",
      "  vs = pd.read_csv('data/VS_Q1_2025.csv',\n"
     ]
    }
   ],
   "source": [
    "vs = pd.read_csv('data/VS_Q1_2025.csv',\n",
    "                 dtype={'Colour': 'object',\n",
    "                        'VehicleCondition': 'object'})\n",
    "\n",
    "vs.to_parquet('data/VS_Q1_2025.parquet')\n",
    "\n",
    "\n"
   ]
  },
  {
   "cell_type": "code",
   "execution_count": 12,
   "metadata": {},
   "outputs": [],
   "source": [
    "vs_sample = vs.sample(100000)\n",
    "\n",
    "vs_sample.to_parquet('data/VS_Q1_2025_sample.parquet')\n"
   ]
  },
  {
   "cell_type": "code",
   "execution_count": 3,
   "metadata": {},
   "outputs": [],
   "source": [
    "vs = pd.read_parquet('data/VS_Q1_2025.parquet')\n"
   ]
  },
  {
   "cell_type": "code",
   "execution_count": 5,
   "metadata": {},
   "outputs": [
    {
     "data": {
      "text/plain": [
       "(5538268, 13)"
      ]
     },
     "execution_count": 5,
     "metadata": {},
     "output_type": "execute_result"
    }
   ],
   "source": [
    "vs.shape"
   ]
  },
  {
   "cell_type": "code",
   "execution_count": 4,
   "metadata": {},
   "outputs": [],
   "source": [
    "vs['ModelYear'] = vs['ModelYear'].astype(float)\n"
   ]
  },
  {
   "cell_type": "code",
   "execution_count": 22,
   "metadata": {},
   "outputs": [],
   "source": [
    "vs['ModelYear'].max()\n",
    "vs.dropna(inplace=True)\n"
   ]
  },
  {
   "cell_type": "code",
   "execution_count": 23,
   "metadata": {},
   "outputs": [],
   "source": [
    "vs['ModelYear'] = vs['ModelYear'].astype(int)\n"
   ]
  },
  {
   "cell_type": "code",
   "execution_count": 25,
   "metadata": {},
   "outputs": [
    {
     "data": {
      "text/plain": [
       "np.int64(1996)"
      ]
     },
     "execution_count": 25,
     "metadata": {},
     "output_type": "execute_result"
    }
   ],
   "source": [
    "vs = vs[vs['ModelYear'] >= 1900]\n",
    "\n",
    "vs['ModelYear'].min()"
   ]
  },
  {
   "cell_type": "code",
   "execution_count": 6,
   "metadata": {},
   "outputs": [],
   "source": [
    "# vs_sample = vs.sample(100000)\n",
    "\n",
    "# vs_sample.to_parquet('data/VS_Q1_2025_sample.parquet')\n",
    "\n",
    "vs_sample = pd.read_parquet('data/VS_Q1_2025_sample.parquet')\n",
    "\n",
    "\n"
   ]
  },
  {
   "cell_type": "code",
   "execution_count": 7,
   "metadata": {},
   "outputs": [
    {
     "data": {
      "text/html": [
       "<div>\n",
       "<style scoped>\n",
       "    .dataframe tbody tr th:only-of-type {\n",
       "        vertical-align: middle;\n",
       "    }\n",
       "\n",
       "    .dataframe tbody tr th {\n",
       "        vertical-align: top;\n",
       "    }\n",
       "\n",
       "    .dataframe thead th {\n",
       "        text-align: right;\n",
       "    }\n",
       "</style>\n",
       "<table border=\"1\" class=\"dataframe\">\n",
       "  <thead>\n",
       "    <tr style=\"text-align: right;\">\n",
       "      <th></th>\n",
       "      <th>VIN</th>\n",
       "      <th>Make</th>\n",
       "      <th>Model</th>\n",
       "      <th>CompanyName</th>\n",
       "      <th>ModelYear</th>\n",
       "      <th>Trim</th>\n",
       "      <th>EngineSize</th>\n",
       "      <th>Transmission</th>\n",
       "      <th>InquiryDate</th>\n",
       "      <th>Region</th>\n",
       "      <th>Colour</th>\n",
       "      <th>FuelType</th>\n",
       "      <th>BodyType</th>\n",
       "    </tr>\n",
       "  </thead>\n",
       "  <tbody>\n",
       "    <tr>\n",
       "      <th>5354042</th>\n",
       "      <td>JN8FY15YX7X560380</td>\n",
       "      <td>NISSAN</td>\n",
       "      <td>PATROL</td>\n",
       "      <td>Islamic Arab Insurance Co- Salama</td>\n",
       "      <td>2007</td>\n",
       "      <td>SAFARI</td>\n",
       "      <td>4.8</td>\n",
       "      <td>AUTOMATIC</td>\n",
       "      <td>2025-03-05 15:08:01</td>\n",
       "      <td>GCC</td>\n",
       "      <td>White</td>\n",
       "      <td>Petrol</td>\n",
       "      <td>SUV</td>\n",
       "    </tr>\n",
       "    <tr>\n",
       "      <th>3867302</th>\n",
       "      <td>WF0BM4AF6HVS35036</td>\n",
       "      <td>FORD</td>\n",
       "      <td>ESCAPE</td>\n",
       "      <td>United Fidelity Insurance Company</td>\n",
       "      <td>2017</td>\n",
       "      <td>SE</td>\n",
       "      <td>2.5</td>\n",
       "      <td>AUTOMATIC</td>\n",
       "      <td>2025-04-21 16:57:57</td>\n",
       "      <td>GCC</td>\n",
       "      <td>Black</td>\n",
       "      <td>Petrol</td>\n",
       "      <td>SUV</td>\n",
       "    </tr>\n",
       "    <tr>\n",
       "      <th>2802146</th>\n",
       "      <td>JN8FY15YX7X558970</td>\n",
       "      <td>NISSAN</td>\n",
       "      <td>PATROL</td>\n",
       "      <td>eData Management</td>\n",
       "      <td>2007</td>\n",
       "      <td>SAFARI</td>\n",
       "      <td>4.8</td>\n",
       "      <td>AUTOMATIC</td>\n",
       "      <td>2025-04-12 10:35:10</td>\n",
       "      <td>GCC</td>\n",
       "      <td>White</td>\n",
       "      <td>Petrol</td>\n",
       "      <td>SUV</td>\n",
       "    </tr>\n",
       "    <tr>\n",
       "      <th>2212512</th>\n",
       "      <td>3GCPK9E79DG354250</td>\n",
       "      <td>CHEVROLET</td>\n",
       "      <td>SILVERADO</td>\n",
       "      <td>Methaq Takaful Insurance Company</td>\n",
       "      <td>2013</td>\n",
       "      <td>1500 LTZ</td>\n",
       "      <td>5.3</td>\n",
       "      <td>AUTOMATIC</td>\n",
       "      <td>2025-01-27 20:05:08</td>\n",
       "      <td>GCC</td>\n",
       "      <td>Dark Gray</td>\n",
       "      <td>Petrol</td>\n",
       "      <td>PICKUP CREW CAB</td>\n",
       "    </tr>\n",
       "    <tr>\n",
       "      <th>1230077</th>\n",
       "      <td>MMBXTA03AEH023000</td>\n",
       "      <td>MITSUBISHI</td>\n",
       "      <td>MIRAGE</td>\n",
       "      <td>Islamic Arab Insurance Co- Salama</td>\n",
       "      <td>2014</td>\n",
       "      <td>GLX</td>\n",
       "      <td>1.2</td>\n",
       "      <td>AUTOMATIC</td>\n",
       "      <td>2025-03-24 08:54:20</td>\n",
       "      <td>GCC</td>\n",
       "      <td>Gray</td>\n",
       "      <td>Petrol</td>\n",
       "      <td>HATCHBACK</td>\n",
       "    </tr>\n",
       "  </tbody>\n",
       "</table>\n",
       "</div>"
      ],
      "text/plain": [
       "                       VIN        Make      Model  \\\n",
       "5354042  JN8FY15YX7X560380      NISSAN     PATROL   \n",
       "3867302  WF0BM4AF6HVS35036        FORD     ESCAPE   \n",
       "2802146  JN8FY15YX7X558970      NISSAN     PATROL   \n",
       "2212512  3GCPK9E79DG354250   CHEVROLET  SILVERADO   \n",
       "1230077  MMBXTA03AEH023000  MITSUBISHI     MIRAGE   \n",
       "\n",
       "                               CompanyName  ModelYear      Trim  EngineSize  \\\n",
       "5354042  Islamic Arab Insurance Co- Salama       2007    SAFARI         4.8   \n",
       "3867302  United Fidelity Insurance Company       2017        SE         2.5   \n",
       "2802146                   eData Management       2007    SAFARI         4.8   \n",
       "2212512   Methaq Takaful Insurance Company       2013  1500 LTZ         5.3   \n",
       "1230077  Islamic Arab Insurance Co- Salama       2014       GLX         1.2   \n",
       "\n",
       "        Transmission          InquiryDate Region     Colour FuelType  \\\n",
       "5354042    AUTOMATIC  2025-03-05 15:08:01    GCC      White   Petrol   \n",
       "3867302    AUTOMATIC  2025-04-21 16:57:57    GCC      Black   Petrol   \n",
       "2802146    AUTOMATIC  2025-04-12 10:35:10    GCC      White   Petrol   \n",
       "2212512    AUTOMATIC  2025-01-27 20:05:08    GCC  Dark Gray   Petrol   \n",
       "1230077    AUTOMATIC  2025-03-24 08:54:20    GCC       Gray   Petrol   \n",
       "\n",
       "                BodyType  \n",
       "5354042              SUV  \n",
       "3867302              SUV  \n",
       "2802146              SUV  \n",
       "2212512  PICKUP CREW CAB  \n",
       "1230077        HATCHBACK  "
      ]
     },
     "execution_count": 7,
     "metadata": {},
     "output_type": "execute_result"
    }
   ],
   "source": [
    "vs_sample.head()"
   ]
  },
  {
   "cell_type": "code",
   "execution_count": 8,
   "metadata": {},
   "outputs": [
    {
     "ename": "AttributeError",
     "evalue": "Can only use .str accessor with string values!",
     "output_type": "error",
     "traceback": [
      "\u001b[31m---------------------------------------------------------------------------\u001b[39m",
      "\u001b[31mAttributeError\u001b[39m                            Traceback (most recent call last)",
      "\u001b[36mCell\u001b[39m\u001b[36m \u001b[39m\u001b[32mIn[8]\u001b[39m\u001b[32m, line 1\u001b[39m\n\u001b[32m----> \u001b[39m\u001b[32m1\u001b[39m vs_sample[\u001b[33m'\u001b[39m\u001b[33mEngineSize\u001b[39m\u001b[33m'\u001b[39m] = \u001b[43mvs_sample\u001b[49m\u001b[43m[\u001b[49m\u001b[33;43m'\u001b[39;49m\u001b[33;43mEngineSize\u001b[39;49m\u001b[33;43m'\u001b[39;49m\u001b[43m]\u001b[49m\u001b[43m.\u001b[49m\u001b[43mstr\u001b[49m.replace(\u001b[33m'\u001b[39m\u001b[33mL\u001b[39m\u001b[33m'\u001b[39m, \u001b[33m'\u001b[39m\u001b[33m'\u001b[39m)\n\u001b[32m      3\u001b[39m vs_sample[\u001b[33m'\u001b[39m\u001b[33mEngineSize\u001b[39m\u001b[33m'\u001b[39m] = vs_sample[\u001b[33m'\u001b[39m\u001b[33mEngineSize\u001b[39m\u001b[33m'\u001b[39m].str.replace(\u001b[33m'\u001b[39m\u001b[33m \u001b[39m\u001b[33m'\u001b[39m, \u001b[33m'\u001b[39m\u001b[33m'\u001b[39m)\n",
      "\u001b[36mFile \u001b[39m\u001b[32mc:\\Users\\Mohammed Ali\\Documents\\Projects\\eData-BI\\venv\\Lib\\site-packages\\pandas\\core\\generic.py:6299\u001b[39m, in \u001b[36mNDFrame.__getattr__\u001b[39m\u001b[34m(self, name)\u001b[39m\n\u001b[32m   6292\u001b[39m \u001b[38;5;28;01mif\u001b[39;00m (\n\u001b[32m   6293\u001b[39m     name \u001b[38;5;129;01mnot\u001b[39;00m \u001b[38;5;129;01min\u001b[39;00m \u001b[38;5;28mself\u001b[39m._internal_names_set\n\u001b[32m   6294\u001b[39m     \u001b[38;5;129;01mand\u001b[39;00m name \u001b[38;5;129;01mnot\u001b[39;00m \u001b[38;5;129;01min\u001b[39;00m \u001b[38;5;28mself\u001b[39m._metadata\n\u001b[32m   6295\u001b[39m     \u001b[38;5;129;01mand\u001b[39;00m name \u001b[38;5;129;01mnot\u001b[39;00m \u001b[38;5;129;01min\u001b[39;00m \u001b[38;5;28mself\u001b[39m._accessors\n\u001b[32m   6296\u001b[39m     \u001b[38;5;129;01mand\u001b[39;00m \u001b[38;5;28mself\u001b[39m._info_axis._can_hold_identifiers_and_holds_name(name)\n\u001b[32m   6297\u001b[39m ):\n\u001b[32m   6298\u001b[39m     \u001b[38;5;28;01mreturn\u001b[39;00m \u001b[38;5;28mself\u001b[39m[name]\n\u001b[32m-> \u001b[39m\u001b[32m6299\u001b[39m \u001b[38;5;28;01mreturn\u001b[39;00m \u001b[38;5;28;43mobject\u001b[39;49m\u001b[43m.\u001b[49m\u001b[34;43m__getattribute__\u001b[39;49m\u001b[43m(\u001b[49m\u001b[38;5;28;43mself\u001b[39;49m\u001b[43m,\u001b[49m\u001b[43m \u001b[49m\u001b[43mname\u001b[49m\u001b[43m)\u001b[49m\n",
      "\u001b[36mFile \u001b[39m\u001b[32mc:\\Users\\Mohammed Ali\\Documents\\Projects\\eData-BI\\venv\\Lib\\site-packages\\pandas\\core\\accessor.py:224\u001b[39m, in \u001b[36mCachedAccessor.__get__\u001b[39m\u001b[34m(self, obj, cls)\u001b[39m\n\u001b[32m    221\u001b[39m \u001b[38;5;28;01mif\u001b[39;00m obj \u001b[38;5;129;01mis\u001b[39;00m \u001b[38;5;28;01mNone\u001b[39;00m:\n\u001b[32m    222\u001b[39m     \u001b[38;5;66;03m# we're accessing the attribute of the class, i.e., Dataset.geo\u001b[39;00m\n\u001b[32m    223\u001b[39m     \u001b[38;5;28;01mreturn\u001b[39;00m \u001b[38;5;28mself\u001b[39m._accessor\n\u001b[32m--> \u001b[39m\u001b[32m224\u001b[39m accessor_obj = \u001b[38;5;28;43mself\u001b[39;49m\u001b[43m.\u001b[49m\u001b[43m_accessor\u001b[49m\u001b[43m(\u001b[49m\u001b[43mobj\u001b[49m\u001b[43m)\u001b[49m\n\u001b[32m    225\u001b[39m \u001b[38;5;66;03m# Replace the property with the accessor object. Inspired by:\u001b[39;00m\n\u001b[32m    226\u001b[39m \u001b[38;5;66;03m# https://www.pydanny.com/cached-property.html\u001b[39;00m\n\u001b[32m    227\u001b[39m \u001b[38;5;66;03m# We need to use object.__setattr__ because we overwrite __setattr__ on\u001b[39;00m\n\u001b[32m    228\u001b[39m \u001b[38;5;66;03m# NDFrame\u001b[39;00m\n\u001b[32m    229\u001b[39m \u001b[38;5;28mobject\u001b[39m.\u001b[34m__setattr__\u001b[39m(obj, \u001b[38;5;28mself\u001b[39m._name, accessor_obj)\n",
      "\u001b[36mFile \u001b[39m\u001b[32mc:\\Users\\Mohammed Ali\\Documents\\Projects\\eData-BI\\venv\\Lib\\site-packages\\pandas\\core\\strings\\accessor.py:191\u001b[39m, in \u001b[36mStringMethods.__init__\u001b[39m\u001b[34m(self, data)\u001b[39m\n\u001b[32m    188\u001b[39m \u001b[38;5;28;01mdef\u001b[39;00m\u001b[38;5;250m \u001b[39m\u001b[34m__init__\u001b[39m(\u001b[38;5;28mself\u001b[39m, data) -> \u001b[38;5;28;01mNone\u001b[39;00m:\n\u001b[32m    189\u001b[39m     \u001b[38;5;28;01mfrom\u001b[39;00m\u001b[38;5;250m \u001b[39m\u001b[34;01mpandas\u001b[39;00m\u001b[34;01m.\u001b[39;00m\u001b[34;01mcore\u001b[39;00m\u001b[34;01m.\u001b[39;00m\u001b[34;01marrays\u001b[39;00m\u001b[34;01m.\u001b[39;00m\u001b[34;01mstring_\u001b[39;00m\u001b[38;5;250m \u001b[39m\u001b[38;5;28;01mimport\u001b[39;00m StringDtype\n\u001b[32m--> \u001b[39m\u001b[32m191\u001b[39m     \u001b[38;5;28mself\u001b[39m._inferred_dtype = \u001b[38;5;28;43mself\u001b[39;49m\u001b[43m.\u001b[49m\u001b[43m_validate\u001b[49m\u001b[43m(\u001b[49m\u001b[43mdata\u001b[49m\u001b[43m)\u001b[49m\n\u001b[32m    192\u001b[39m     \u001b[38;5;28mself\u001b[39m._is_categorical = \u001b[38;5;28misinstance\u001b[39m(data.dtype, CategoricalDtype)\n\u001b[32m    193\u001b[39m     \u001b[38;5;28mself\u001b[39m._is_string = \u001b[38;5;28misinstance\u001b[39m(data.dtype, StringDtype)\n",
      "\u001b[36mFile \u001b[39m\u001b[32mc:\\Users\\Mohammed Ali\\Documents\\Projects\\eData-BI\\venv\\Lib\\site-packages\\pandas\\core\\strings\\accessor.py:245\u001b[39m, in \u001b[36mStringMethods._validate\u001b[39m\u001b[34m(data)\u001b[39m\n\u001b[32m    242\u001b[39m inferred_dtype = lib.infer_dtype(values, skipna=\u001b[38;5;28;01mTrue\u001b[39;00m)\n\u001b[32m    244\u001b[39m \u001b[38;5;28;01mif\u001b[39;00m inferred_dtype \u001b[38;5;129;01mnot\u001b[39;00m \u001b[38;5;129;01min\u001b[39;00m allowed_types:\n\u001b[32m--> \u001b[39m\u001b[32m245\u001b[39m     \u001b[38;5;28;01mraise\u001b[39;00m \u001b[38;5;167;01mAttributeError\u001b[39;00m(\u001b[33m\"\u001b[39m\u001b[33mCan only use .str accessor with string values!\u001b[39m\u001b[33m\"\u001b[39m)\n\u001b[32m    246\u001b[39m \u001b[38;5;28;01mreturn\u001b[39;00m inferred_dtype\n",
      "\u001b[31mAttributeError\u001b[39m: Can only use .str accessor with string values!"
     ]
    }
   ],
   "source": [
    "vs_sample['EngineSize'] = vs_sample['EngineSize'].str.replace('L', '')\n",
    "\n",
    "vs_sample['EngineSize'] = vs_sample['EngineSize'].str.replace(' ', '')\n",
    "\n",
    "\n",
    "\n",
    "\n",
    "\n",
    "\n",
    "\n",
    "\n",
    "\n",
    "\n",
    "\n",
    "\n",
    "\n",
    "\n",
    "\n",
    "\n"
   ]
  },
  {
   "cell_type": "code",
   "execution_count": 42,
   "metadata": {},
   "outputs": [],
   "source": [
    "# Replace empty strings with NaN first\n",
    "import numpy as np\n",
    "vs_sample['EngineSize'] = vs_sample['EngineSize'].replace('', np.nan)\n",
    "# Now convert to float\n",
    "vs_sample['EngineSize'] = vs_sample['EngineSize'].astype(float)\n"
   ]
  },
  {
   "cell_type": "code",
   "execution_count": 10,
   "metadata": {},
   "outputs": [],
   "source": [
    "vs_sample.dropna(inplace=True)\n"
   ]
  },
  {
   "cell_type": "code",
   "execution_count": 45,
   "metadata": {},
   "outputs": [],
   "source": [
    "vs_sample.to_parquet('data/VS_Q1_2025_sample.parquet')\n"
   ]
  },
  {
   "cell_type": "code",
   "execution_count": 9,
   "metadata": {},
   "outputs": [
    {
     "data": {
      "text/plain": [
       "VIN             0\n",
       "Make            0\n",
       "Model           0\n",
       "CompanyName     0\n",
       "ModelYear       0\n",
       "Trim            0\n",
       "EngineSize      0\n",
       "Transmission    0\n",
       "InquiryDate     0\n",
       "Region          0\n",
       "Colour          0\n",
       "FuelType        0\n",
       "BodyType        0\n",
       "dtype: int64"
      ]
     },
     "execution_count": 9,
     "metadata": {},
     "output_type": "execute_result"
    }
   ],
   "source": [
    "vs_sample.isna().sum()\n"
   ]
  },
  {
   "cell_type": "code",
   "execution_count": 11,
   "metadata": {},
   "outputs": [
    {
     "data": {
      "text/plain": [
       "(99986, 13)"
      ]
     },
     "execution_count": 11,
     "metadata": {},
     "output_type": "execute_result"
    }
   ],
   "source": [
    "vs_sample.shape"
   ]
  },
  {
   "cell_type": "code",
   "execution_count": 11,
   "metadata": {},
   "outputs": [],
   "source": [
    "import json\n",
    "\n",
    "make_country_map = json.load(open('data/make_countries.json'))\n",
    "country_iso = json.load(open('data/country_iso.json'))\n",
    "\n",
    "vs_sample['Country'] = vs_sample['Make'].map(make_country_map)\n",
    "\n"
   ]
  },
  {
   "cell_type": "markdown",
   "metadata": {},
   "source": [
    "### Choropleth and Trends"
   ]
  },
  {
   "cell_type": "code",
   "execution_count": 94,
   "metadata": {},
   "outputs": [
    {
     "data": {
      "application/vnd.plotly.v1+json": {
       "config": {
        "plotlyServerURL": "https://plot.ly"
       },
       "data": [
        {
         "coloraxis": "coloraxis",
         "customdata": {
          "bdata": "tOEAACs0AADUMwAASiwAANMIAAA9BQAAWAEAAHAAAABTAAAARAAAACEAAAADAAAAAgAAAA==",
          "dtype": "i4",
          "shape": "13, 1"
         },
         "geo": "geo",
         "hovertemplate": "<b>%{hovertext}</b><br><br>iso=%{location}<br>count=%{z}<extra></extra>",
         "hovertext": [
          "Japan",
          "USA",
          "South Korea",
          "Germany",
          "UK",
          "France",
          "China",
          "Sweden",
          "Italy",
          "Czech Republic",
          "India",
          "Spain",
          "Taiwan"
         ],
         "locations": [
          "JPN",
          "USA",
          "KOR",
          "DEU",
          "GBR",
          "FRA",
          "CHN",
          "SWE",
          "ITA",
          "CZE",
          "IND",
          "ESP",
          "TWN"
         ],
         "name": "",
         "type": "choropleth",
         "z": {
          "bdata": "tOEAACs0AADUMwAASiwAANMIAAA9BQAAWAEAAHAAAABTAAAARAAAACEAAAADAAAAAgAAAA==",
          "dtype": "i4"
         }
        }
       ],
       "layout": {
        "coloraxis": {
         "colorbar": {
          "title": {
           "text": "count"
          }
         },
         "colorscale": [
          [
           0,
           "rgb(247,252,245)"
          ],
          [
           0.125,
           "rgb(229,245,224)"
          ],
          [
           0.25,
           "rgb(199,233,192)"
          ],
          [
           0.375,
           "rgb(161,217,155)"
          ],
          [
           0.5,
           "rgb(116,196,118)"
          ],
          [
           0.625,
           "rgb(65,171,93)"
          ],
          [
           0.75,
           "rgb(35,139,69)"
          ],
          [
           0.875,
           "rgb(0,109,44)"
          ],
          [
           1,
           "rgb(0,68,27)"
          ]
         ]
        },
        "geo": {
         "center": {},
         "domain": {
          "x": [
           0,
           1
          ],
          "y": [
           0,
           1
          ]
         }
        },
        "legend": {
         "tracegroupgap": 0
        },
        "margin": {
         "t": 60
        },
        "template": {
         "data": {
          "bar": [
           {
            "error_x": {
             "color": "#2a3f5f"
            },
            "error_y": {
             "color": "#2a3f5f"
            },
            "marker": {
             "line": {
              "color": "#E5ECF6",
              "width": 0.5
             },
             "pattern": {
              "fillmode": "overlay",
              "size": 10,
              "solidity": 0.2
             }
            },
            "type": "bar"
           }
          ],
          "barpolar": [
           {
            "marker": {
             "line": {
              "color": "#E5ECF6",
              "width": 0.5
             },
             "pattern": {
              "fillmode": "overlay",
              "size": 10,
              "solidity": 0.2
             }
            },
            "type": "barpolar"
           }
          ],
          "carpet": [
           {
            "aaxis": {
             "endlinecolor": "#2a3f5f",
             "gridcolor": "white",
             "linecolor": "white",
             "minorgridcolor": "white",
             "startlinecolor": "#2a3f5f"
            },
            "baxis": {
             "endlinecolor": "#2a3f5f",
             "gridcolor": "white",
             "linecolor": "white",
             "minorgridcolor": "white",
             "startlinecolor": "#2a3f5f"
            },
            "type": "carpet"
           }
          ],
          "choropleth": [
           {
            "colorbar": {
             "outlinewidth": 0,
             "ticks": ""
            },
            "type": "choropleth"
           }
          ],
          "contour": [
           {
            "colorbar": {
             "outlinewidth": 0,
             "ticks": ""
            },
            "colorscale": [
             [
              0,
              "#0d0887"
             ],
             [
              0.1111111111111111,
              "#46039f"
             ],
             [
              0.2222222222222222,
              "#7201a8"
             ],
             [
              0.3333333333333333,
              "#9c179e"
             ],
             [
              0.4444444444444444,
              "#bd3786"
             ],
             [
              0.5555555555555556,
              "#d8576b"
             ],
             [
              0.6666666666666666,
              "#ed7953"
             ],
             [
              0.7777777777777778,
              "#fb9f3a"
             ],
             [
              0.8888888888888888,
              "#fdca26"
             ],
             [
              1,
              "#f0f921"
             ]
            ],
            "type": "contour"
           }
          ],
          "contourcarpet": [
           {
            "colorbar": {
             "outlinewidth": 0,
             "ticks": ""
            },
            "type": "contourcarpet"
           }
          ],
          "heatmap": [
           {
            "colorbar": {
             "outlinewidth": 0,
             "ticks": ""
            },
            "colorscale": [
             [
              0,
              "#0d0887"
             ],
             [
              0.1111111111111111,
              "#46039f"
             ],
             [
              0.2222222222222222,
              "#7201a8"
             ],
             [
              0.3333333333333333,
              "#9c179e"
             ],
             [
              0.4444444444444444,
              "#bd3786"
             ],
             [
              0.5555555555555556,
              "#d8576b"
             ],
             [
              0.6666666666666666,
              "#ed7953"
             ],
             [
              0.7777777777777778,
              "#fb9f3a"
             ],
             [
              0.8888888888888888,
              "#fdca26"
             ],
             [
              1,
              "#f0f921"
             ]
            ],
            "type": "heatmap"
           }
          ],
          "histogram": [
           {
            "marker": {
             "pattern": {
              "fillmode": "overlay",
              "size": 10,
              "solidity": 0.2
             }
            },
            "type": "histogram"
           }
          ],
          "histogram2d": [
           {
            "colorbar": {
             "outlinewidth": 0,
             "ticks": ""
            },
            "colorscale": [
             [
              0,
              "#0d0887"
             ],
             [
              0.1111111111111111,
              "#46039f"
             ],
             [
              0.2222222222222222,
              "#7201a8"
             ],
             [
              0.3333333333333333,
              "#9c179e"
             ],
             [
              0.4444444444444444,
              "#bd3786"
             ],
             [
              0.5555555555555556,
              "#d8576b"
             ],
             [
              0.6666666666666666,
              "#ed7953"
             ],
             [
              0.7777777777777778,
              "#fb9f3a"
             ],
             [
              0.8888888888888888,
              "#fdca26"
             ],
             [
              1,
              "#f0f921"
             ]
            ],
            "type": "histogram2d"
           }
          ],
          "histogram2dcontour": [
           {
            "colorbar": {
             "outlinewidth": 0,
             "ticks": ""
            },
            "colorscale": [
             [
              0,
              "#0d0887"
             ],
             [
              0.1111111111111111,
              "#46039f"
             ],
             [
              0.2222222222222222,
              "#7201a8"
             ],
             [
              0.3333333333333333,
              "#9c179e"
             ],
             [
              0.4444444444444444,
              "#bd3786"
             ],
             [
              0.5555555555555556,
              "#d8576b"
             ],
             [
              0.6666666666666666,
              "#ed7953"
             ],
             [
              0.7777777777777778,
              "#fb9f3a"
             ],
             [
              0.8888888888888888,
              "#fdca26"
             ],
             [
              1,
              "#f0f921"
             ]
            ],
            "type": "histogram2dcontour"
           }
          ],
          "mesh3d": [
           {
            "colorbar": {
             "outlinewidth": 0,
             "ticks": ""
            },
            "type": "mesh3d"
           }
          ],
          "parcoords": [
           {
            "line": {
             "colorbar": {
              "outlinewidth": 0,
              "ticks": ""
             }
            },
            "type": "parcoords"
           }
          ],
          "pie": [
           {
            "automargin": true,
            "type": "pie"
           }
          ],
          "scatter": [
           {
            "fillpattern": {
             "fillmode": "overlay",
             "size": 10,
             "solidity": 0.2
            },
            "type": "scatter"
           }
          ],
          "scatter3d": [
           {
            "line": {
             "colorbar": {
              "outlinewidth": 0,
              "ticks": ""
             }
            },
            "marker": {
             "colorbar": {
              "outlinewidth": 0,
              "ticks": ""
             }
            },
            "type": "scatter3d"
           }
          ],
          "scattercarpet": [
           {
            "marker": {
             "colorbar": {
              "outlinewidth": 0,
              "ticks": ""
             }
            },
            "type": "scattercarpet"
           }
          ],
          "scattergeo": [
           {
            "marker": {
             "colorbar": {
              "outlinewidth": 0,
              "ticks": ""
             }
            },
            "type": "scattergeo"
           }
          ],
          "scattergl": [
           {
            "marker": {
             "colorbar": {
              "outlinewidth": 0,
              "ticks": ""
             }
            },
            "type": "scattergl"
           }
          ],
          "scattermap": [
           {
            "marker": {
             "colorbar": {
              "outlinewidth": 0,
              "ticks": ""
             }
            },
            "type": "scattermap"
           }
          ],
          "scattermapbox": [
           {
            "marker": {
             "colorbar": {
              "outlinewidth": 0,
              "ticks": ""
             }
            },
            "type": "scattermapbox"
           }
          ],
          "scatterpolar": [
           {
            "marker": {
             "colorbar": {
              "outlinewidth": 0,
              "ticks": ""
             }
            },
            "type": "scatterpolar"
           }
          ],
          "scatterpolargl": [
           {
            "marker": {
             "colorbar": {
              "outlinewidth": 0,
              "ticks": ""
             }
            },
            "type": "scatterpolargl"
           }
          ],
          "scatterternary": [
           {
            "marker": {
             "colorbar": {
              "outlinewidth": 0,
              "ticks": ""
             }
            },
            "type": "scatterternary"
           }
          ],
          "surface": [
           {
            "colorbar": {
             "outlinewidth": 0,
             "ticks": ""
            },
            "colorscale": [
             [
              0,
              "#0d0887"
             ],
             [
              0.1111111111111111,
              "#46039f"
             ],
             [
              0.2222222222222222,
              "#7201a8"
             ],
             [
              0.3333333333333333,
              "#9c179e"
             ],
             [
              0.4444444444444444,
              "#bd3786"
             ],
             [
              0.5555555555555556,
              "#d8576b"
             ],
             [
              0.6666666666666666,
              "#ed7953"
             ],
             [
              0.7777777777777778,
              "#fb9f3a"
             ],
             [
              0.8888888888888888,
              "#fdca26"
             ],
             [
              1,
              "#f0f921"
             ]
            ],
            "type": "surface"
           }
          ],
          "table": [
           {
            "cells": {
             "fill": {
              "color": "#EBF0F8"
             },
             "line": {
              "color": "white"
             }
            },
            "header": {
             "fill": {
              "color": "#C8D4E3"
             },
             "line": {
              "color": "white"
             }
            },
            "type": "table"
           }
          ]
         },
         "layout": {
          "annotationdefaults": {
           "arrowcolor": "#2a3f5f",
           "arrowhead": 0,
           "arrowwidth": 1
          },
          "autotypenumbers": "strict",
          "coloraxis": {
           "colorbar": {
            "outlinewidth": 0,
            "ticks": ""
           }
          },
          "colorscale": {
           "diverging": [
            [
             0,
             "#8e0152"
            ],
            [
             0.1,
             "#c51b7d"
            ],
            [
             0.2,
             "#de77ae"
            ],
            [
             0.3,
             "#f1b6da"
            ],
            [
             0.4,
             "#fde0ef"
            ],
            [
             0.5,
             "#f7f7f7"
            ],
            [
             0.6,
             "#e6f5d0"
            ],
            [
             0.7,
             "#b8e186"
            ],
            [
             0.8,
             "#7fbc41"
            ],
            [
             0.9,
             "#4d9221"
            ],
            [
             1,
             "#276419"
            ]
           ],
           "sequential": [
            [
             0,
             "#0d0887"
            ],
            [
             0.1111111111111111,
             "#46039f"
            ],
            [
             0.2222222222222222,
             "#7201a8"
            ],
            [
             0.3333333333333333,
             "#9c179e"
            ],
            [
             0.4444444444444444,
             "#bd3786"
            ],
            [
             0.5555555555555556,
             "#d8576b"
            ],
            [
             0.6666666666666666,
             "#ed7953"
            ],
            [
             0.7777777777777778,
             "#fb9f3a"
            ],
            [
             0.8888888888888888,
             "#fdca26"
            ],
            [
             1,
             "#f0f921"
            ]
           ],
           "sequentialminus": [
            [
             0,
             "#0d0887"
            ],
            [
             0.1111111111111111,
             "#46039f"
            ],
            [
             0.2222222222222222,
             "#7201a8"
            ],
            [
             0.3333333333333333,
             "#9c179e"
            ],
            [
             0.4444444444444444,
             "#bd3786"
            ],
            [
             0.5555555555555556,
             "#d8576b"
            ],
            [
             0.6666666666666666,
             "#ed7953"
            ],
            [
             0.7777777777777778,
             "#fb9f3a"
            ],
            [
             0.8888888888888888,
             "#fdca26"
            ],
            [
             1,
             "#f0f921"
            ]
           ]
          },
          "colorway": [
           "#636efa",
           "#EF553B",
           "#00cc96",
           "#ab63fa",
           "#FFA15A",
           "#19d3f3",
           "#FF6692",
           "#B6E880",
           "#FF97FF",
           "#FECB52"
          ],
          "font": {
           "color": "#2a3f5f"
          },
          "geo": {
           "bgcolor": "white",
           "lakecolor": "white",
           "landcolor": "#E5ECF6",
           "showlakes": true,
           "showland": true,
           "subunitcolor": "white"
          },
          "hoverlabel": {
           "align": "left"
          },
          "hovermode": "closest",
          "mapbox": {
           "style": "light"
          },
          "paper_bgcolor": "white",
          "plot_bgcolor": "#E5ECF6",
          "polar": {
           "angularaxis": {
            "gridcolor": "white",
            "linecolor": "white",
            "ticks": ""
           },
           "bgcolor": "#E5ECF6",
           "radialaxis": {
            "gridcolor": "white",
            "linecolor": "white",
            "ticks": ""
           }
          },
          "scene": {
           "xaxis": {
            "backgroundcolor": "#E5ECF6",
            "gridcolor": "white",
            "gridwidth": 2,
            "linecolor": "white",
            "showbackground": true,
            "ticks": "",
            "zerolinecolor": "white"
           },
           "yaxis": {
            "backgroundcolor": "#E5ECF6",
            "gridcolor": "white",
            "gridwidth": 2,
            "linecolor": "white",
            "showbackground": true,
            "ticks": "",
            "zerolinecolor": "white"
           },
           "zaxis": {
            "backgroundcolor": "#E5ECF6",
            "gridcolor": "white",
            "gridwidth": 2,
            "linecolor": "white",
            "showbackground": true,
            "ticks": "",
            "zerolinecolor": "white"
           }
          },
          "shapedefaults": {
           "line": {
            "color": "#2a3f5f"
           }
          },
          "ternary": {
           "aaxis": {
            "gridcolor": "white",
            "linecolor": "white",
            "ticks": ""
           },
           "baxis": {
            "gridcolor": "white",
            "linecolor": "white",
            "ticks": ""
           },
           "bgcolor": "#E5ECF6",
           "caxis": {
            "gridcolor": "white",
            "linecolor": "white",
            "ticks": ""
           }
          },
          "title": {
           "x": 0.05
          },
          "xaxis": {
           "automargin": true,
           "gridcolor": "white",
           "linecolor": "white",
           "ticks": "",
           "title": {
            "standoff": 15
           },
           "zerolinecolor": "white",
           "zerolinewidth": 2
          },
          "yaxis": {
           "automargin": true,
           "gridcolor": "white",
           "linecolor": "white",
           "ticks": "",
           "title": {
            "standoff": 15
           },
           "zerolinecolor": "white",
           "zerolinewidth": 2
          }
         }
        }
       }
      }
     },
     "metadata": {},
     "output_type": "display_data"
    }
   ],
   "source": [
    "country_counts = vs_sample['Country'].value_counts().reset_index()\n",
    "country_counts['iso'] = country_counts['Country'].map(country_iso)\n",
    "\n",
    "fig = px.choropleth(country_counts, locations='iso', color='count', hover_name='Country', hover_data=['count'],\n",
    "                    color_continuous_scale='Greens')\n",
    "fig.show()\n",
    "\n",
    "\n",
    "\n",
    "\n",
    "\n"
   ]
  },
  {
   "cell_type": "code",
   "execution_count": 96,
   "metadata": {},
   "outputs": [
    {
     "data": {
      "application/vnd.plotly.v1+json": {
       "config": {
        "plotlyServerURL": "https://plot.ly"
       },
       "data": [
        {
         "coloraxis": "coloraxis",
         "geo": "geo",
         "hovertemplate": "locations=%{location}<br>color=%{z}<extra></extra>",
         "locations": [
          "JPN",
          "USA",
          "KOR",
          "DEU",
          "GBR",
          "FRA",
          "CHN",
          "SWE",
          "ITA",
          "CZE",
          "IND",
          "ESP",
          "TWN"
         ],
         "name": "",
         "type": "choropleth",
         "z": {
          "bdata": "tOEAACs0AADUMwAASiwAANMIAAA9BQAAWAEAAHAAAABTAAAARAAAACEAAAADAAAAAgAAAA==",
          "dtype": "i4"
         }
        }
       ],
       "layout": {
        "coloraxis": {
         "colorbar": {
          "title": {
           "text": "color"
          }
         },
         "colorscale": [
          [
           0,
           "rgb(247,252,245)"
          ],
          [
           0.125,
           "rgb(229,245,224)"
          ],
          [
           0.25,
           "rgb(199,233,192)"
          ],
          [
           0.375,
           "rgb(161,217,155)"
          ],
          [
           0.5,
           "rgb(116,196,118)"
          ],
          [
           0.625,
           "rgb(65,171,93)"
          ],
          [
           0.75,
           "rgb(35,139,69)"
          ],
          [
           0.875,
           "rgb(0,109,44)"
          ],
          [
           1,
           "rgb(0,68,27)"
          ]
         ]
        },
        "geo": {
         "center": {},
         "domain": {
          "x": [
           0,
           1
          ],
          "y": [
           0,
           1
          ]
         }
        },
        "legend": {
         "tracegroupgap": 0
        },
        "margin": {
         "t": 60
        },
        "template": {
         "data": {
          "bar": [
           {
            "error_x": {
             "color": "#2a3f5f"
            },
            "error_y": {
             "color": "#2a3f5f"
            },
            "marker": {
             "line": {
              "color": "#E5ECF6",
              "width": 0.5
             },
             "pattern": {
              "fillmode": "overlay",
              "size": 10,
              "solidity": 0.2
             }
            },
            "type": "bar"
           }
          ],
          "barpolar": [
           {
            "marker": {
             "line": {
              "color": "#E5ECF6",
              "width": 0.5
             },
             "pattern": {
              "fillmode": "overlay",
              "size": 10,
              "solidity": 0.2
             }
            },
            "type": "barpolar"
           }
          ],
          "carpet": [
           {
            "aaxis": {
             "endlinecolor": "#2a3f5f",
             "gridcolor": "white",
             "linecolor": "white",
             "minorgridcolor": "white",
             "startlinecolor": "#2a3f5f"
            },
            "baxis": {
             "endlinecolor": "#2a3f5f",
             "gridcolor": "white",
             "linecolor": "white",
             "minorgridcolor": "white",
             "startlinecolor": "#2a3f5f"
            },
            "type": "carpet"
           }
          ],
          "choropleth": [
           {
            "colorbar": {
             "outlinewidth": 0,
             "ticks": ""
            },
            "type": "choropleth"
           }
          ],
          "contour": [
           {
            "colorbar": {
             "outlinewidth": 0,
             "ticks": ""
            },
            "colorscale": [
             [
              0,
              "#0d0887"
             ],
             [
              0.1111111111111111,
              "#46039f"
             ],
             [
              0.2222222222222222,
              "#7201a8"
             ],
             [
              0.3333333333333333,
              "#9c179e"
             ],
             [
              0.4444444444444444,
              "#bd3786"
             ],
             [
              0.5555555555555556,
              "#d8576b"
             ],
             [
              0.6666666666666666,
              "#ed7953"
             ],
             [
              0.7777777777777778,
              "#fb9f3a"
             ],
             [
              0.8888888888888888,
              "#fdca26"
             ],
             [
              1,
              "#f0f921"
             ]
            ],
            "type": "contour"
           }
          ],
          "contourcarpet": [
           {
            "colorbar": {
             "outlinewidth": 0,
             "ticks": ""
            },
            "type": "contourcarpet"
           }
          ],
          "heatmap": [
           {
            "colorbar": {
             "outlinewidth": 0,
             "ticks": ""
            },
            "colorscale": [
             [
              0,
              "#0d0887"
             ],
             [
              0.1111111111111111,
              "#46039f"
             ],
             [
              0.2222222222222222,
              "#7201a8"
             ],
             [
              0.3333333333333333,
              "#9c179e"
             ],
             [
              0.4444444444444444,
              "#bd3786"
             ],
             [
              0.5555555555555556,
              "#d8576b"
             ],
             [
              0.6666666666666666,
              "#ed7953"
             ],
             [
              0.7777777777777778,
              "#fb9f3a"
             ],
             [
              0.8888888888888888,
              "#fdca26"
             ],
             [
              1,
              "#f0f921"
             ]
            ],
            "type": "heatmap"
           }
          ],
          "histogram": [
           {
            "marker": {
             "pattern": {
              "fillmode": "overlay",
              "size": 10,
              "solidity": 0.2
             }
            },
            "type": "histogram"
           }
          ],
          "histogram2d": [
           {
            "colorbar": {
             "outlinewidth": 0,
             "ticks": ""
            },
            "colorscale": [
             [
              0,
              "#0d0887"
             ],
             [
              0.1111111111111111,
              "#46039f"
             ],
             [
              0.2222222222222222,
              "#7201a8"
             ],
             [
              0.3333333333333333,
              "#9c179e"
             ],
             [
              0.4444444444444444,
              "#bd3786"
             ],
             [
              0.5555555555555556,
              "#d8576b"
             ],
             [
              0.6666666666666666,
              "#ed7953"
             ],
             [
              0.7777777777777778,
              "#fb9f3a"
             ],
             [
              0.8888888888888888,
              "#fdca26"
             ],
             [
              1,
              "#f0f921"
             ]
            ],
            "type": "histogram2d"
           }
          ],
          "histogram2dcontour": [
           {
            "colorbar": {
             "outlinewidth": 0,
             "ticks": ""
            },
            "colorscale": [
             [
              0,
              "#0d0887"
             ],
             [
              0.1111111111111111,
              "#46039f"
             ],
             [
              0.2222222222222222,
              "#7201a8"
             ],
             [
              0.3333333333333333,
              "#9c179e"
             ],
             [
              0.4444444444444444,
              "#bd3786"
             ],
             [
              0.5555555555555556,
              "#d8576b"
             ],
             [
              0.6666666666666666,
              "#ed7953"
             ],
             [
              0.7777777777777778,
              "#fb9f3a"
             ],
             [
              0.8888888888888888,
              "#fdca26"
             ],
             [
              1,
              "#f0f921"
             ]
            ],
            "type": "histogram2dcontour"
           }
          ],
          "mesh3d": [
           {
            "colorbar": {
             "outlinewidth": 0,
             "ticks": ""
            },
            "type": "mesh3d"
           }
          ],
          "parcoords": [
           {
            "line": {
             "colorbar": {
              "outlinewidth": 0,
              "ticks": ""
             }
            },
            "type": "parcoords"
           }
          ],
          "pie": [
           {
            "automargin": true,
            "type": "pie"
           }
          ],
          "scatter": [
           {
            "fillpattern": {
             "fillmode": "overlay",
             "size": 10,
             "solidity": 0.2
            },
            "type": "scatter"
           }
          ],
          "scatter3d": [
           {
            "line": {
             "colorbar": {
              "outlinewidth": 0,
              "ticks": ""
             }
            },
            "marker": {
             "colorbar": {
              "outlinewidth": 0,
              "ticks": ""
             }
            },
            "type": "scatter3d"
           }
          ],
          "scattercarpet": [
           {
            "marker": {
             "colorbar": {
              "outlinewidth": 0,
              "ticks": ""
             }
            },
            "type": "scattercarpet"
           }
          ],
          "scattergeo": [
           {
            "marker": {
             "colorbar": {
              "outlinewidth": 0,
              "ticks": ""
             }
            },
            "type": "scattergeo"
           }
          ],
          "scattergl": [
           {
            "marker": {
             "colorbar": {
              "outlinewidth": 0,
              "ticks": ""
             }
            },
            "type": "scattergl"
           }
          ],
          "scattermap": [
           {
            "marker": {
             "colorbar": {
              "outlinewidth": 0,
              "ticks": ""
             }
            },
            "type": "scattermap"
           }
          ],
          "scattermapbox": [
           {
            "marker": {
             "colorbar": {
              "outlinewidth": 0,
              "ticks": ""
             }
            },
            "type": "scattermapbox"
           }
          ],
          "scatterpolar": [
           {
            "marker": {
             "colorbar": {
              "outlinewidth": 0,
              "ticks": ""
             }
            },
            "type": "scatterpolar"
           }
          ],
          "scatterpolargl": [
           {
            "marker": {
             "colorbar": {
              "outlinewidth": 0,
              "ticks": ""
             }
            },
            "type": "scatterpolargl"
           }
          ],
          "scatterternary": [
           {
            "marker": {
             "colorbar": {
              "outlinewidth": 0,
              "ticks": ""
             }
            },
            "type": "scatterternary"
           }
          ],
          "surface": [
           {
            "colorbar": {
             "outlinewidth": 0,
             "ticks": ""
            },
            "colorscale": [
             [
              0,
              "#0d0887"
             ],
             [
              0.1111111111111111,
              "#46039f"
             ],
             [
              0.2222222222222222,
              "#7201a8"
             ],
             [
              0.3333333333333333,
              "#9c179e"
             ],
             [
              0.4444444444444444,
              "#bd3786"
             ],
             [
              0.5555555555555556,
              "#d8576b"
             ],
             [
              0.6666666666666666,
              "#ed7953"
             ],
             [
              0.7777777777777778,
              "#fb9f3a"
             ],
             [
              0.8888888888888888,
              "#fdca26"
             ],
             [
              1,
              "#f0f921"
             ]
            ],
            "type": "surface"
           }
          ],
          "table": [
           {
            "cells": {
             "fill": {
              "color": "#EBF0F8"
             },
             "line": {
              "color": "white"
             }
            },
            "header": {
             "fill": {
              "color": "#C8D4E3"
             },
             "line": {
              "color": "white"
             }
            },
            "type": "table"
           }
          ]
         },
         "layout": {
          "annotationdefaults": {
           "arrowcolor": "#2a3f5f",
           "arrowhead": 0,
           "arrowwidth": 1
          },
          "autotypenumbers": "strict",
          "coloraxis": {
           "colorbar": {
            "outlinewidth": 0,
            "ticks": ""
           }
          },
          "colorscale": {
           "diverging": [
            [
             0,
             "#8e0152"
            ],
            [
             0.1,
             "#c51b7d"
            ],
            [
             0.2,
             "#de77ae"
            ],
            [
             0.3,
             "#f1b6da"
            ],
            [
             0.4,
             "#fde0ef"
            ],
            [
             0.5,
             "#f7f7f7"
            ],
            [
             0.6,
             "#e6f5d0"
            ],
            [
             0.7,
             "#b8e186"
            ],
            [
             0.8,
             "#7fbc41"
            ],
            [
             0.9,
             "#4d9221"
            ],
            [
             1,
             "#276419"
            ]
           ],
           "sequential": [
            [
             0,
             "#0d0887"
            ],
            [
             0.1111111111111111,
             "#46039f"
            ],
            [
             0.2222222222222222,
             "#7201a8"
            ],
            [
             0.3333333333333333,
             "#9c179e"
            ],
            [
             0.4444444444444444,
             "#bd3786"
            ],
            [
             0.5555555555555556,
             "#d8576b"
            ],
            [
             0.6666666666666666,
             "#ed7953"
            ],
            [
             0.7777777777777778,
             "#fb9f3a"
            ],
            [
             0.8888888888888888,
             "#fdca26"
            ],
            [
             1,
             "#f0f921"
            ]
           ],
           "sequentialminus": [
            [
             0,
             "#0d0887"
            ],
            [
             0.1111111111111111,
             "#46039f"
            ],
            [
             0.2222222222222222,
             "#7201a8"
            ],
            [
             0.3333333333333333,
             "#9c179e"
            ],
            [
             0.4444444444444444,
             "#bd3786"
            ],
            [
             0.5555555555555556,
             "#d8576b"
            ],
            [
             0.6666666666666666,
             "#ed7953"
            ],
            [
             0.7777777777777778,
             "#fb9f3a"
            ],
            [
             0.8888888888888888,
             "#fdca26"
            ],
            [
             1,
             "#f0f921"
            ]
           ]
          },
          "colorway": [
           "#636efa",
           "#EF553B",
           "#00cc96",
           "#ab63fa",
           "#FFA15A",
           "#19d3f3",
           "#FF6692",
           "#B6E880",
           "#FF97FF",
           "#FECB52"
          ],
          "font": {
           "color": "#2a3f5f"
          },
          "geo": {
           "bgcolor": "white",
           "lakecolor": "white",
           "landcolor": "#E5ECF6",
           "showlakes": true,
           "showland": true,
           "subunitcolor": "white"
          },
          "hoverlabel": {
           "align": "left"
          },
          "hovermode": "closest",
          "mapbox": {
           "style": "light"
          },
          "paper_bgcolor": "white",
          "plot_bgcolor": "#E5ECF6",
          "polar": {
           "angularaxis": {
            "gridcolor": "white",
            "linecolor": "white",
            "ticks": ""
           },
           "bgcolor": "#E5ECF6",
           "radialaxis": {
            "gridcolor": "white",
            "linecolor": "white",
            "ticks": ""
           }
          },
          "scene": {
           "xaxis": {
            "backgroundcolor": "#E5ECF6",
            "gridcolor": "white",
            "gridwidth": 2,
            "linecolor": "white",
            "showbackground": true,
            "ticks": "",
            "zerolinecolor": "white"
           },
           "yaxis": {
            "backgroundcolor": "#E5ECF6",
            "gridcolor": "white",
            "gridwidth": 2,
            "linecolor": "white",
            "showbackground": true,
            "ticks": "",
            "zerolinecolor": "white"
           },
           "zaxis": {
            "backgroundcolor": "#E5ECF6",
            "gridcolor": "white",
            "gridwidth": 2,
            "linecolor": "white",
            "showbackground": true,
            "ticks": "",
            "zerolinecolor": "white"
           }
          },
          "shapedefaults": {
           "line": {
            "color": "#2a3f5f"
           }
          },
          "ternary": {
           "aaxis": {
            "gridcolor": "white",
            "linecolor": "white",
            "ticks": ""
           },
           "baxis": {
            "gridcolor": "white",
            "linecolor": "white",
            "ticks": ""
           },
           "bgcolor": "#E5ECF6",
           "caxis": {
            "gridcolor": "white",
            "linecolor": "white",
            "ticks": ""
           }
          },
          "title": {
           "x": 0.05
          },
          "xaxis": {
           "automargin": true,
           "gridcolor": "white",
           "linecolor": "white",
           "ticks": "",
           "title": {
            "standoff": 15
           },
           "zerolinecolor": "white",
           "zerolinewidth": 2
          },
          "yaxis": {
           "automargin": true,
           "gridcolor": "white",
           "linecolor": "white",
           "ticks": "",
           "title": {
            "standoff": 15
           },
           "zerolinecolor": "white",
           "zerolinewidth": 2
          }
         }
        }
       }
      }
     },
     "metadata": {},
     "output_type": "display_data"
    }
   ],
   "source": [
    "fig = px.choropleth(\n",
    "    locations=country_counts['iso'].tolist(),\n",
    "    color=country_counts['count'].tolist(),\n",
    "    color_continuous_scale='Greens'\n",
    ")\n",
    "fig.show()\n"
   ]
  },
  {
   "cell_type": "code",
   "execution_count": 107,
   "metadata": {},
   "outputs": [
    {
     "data": {
      "application/vnd.plotly.v1+json": {
       "config": {
        "plotlyServerURL": "https://plot.ly"
       },
       "data": [
        {
         "colorbar": {
          "title": {
           "text": "Count"
          }
         },
         "colorscale": [
          [
           0,
           "rgb(209, 238, 234)"
          ],
          [
           0.16666666666666666,
           "rgb(168, 219, 217)"
          ],
          [
           0.3333333333333333,
           "rgb(133, 196, 201)"
          ],
          [
           0.5,
           "rgb(104, 171, 184)"
          ],
          [
           0.6666666666666666,
           "rgb(79, 144, 166)"
          ],
          [
           0.8333333333333334,
           "rgb(59, 115, 143)"
          ],
          [
           1,
           "rgb(42, 86, 116)"
          ]
         ],
         "locations": [
          "JPN",
          "USA",
          "KOR",
          "DEU",
          "GBR",
          "FRA",
          "CHN",
          "SWE",
          "ITA",
          "CZE",
          "IND",
          "ESP",
          "TWN"
         ],
         "text": [
          "Japan",
          "USA",
          "South Korea",
          "Germany",
          "UK",
          "France",
          "China",
          "Sweden",
          "Italy",
          "Czech Republic",
          "India",
          "Spain",
          "Taiwan"
         ],
         "type": "choropleth",
         "z": [
          57780,
          13355,
          13268,
          11338,
          2259,
          1341,
          344,
          112,
          83,
          68,
          33,
          3,
          2
         ]
        }
       ],
       "layout": {
        "template": {
         "data": {
          "bar": [
           {
            "error_x": {
             "color": "#2a3f5f"
            },
            "error_y": {
             "color": "#2a3f5f"
            },
            "marker": {
             "line": {
              "color": "#E5ECF6",
              "width": 0.5
             },
             "pattern": {
              "fillmode": "overlay",
              "size": 10,
              "solidity": 0.2
             }
            },
            "type": "bar"
           }
          ],
          "barpolar": [
           {
            "marker": {
             "line": {
              "color": "#E5ECF6",
              "width": 0.5
             },
             "pattern": {
              "fillmode": "overlay",
              "size": 10,
              "solidity": 0.2
             }
            },
            "type": "barpolar"
           }
          ],
          "carpet": [
           {
            "aaxis": {
             "endlinecolor": "#2a3f5f",
             "gridcolor": "white",
             "linecolor": "white",
             "minorgridcolor": "white",
             "startlinecolor": "#2a3f5f"
            },
            "baxis": {
             "endlinecolor": "#2a3f5f",
             "gridcolor": "white",
             "linecolor": "white",
             "minorgridcolor": "white",
             "startlinecolor": "#2a3f5f"
            },
            "type": "carpet"
           }
          ],
          "choropleth": [
           {
            "colorbar": {
             "outlinewidth": 0,
             "ticks": ""
            },
            "type": "choropleth"
           }
          ],
          "contour": [
           {
            "colorbar": {
             "outlinewidth": 0,
             "ticks": ""
            },
            "colorscale": [
             [
              0,
              "#0d0887"
             ],
             [
              0.1111111111111111,
              "#46039f"
             ],
             [
              0.2222222222222222,
              "#7201a8"
             ],
             [
              0.3333333333333333,
              "#9c179e"
             ],
             [
              0.4444444444444444,
              "#bd3786"
             ],
             [
              0.5555555555555556,
              "#d8576b"
             ],
             [
              0.6666666666666666,
              "#ed7953"
             ],
             [
              0.7777777777777778,
              "#fb9f3a"
             ],
             [
              0.8888888888888888,
              "#fdca26"
             ],
             [
              1,
              "#f0f921"
             ]
            ],
            "type": "contour"
           }
          ],
          "contourcarpet": [
           {
            "colorbar": {
             "outlinewidth": 0,
             "ticks": ""
            },
            "type": "contourcarpet"
           }
          ],
          "heatmap": [
           {
            "colorbar": {
             "outlinewidth": 0,
             "ticks": ""
            },
            "colorscale": [
             [
              0,
              "#0d0887"
             ],
             [
              0.1111111111111111,
              "#46039f"
             ],
             [
              0.2222222222222222,
              "#7201a8"
             ],
             [
              0.3333333333333333,
              "#9c179e"
             ],
             [
              0.4444444444444444,
              "#bd3786"
             ],
             [
              0.5555555555555556,
              "#d8576b"
             ],
             [
              0.6666666666666666,
              "#ed7953"
             ],
             [
              0.7777777777777778,
              "#fb9f3a"
             ],
             [
              0.8888888888888888,
              "#fdca26"
             ],
             [
              1,
              "#f0f921"
             ]
            ],
            "type": "heatmap"
           }
          ],
          "histogram": [
           {
            "marker": {
             "pattern": {
              "fillmode": "overlay",
              "size": 10,
              "solidity": 0.2
             }
            },
            "type": "histogram"
           }
          ],
          "histogram2d": [
           {
            "colorbar": {
             "outlinewidth": 0,
             "ticks": ""
            },
            "colorscale": [
             [
              0,
              "#0d0887"
             ],
             [
              0.1111111111111111,
              "#46039f"
             ],
             [
              0.2222222222222222,
              "#7201a8"
             ],
             [
              0.3333333333333333,
              "#9c179e"
             ],
             [
              0.4444444444444444,
              "#bd3786"
             ],
             [
              0.5555555555555556,
              "#d8576b"
             ],
             [
              0.6666666666666666,
              "#ed7953"
             ],
             [
              0.7777777777777778,
              "#fb9f3a"
             ],
             [
              0.8888888888888888,
              "#fdca26"
             ],
             [
              1,
              "#f0f921"
             ]
            ],
            "type": "histogram2d"
           }
          ],
          "histogram2dcontour": [
           {
            "colorbar": {
             "outlinewidth": 0,
             "ticks": ""
            },
            "colorscale": [
             [
              0,
              "#0d0887"
             ],
             [
              0.1111111111111111,
              "#46039f"
             ],
             [
              0.2222222222222222,
              "#7201a8"
             ],
             [
              0.3333333333333333,
              "#9c179e"
             ],
             [
              0.4444444444444444,
              "#bd3786"
             ],
             [
              0.5555555555555556,
              "#d8576b"
             ],
             [
              0.6666666666666666,
              "#ed7953"
             ],
             [
              0.7777777777777778,
              "#fb9f3a"
             ],
             [
              0.8888888888888888,
              "#fdca26"
             ],
             [
              1,
              "#f0f921"
             ]
            ],
            "type": "histogram2dcontour"
           }
          ],
          "mesh3d": [
           {
            "colorbar": {
             "outlinewidth": 0,
             "ticks": ""
            },
            "type": "mesh3d"
           }
          ],
          "parcoords": [
           {
            "line": {
             "colorbar": {
              "outlinewidth": 0,
              "ticks": ""
             }
            },
            "type": "parcoords"
           }
          ],
          "pie": [
           {
            "automargin": true,
            "type": "pie"
           }
          ],
          "scatter": [
           {
            "fillpattern": {
             "fillmode": "overlay",
             "size": 10,
             "solidity": 0.2
            },
            "type": "scatter"
           }
          ],
          "scatter3d": [
           {
            "line": {
             "colorbar": {
              "outlinewidth": 0,
              "ticks": ""
             }
            },
            "marker": {
             "colorbar": {
              "outlinewidth": 0,
              "ticks": ""
             }
            },
            "type": "scatter3d"
           }
          ],
          "scattercarpet": [
           {
            "marker": {
             "colorbar": {
              "outlinewidth": 0,
              "ticks": ""
             }
            },
            "type": "scattercarpet"
           }
          ],
          "scattergeo": [
           {
            "marker": {
             "colorbar": {
              "outlinewidth": 0,
              "ticks": ""
             }
            },
            "type": "scattergeo"
           }
          ],
          "scattergl": [
           {
            "marker": {
             "colorbar": {
              "outlinewidth": 0,
              "ticks": ""
             }
            },
            "type": "scattergl"
           }
          ],
          "scattermap": [
           {
            "marker": {
             "colorbar": {
              "outlinewidth": 0,
              "ticks": ""
             }
            },
            "type": "scattermap"
           }
          ],
          "scattermapbox": [
           {
            "marker": {
             "colorbar": {
              "outlinewidth": 0,
              "ticks": ""
             }
            },
            "type": "scattermapbox"
           }
          ],
          "scatterpolar": [
           {
            "marker": {
             "colorbar": {
              "outlinewidth": 0,
              "ticks": ""
             }
            },
            "type": "scatterpolar"
           }
          ],
          "scatterpolargl": [
           {
            "marker": {
             "colorbar": {
              "outlinewidth": 0,
              "ticks": ""
             }
            },
            "type": "scatterpolargl"
           }
          ],
          "scatterternary": [
           {
            "marker": {
             "colorbar": {
              "outlinewidth": 0,
              "ticks": ""
             }
            },
            "type": "scatterternary"
           }
          ],
          "surface": [
           {
            "colorbar": {
             "outlinewidth": 0,
             "ticks": ""
            },
            "colorscale": [
             [
              0,
              "#0d0887"
             ],
             [
              0.1111111111111111,
              "#46039f"
             ],
             [
              0.2222222222222222,
              "#7201a8"
             ],
             [
              0.3333333333333333,
              "#9c179e"
             ],
             [
              0.4444444444444444,
              "#bd3786"
             ],
             [
              0.5555555555555556,
              "#d8576b"
             ],
             [
              0.6666666666666666,
              "#ed7953"
             ],
             [
              0.7777777777777778,
              "#fb9f3a"
             ],
             [
              0.8888888888888888,
              "#fdca26"
             ],
             [
              1,
              "#f0f921"
             ]
            ],
            "type": "surface"
           }
          ],
          "table": [
           {
            "cells": {
             "fill": {
              "color": "#EBF0F8"
             },
             "line": {
              "color": "white"
             }
            },
            "header": {
             "fill": {
              "color": "#C8D4E3"
             },
             "line": {
              "color": "white"
             }
            },
            "type": "table"
           }
          ]
         },
         "layout": {
          "annotationdefaults": {
           "arrowcolor": "#2a3f5f",
           "arrowhead": 0,
           "arrowwidth": 1
          },
          "autotypenumbers": "strict",
          "coloraxis": {
           "colorbar": {
            "outlinewidth": 0,
            "ticks": ""
           }
          },
          "colorscale": {
           "diverging": [
            [
             0,
             "#8e0152"
            ],
            [
             0.1,
             "#c51b7d"
            ],
            [
             0.2,
             "#de77ae"
            ],
            [
             0.3,
             "#f1b6da"
            ],
            [
             0.4,
             "#fde0ef"
            ],
            [
             0.5,
             "#f7f7f7"
            ],
            [
             0.6,
             "#e6f5d0"
            ],
            [
             0.7,
             "#b8e186"
            ],
            [
             0.8,
             "#7fbc41"
            ],
            [
             0.9,
             "#4d9221"
            ],
            [
             1,
             "#276419"
            ]
           ],
           "sequential": [
            [
             0,
             "#0d0887"
            ],
            [
             0.1111111111111111,
             "#46039f"
            ],
            [
             0.2222222222222222,
             "#7201a8"
            ],
            [
             0.3333333333333333,
             "#9c179e"
            ],
            [
             0.4444444444444444,
             "#bd3786"
            ],
            [
             0.5555555555555556,
             "#d8576b"
            ],
            [
             0.6666666666666666,
             "#ed7953"
            ],
            [
             0.7777777777777778,
             "#fb9f3a"
            ],
            [
             0.8888888888888888,
             "#fdca26"
            ],
            [
             1,
             "#f0f921"
            ]
           ],
           "sequentialminus": [
            [
             0,
             "#0d0887"
            ],
            [
             0.1111111111111111,
             "#46039f"
            ],
            [
             0.2222222222222222,
             "#7201a8"
            ],
            [
             0.3333333333333333,
             "#9c179e"
            ],
            [
             0.4444444444444444,
             "#bd3786"
            ],
            [
             0.5555555555555556,
             "#d8576b"
            ],
            [
             0.6666666666666666,
             "#ed7953"
            ],
            [
             0.7777777777777778,
             "#fb9f3a"
            ],
            [
             0.8888888888888888,
             "#fdca26"
            ],
            [
             1,
             "#f0f921"
            ]
           ]
          },
          "colorway": [
           "#636efa",
           "#EF553B",
           "#00cc96",
           "#ab63fa",
           "#FFA15A",
           "#19d3f3",
           "#FF6692",
           "#B6E880",
           "#FF97FF",
           "#FECB52"
          ],
          "font": {
           "color": "#2a3f5f"
          },
          "geo": {
           "bgcolor": "white",
           "lakecolor": "white",
           "landcolor": "#E5ECF6",
           "showlakes": true,
           "showland": true,
           "subunitcolor": "white"
          },
          "hoverlabel": {
           "align": "left"
          },
          "hovermode": "closest",
          "mapbox": {
           "style": "light"
          },
          "paper_bgcolor": "white",
          "plot_bgcolor": "#E5ECF6",
          "polar": {
           "angularaxis": {
            "gridcolor": "white",
            "linecolor": "white",
            "ticks": ""
           },
           "bgcolor": "#E5ECF6",
           "radialaxis": {
            "gridcolor": "white",
            "linecolor": "white",
            "ticks": ""
           }
          },
          "scene": {
           "xaxis": {
            "backgroundcolor": "#E5ECF6",
            "gridcolor": "white",
            "gridwidth": 2,
            "linecolor": "white",
            "showbackground": true,
            "ticks": "",
            "zerolinecolor": "white"
           },
           "yaxis": {
            "backgroundcolor": "#E5ECF6",
            "gridcolor": "white",
            "gridwidth": 2,
            "linecolor": "white",
            "showbackground": true,
            "ticks": "",
            "zerolinecolor": "white"
           },
           "zaxis": {
            "backgroundcolor": "#E5ECF6",
            "gridcolor": "white",
            "gridwidth": 2,
            "linecolor": "white",
            "showbackground": true,
            "ticks": "",
            "zerolinecolor": "white"
           }
          },
          "shapedefaults": {
           "line": {
            "color": "#2a3f5f"
           }
          },
          "ternary": {
           "aaxis": {
            "gridcolor": "white",
            "linecolor": "white",
            "ticks": ""
           },
           "baxis": {
            "gridcolor": "white",
            "linecolor": "white",
            "ticks": ""
           },
           "bgcolor": "#E5ECF6",
           "caxis": {
            "gridcolor": "white",
            "linecolor": "white",
            "ticks": ""
           }
          },
          "title": {
           "x": 0.05
          },
          "xaxis": {
           "automargin": true,
           "gridcolor": "white",
           "linecolor": "white",
           "ticks": "",
           "title": {
            "standoff": 15
           },
           "zerolinecolor": "white",
           "zerolinewidth": 2
          },
          "yaxis": {
           "automargin": true,
           "gridcolor": "white",
           "linecolor": "white",
           "ticks": "",
           "title": {
            "standoff": 15
           },
           "zerolinecolor": "white",
           "zerolinewidth": 2
          }
         }
        }
       }
      }
     },
     "metadata": {},
     "output_type": "display_data"
    }
   ],
   "source": [
    "import plotly.graph_objects as go\n",
    "\n",
    "fig = go.Figure(data=go.Choropleth(\n",
    "    locations=country_counts['iso'].tolist(),\n",
    "    z=country_counts['count'].tolist(),\n",
    "    text=country_counts['Country'].tolist(),\n",
    "    colorscale='Teal',\n",
    "    colorbar_title='Count'\n",
    "))\n",
    "# change colormap\n",
    "fig.show()"
   ]
  },
  {
   "cell_type": "code",
   "execution_count": 109,
   "metadata": {},
   "outputs": [
    {
     "data": {
      "text/plain": [
       "FuelType\n",
       "Petrol                  614525\n",
       "Diesel                    9647\n",
       "Electricity               2278\n",
       "Petrol + Electricity       477\n",
       "Gas                          4\n",
       "Name: count, dtype: int64"
      ]
     },
     "execution_count": 109,
     "metadata": {},
     "output_type": "execute_result"
    }
   ],
   "source": [
    "vs['FuelType'].value_counts()\n",
    "\n",
    "\n",
    "\n",
    "\n",
    "\n"
   ]
  },
  {
   "cell_type": "code",
   "execution_count": 110,
   "metadata": {},
   "outputs": [
    {
     "data": {
      "text/plain": [
       "FuelType\n",
       "Petrol                  0.980277\n",
       "Diesel                  0.015622\n",
       "Electricity             0.003370\n",
       "Petrol + Electricity    0.000730\n",
       "Name: proportion, dtype: float64"
      ]
     },
     "execution_count": 110,
     "metadata": {},
     "output_type": "execute_result"
    }
   ],
   "source": [
    "vs_sample['FuelType'].value_counts(normalize=True)\n"
   ]
  },
  {
   "cell_type": "code",
   "execution_count": 111,
   "metadata": {},
   "outputs": [],
   "source": [
    "vs_sample['IsEV'] = vs_sample['FuelType'].isin(['Electricity', 'Petrol + Electricity'])\n",
    "\n",
    "\n",
    "\n",
    "\n",
    "\n",
    "\n"
   ]
  },
  {
   "cell_type": "code",
   "execution_count": 113,
   "metadata": {},
   "outputs": [
    {
     "data": {
      "text/plain": [
       "IsEV\n",
       "False    0.995899\n",
       "True     0.004101\n",
       "Name: proportion, dtype: float64"
      ]
     },
     "execution_count": 113,
     "metadata": {},
     "output_type": "execute_result"
    }
   ],
   "source": [
    "vs_sample['IsEV'].value_counts(normalize=True)\n"
   ]
  },
  {
   "cell_type": "code",
   "execution_count": 258,
   "metadata": {},
   "outputs": [],
   "source": [
    "ev_cars = vs_sample[vs_sample['IsEV']]\n"
   ]
  },
  {
   "cell_type": "code",
   "execution_count": 259,
   "metadata": {},
   "outputs": [
    {
     "data": {
      "text/plain": [
       "Make\n",
       "TESLA         265\n",
       "TOYOTA         59\n",
       "KIA            31\n",
       "VOLKSWAGEN     15\n",
       "LEXUS           9\n",
       "AUDI            6\n",
       "NISSAN          4\n",
       "HONDA           4\n",
       "CHANGAN         4\n",
       "BMW             3\n",
       "CHEVROLET       3\n",
       "LAND ROVER      2\n",
       "JAGUAR          2\n",
       "HUAWEI          2\n",
       "HYUNDAI         1\n",
       "Name: count, dtype: int64"
      ]
     },
     "execution_count": 259,
     "metadata": {},
     "output_type": "execute_result"
    }
   ],
   "source": [
    "ev_cars['Make'].value_counts()\n"
   ]
  },
  {
   "cell_type": "code",
   "execution_count": 247,
   "metadata": {},
   "outputs": [
    {
     "data": {
      "application/vnd.plotly.v1+json": {
       "config": {
        "plotlyServerURL": "https://plot.ly"
       },
       "data": [
        {
         "labels": [
          false,
          true
         ],
         "pull": [
          0.2,
          0
         ],
         "type": "pie",
         "values": [
          0.9958994259196288,
          0.004100574080371252
         ]
        }
       ],
       "layout": {
        "template": {
         "data": {
          "bar": [
           {
            "error_x": {
             "color": "#2a3f5f"
            },
            "error_y": {
             "color": "#2a3f5f"
            },
            "marker": {
             "line": {
              "color": "#E5ECF6",
              "width": 0.5
             },
             "pattern": {
              "fillmode": "overlay",
              "size": 10,
              "solidity": 0.2
             }
            },
            "type": "bar"
           }
          ],
          "barpolar": [
           {
            "marker": {
             "line": {
              "color": "#E5ECF6",
              "width": 0.5
             },
             "pattern": {
              "fillmode": "overlay",
              "size": 10,
              "solidity": 0.2
             }
            },
            "type": "barpolar"
           }
          ],
          "carpet": [
           {
            "aaxis": {
             "endlinecolor": "#2a3f5f",
             "gridcolor": "white",
             "linecolor": "white",
             "minorgridcolor": "white",
             "startlinecolor": "#2a3f5f"
            },
            "baxis": {
             "endlinecolor": "#2a3f5f",
             "gridcolor": "white",
             "linecolor": "white",
             "minorgridcolor": "white",
             "startlinecolor": "#2a3f5f"
            },
            "type": "carpet"
           }
          ],
          "choropleth": [
           {
            "colorbar": {
             "outlinewidth": 0,
             "ticks": ""
            },
            "type": "choropleth"
           }
          ],
          "contour": [
           {
            "colorbar": {
             "outlinewidth": 0,
             "ticks": ""
            },
            "colorscale": [
             [
              0,
              "#0d0887"
             ],
             [
              0.1111111111111111,
              "#46039f"
             ],
             [
              0.2222222222222222,
              "#7201a8"
             ],
             [
              0.3333333333333333,
              "#9c179e"
             ],
             [
              0.4444444444444444,
              "#bd3786"
             ],
             [
              0.5555555555555556,
              "#d8576b"
             ],
             [
              0.6666666666666666,
              "#ed7953"
             ],
             [
              0.7777777777777778,
              "#fb9f3a"
             ],
             [
              0.8888888888888888,
              "#fdca26"
             ],
             [
              1,
              "#f0f921"
             ]
            ],
            "type": "contour"
           }
          ],
          "contourcarpet": [
           {
            "colorbar": {
             "outlinewidth": 0,
             "ticks": ""
            },
            "type": "contourcarpet"
           }
          ],
          "heatmap": [
           {
            "colorbar": {
             "outlinewidth": 0,
             "ticks": ""
            },
            "colorscale": [
             [
              0,
              "#0d0887"
             ],
             [
              0.1111111111111111,
              "#46039f"
             ],
             [
              0.2222222222222222,
              "#7201a8"
             ],
             [
              0.3333333333333333,
              "#9c179e"
             ],
             [
              0.4444444444444444,
              "#bd3786"
             ],
             [
              0.5555555555555556,
              "#d8576b"
             ],
             [
              0.6666666666666666,
              "#ed7953"
             ],
             [
              0.7777777777777778,
              "#fb9f3a"
             ],
             [
              0.8888888888888888,
              "#fdca26"
             ],
             [
              1,
              "#f0f921"
             ]
            ],
            "type": "heatmap"
           }
          ],
          "histogram": [
           {
            "marker": {
             "pattern": {
              "fillmode": "overlay",
              "size": 10,
              "solidity": 0.2
             }
            },
            "type": "histogram"
           }
          ],
          "histogram2d": [
           {
            "colorbar": {
             "outlinewidth": 0,
             "ticks": ""
            },
            "colorscale": [
             [
              0,
              "#0d0887"
             ],
             [
              0.1111111111111111,
              "#46039f"
             ],
             [
              0.2222222222222222,
              "#7201a8"
             ],
             [
              0.3333333333333333,
              "#9c179e"
             ],
             [
              0.4444444444444444,
              "#bd3786"
             ],
             [
              0.5555555555555556,
              "#d8576b"
             ],
             [
              0.6666666666666666,
              "#ed7953"
             ],
             [
              0.7777777777777778,
              "#fb9f3a"
             ],
             [
              0.8888888888888888,
              "#fdca26"
             ],
             [
              1,
              "#f0f921"
             ]
            ],
            "type": "histogram2d"
           }
          ],
          "histogram2dcontour": [
           {
            "colorbar": {
             "outlinewidth": 0,
             "ticks": ""
            },
            "colorscale": [
             [
              0,
              "#0d0887"
             ],
             [
              0.1111111111111111,
              "#46039f"
             ],
             [
              0.2222222222222222,
              "#7201a8"
             ],
             [
              0.3333333333333333,
              "#9c179e"
             ],
             [
              0.4444444444444444,
              "#bd3786"
             ],
             [
              0.5555555555555556,
              "#d8576b"
             ],
             [
              0.6666666666666666,
              "#ed7953"
             ],
             [
              0.7777777777777778,
              "#fb9f3a"
             ],
             [
              0.8888888888888888,
              "#fdca26"
             ],
             [
              1,
              "#f0f921"
             ]
            ],
            "type": "histogram2dcontour"
           }
          ],
          "mesh3d": [
           {
            "colorbar": {
             "outlinewidth": 0,
             "ticks": ""
            },
            "type": "mesh3d"
           }
          ],
          "parcoords": [
           {
            "line": {
             "colorbar": {
              "outlinewidth": 0,
              "ticks": ""
             }
            },
            "type": "parcoords"
           }
          ],
          "pie": [
           {
            "automargin": true,
            "type": "pie"
           }
          ],
          "scatter": [
           {
            "fillpattern": {
             "fillmode": "overlay",
             "size": 10,
             "solidity": 0.2
            },
            "type": "scatter"
           }
          ],
          "scatter3d": [
           {
            "line": {
             "colorbar": {
              "outlinewidth": 0,
              "ticks": ""
             }
            },
            "marker": {
             "colorbar": {
              "outlinewidth": 0,
              "ticks": ""
             }
            },
            "type": "scatter3d"
           }
          ],
          "scattercarpet": [
           {
            "marker": {
             "colorbar": {
              "outlinewidth": 0,
              "ticks": ""
             }
            },
            "type": "scattercarpet"
           }
          ],
          "scattergeo": [
           {
            "marker": {
             "colorbar": {
              "outlinewidth": 0,
              "ticks": ""
             }
            },
            "type": "scattergeo"
           }
          ],
          "scattergl": [
           {
            "marker": {
             "colorbar": {
              "outlinewidth": 0,
              "ticks": ""
             }
            },
            "type": "scattergl"
           }
          ],
          "scattermap": [
           {
            "marker": {
             "colorbar": {
              "outlinewidth": 0,
              "ticks": ""
             }
            },
            "type": "scattermap"
           }
          ],
          "scattermapbox": [
           {
            "marker": {
             "colorbar": {
              "outlinewidth": 0,
              "ticks": ""
             }
            },
            "type": "scattermapbox"
           }
          ],
          "scatterpolar": [
           {
            "marker": {
             "colorbar": {
              "outlinewidth": 0,
              "ticks": ""
             }
            },
            "type": "scatterpolar"
           }
          ],
          "scatterpolargl": [
           {
            "marker": {
             "colorbar": {
              "outlinewidth": 0,
              "ticks": ""
             }
            },
            "type": "scatterpolargl"
           }
          ],
          "scatterternary": [
           {
            "marker": {
             "colorbar": {
              "outlinewidth": 0,
              "ticks": ""
             }
            },
            "type": "scatterternary"
           }
          ],
          "surface": [
           {
            "colorbar": {
             "outlinewidth": 0,
             "ticks": ""
            },
            "colorscale": [
             [
              0,
              "#0d0887"
             ],
             [
              0.1111111111111111,
              "#46039f"
             ],
             [
              0.2222222222222222,
              "#7201a8"
             ],
             [
              0.3333333333333333,
              "#9c179e"
             ],
             [
              0.4444444444444444,
              "#bd3786"
             ],
             [
              0.5555555555555556,
              "#d8576b"
             ],
             [
              0.6666666666666666,
              "#ed7953"
             ],
             [
              0.7777777777777778,
              "#fb9f3a"
             ],
             [
              0.8888888888888888,
              "#fdca26"
             ],
             [
              1,
              "#f0f921"
             ]
            ],
            "type": "surface"
           }
          ],
          "table": [
           {
            "cells": {
             "fill": {
              "color": "#EBF0F8"
             },
             "line": {
              "color": "white"
             }
            },
            "header": {
             "fill": {
              "color": "#C8D4E3"
             },
             "line": {
              "color": "white"
             }
            },
            "type": "table"
           }
          ]
         },
         "layout": {
          "annotationdefaults": {
           "arrowcolor": "#2a3f5f",
           "arrowhead": 0,
           "arrowwidth": 1
          },
          "autotypenumbers": "strict",
          "coloraxis": {
           "colorbar": {
            "outlinewidth": 0,
            "ticks": ""
           }
          },
          "colorscale": {
           "diverging": [
            [
             0,
             "#8e0152"
            ],
            [
             0.1,
             "#c51b7d"
            ],
            [
             0.2,
             "#de77ae"
            ],
            [
             0.3,
             "#f1b6da"
            ],
            [
             0.4,
             "#fde0ef"
            ],
            [
             0.5,
             "#f7f7f7"
            ],
            [
             0.6,
             "#e6f5d0"
            ],
            [
             0.7,
             "#b8e186"
            ],
            [
             0.8,
             "#7fbc41"
            ],
            [
             0.9,
             "#4d9221"
            ],
            [
             1,
             "#276419"
            ]
           ],
           "sequential": [
            [
             0,
             "#0d0887"
            ],
            [
             0.1111111111111111,
             "#46039f"
            ],
            [
             0.2222222222222222,
             "#7201a8"
            ],
            [
             0.3333333333333333,
             "#9c179e"
            ],
            [
             0.4444444444444444,
             "#bd3786"
            ],
            [
             0.5555555555555556,
             "#d8576b"
            ],
            [
             0.6666666666666666,
             "#ed7953"
            ],
            [
             0.7777777777777778,
             "#fb9f3a"
            ],
            [
             0.8888888888888888,
             "#fdca26"
            ],
            [
             1,
             "#f0f921"
            ]
           ],
           "sequentialminus": [
            [
             0,
             "#0d0887"
            ],
            [
             0.1111111111111111,
             "#46039f"
            ],
            [
             0.2222222222222222,
             "#7201a8"
            ],
            [
             0.3333333333333333,
             "#9c179e"
            ],
            [
             0.4444444444444444,
             "#bd3786"
            ],
            [
             0.5555555555555556,
             "#d8576b"
            ],
            [
             0.6666666666666666,
             "#ed7953"
            ],
            [
             0.7777777777777778,
             "#fb9f3a"
            ],
            [
             0.8888888888888888,
             "#fdca26"
            ],
            [
             1,
             "#f0f921"
            ]
           ]
          },
          "colorway": [
           "#636efa",
           "#EF553B",
           "#00cc96",
           "#ab63fa",
           "#FFA15A",
           "#19d3f3",
           "#FF6692",
           "#B6E880",
           "#FF97FF",
           "#FECB52"
          ],
          "font": {
           "color": "#2a3f5f"
          },
          "geo": {
           "bgcolor": "white",
           "lakecolor": "white",
           "landcolor": "#E5ECF6",
           "showlakes": true,
           "showland": true,
           "subunitcolor": "white"
          },
          "hoverlabel": {
           "align": "left"
          },
          "hovermode": "closest",
          "mapbox": {
           "style": "light"
          },
          "paper_bgcolor": "white",
          "plot_bgcolor": "#E5ECF6",
          "polar": {
           "angularaxis": {
            "gridcolor": "white",
            "linecolor": "white",
            "ticks": ""
           },
           "bgcolor": "#E5ECF6",
           "radialaxis": {
            "gridcolor": "white",
            "linecolor": "white",
            "ticks": ""
           }
          },
          "scene": {
           "xaxis": {
            "backgroundcolor": "#E5ECF6",
            "gridcolor": "white",
            "gridwidth": 2,
            "linecolor": "white",
            "showbackground": true,
            "ticks": "",
            "zerolinecolor": "white"
           },
           "yaxis": {
            "backgroundcolor": "#E5ECF6",
            "gridcolor": "white",
            "gridwidth": 2,
            "linecolor": "white",
            "showbackground": true,
            "ticks": "",
            "zerolinecolor": "white"
           },
           "zaxis": {
            "backgroundcolor": "#E5ECF6",
            "gridcolor": "white",
            "gridwidth": 2,
            "linecolor": "white",
            "showbackground": true,
            "ticks": "",
            "zerolinecolor": "white"
           }
          },
          "shapedefaults": {
           "line": {
            "color": "#2a3f5f"
           }
          },
          "ternary": {
           "aaxis": {
            "gridcolor": "white",
            "linecolor": "white",
            "ticks": ""
           },
           "baxis": {
            "gridcolor": "white",
            "linecolor": "white",
            "ticks": ""
           },
           "bgcolor": "#E5ECF6",
           "caxis": {
            "gridcolor": "white",
            "linecolor": "white",
            "ticks": ""
           }
          },
          "title": {
           "x": 0.05
          },
          "xaxis": {
           "automargin": true,
           "gridcolor": "white",
           "linecolor": "white",
           "ticks": "",
           "title": {
            "standoff": 15
           },
           "zerolinecolor": "white",
           "zerolinewidth": 2
          },
          "yaxis": {
           "automargin": true,
           "gridcolor": "white",
           "linecolor": "white",
           "ticks": "",
           "title": {
            "standoff": 15
           },
           "zerolinecolor": "white",
           "zerolinewidth": 2
          }
         }
        }
       }
      }
     },
     "metadata": {},
     "output_type": "display_data"
    }
   ],
   "source": [
    "ev_comp = vs_sample['IsEV'].value_counts().reset_index()\n",
    "ev_comp['IsEV']\n",
    "ev_comp['count'] = ev_comp['count'] / ev_comp['count'].sum()\n",
    "labels = ev_comp['IsEV'].tolist()\n",
    "values = ev_comp['count'].tolist()\n",
    "\n",
    "fig = go.Figure(\n",
    "    data=go.Pie(labels=labels, values=values, pull=[0.2, 0])\n",
    ")\n",
    "\n",
    "fig.show()\n"
   ]
  },
  {
   "cell_type": "code",
   "execution_count": 248,
   "metadata": {},
   "outputs": [
    {
     "data": {
      "text/html": [
       "<div>\n",
       "<style scoped>\n",
       "    .dataframe tbody tr th:only-of-type {\n",
       "        vertical-align: middle;\n",
       "    }\n",
       "\n",
       "    .dataframe tbody tr th {\n",
       "        vertical-align: top;\n",
       "    }\n",
       "\n",
       "    .dataframe thead th {\n",
       "        text-align: right;\n",
       "    }\n",
       "</style>\n",
       "<table border=\"1\" class=\"dataframe\">\n",
       "  <thead>\n",
       "    <tr style=\"text-align: right;\">\n",
       "      <th></th>\n",
       "      <th>IsEV</th>\n",
       "      <th>count</th>\n",
       "    </tr>\n",
       "  </thead>\n",
       "  <tbody>\n",
       "    <tr>\n",
       "      <th>0</th>\n",
       "      <td>False</td>\n",
       "      <td>0.995899</td>\n",
       "    </tr>\n",
       "    <tr>\n",
       "      <th>1</th>\n",
       "      <td>True</td>\n",
       "      <td>0.004101</td>\n",
       "    </tr>\n",
       "  </tbody>\n",
       "</table>\n",
       "</div>"
      ],
      "text/plain": [
       "    IsEV     count\n",
       "0  False  0.995899\n",
       "1   True  0.004101"
      ]
     },
     "execution_count": 248,
     "metadata": {},
     "output_type": "execute_result"
    }
   ],
   "source": [
    "ev_comp"
   ]
  },
  {
   "cell_type": "code",
   "execution_count": 260,
   "metadata": {},
   "outputs": [
    {
     "name": "stderr",
     "output_type": "stream",
     "text": [
      "C:\\Users\\Mohammed Ali\\AppData\\Local\\Temp\\ipykernel_40032\\2023339473.py:1: SettingWithCopyWarning:\n",
      "\n",
      "\n",
      "A value is trying to be set on a copy of a slice from a DataFrame.\n",
      "Try using .loc[row_indexer,col_indexer] = value instead\n",
      "\n",
      "See the caveats in the documentation: https://pandas.pydata.org/pandas-docs/stable/user_guide/indexing.html#returning-a-view-versus-a-copy\n",
      "\n"
     ]
    }
   ],
   "source": [
    "ev_cars['InquiryDate'] = pd.to_datetime(ev_cars['InquiryDate'], errors='coerce')\n",
    "\n",
    "# ev_cars['InquiryDate'] = ev_cars['InquiryDate'].dt.date\n",
    "\n",
    "# ev_cars = ev_cars.groupby(['InquiryDate', 'VIN']).size().reset_index(name='count')\n"
   ]
  },
  {
   "cell_type": "code",
   "execution_count": 278,
   "metadata": {},
   "outputs": [],
   "source": [
    "ev_cars_2 = ev_cars.set_index('InquiryDate')"
   ]
  },
  {
   "cell_type": "code",
   "execution_count": 279,
   "metadata": {},
   "outputs": [],
   "source": [
    "ev_cars_2 = ev_cars_2.sort_index()"
   ]
  },
  {
   "cell_type": "code",
   "execution_count": 280,
   "metadata": {},
   "outputs": [],
   "source": [
    "ev_cars_2 = ev_cars_2.resample('D').size().cumsum()\n"
   ]
  },
  {
   "cell_type": "code",
   "execution_count": 281,
   "metadata": {},
   "outputs": [],
   "source": [
    "ev_cars_2 = ev_cars_2.reset_index()\n",
    "ev_cars_2.columns = ['InquiryDate', 'count']"
   ]
  },
  {
   "cell_type": "code",
   "execution_count": 282,
   "metadata": {},
   "outputs": [
    {
     "data": {
      "text/html": [
       "<div>\n",
       "<style scoped>\n",
       "    .dataframe tbody tr th:only-of-type {\n",
       "        vertical-align: middle;\n",
       "    }\n",
       "\n",
       "    .dataframe tbody tr th {\n",
       "        vertical-align: top;\n",
       "    }\n",
       "\n",
       "    .dataframe thead th {\n",
       "        text-align: right;\n",
       "    }\n",
       "</style>\n",
       "<table border=\"1\" class=\"dataframe\">\n",
       "  <thead>\n",
       "    <tr style=\"text-align: right;\">\n",
       "      <th></th>\n",
       "      <th>InquiryDate</th>\n",
       "      <th>count</th>\n",
       "    </tr>\n",
       "  </thead>\n",
       "  <tbody>\n",
       "    <tr>\n",
       "      <th>0</th>\n",
       "      <td>2024-12-31</td>\n",
       "      <td>1</td>\n",
       "    </tr>\n",
       "    <tr>\n",
       "      <th>1</th>\n",
       "      <td>2025-01-01</td>\n",
       "      <td>1</td>\n",
       "    </tr>\n",
       "    <tr>\n",
       "      <th>2</th>\n",
       "      <td>2025-01-02</td>\n",
       "      <td>1</td>\n",
       "    </tr>\n",
       "    <tr>\n",
       "      <th>3</th>\n",
       "      <td>2025-01-03</td>\n",
       "      <td>1</td>\n",
       "    </tr>\n",
       "    <tr>\n",
       "      <th>4</th>\n",
       "      <td>2025-01-04</td>\n",
       "      <td>1</td>\n",
       "    </tr>\n",
       "    <tr>\n",
       "      <th>...</th>\n",
       "      <td>...</td>\n",
       "      <td>...</td>\n",
       "    </tr>\n",
       "    <tr>\n",
       "      <th>116</th>\n",
       "      <td>2025-04-26</td>\n",
       "      <td>367</td>\n",
       "    </tr>\n",
       "    <tr>\n",
       "      <th>117</th>\n",
       "      <td>2025-04-27</td>\n",
       "      <td>370</td>\n",
       "    </tr>\n",
       "    <tr>\n",
       "      <th>118</th>\n",
       "      <td>2025-04-28</td>\n",
       "      <td>385</td>\n",
       "    </tr>\n",
       "    <tr>\n",
       "      <th>119</th>\n",
       "      <td>2025-04-29</td>\n",
       "      <td>403</td>\n",
       "    </tr>\n",
       "    <tr>\n",
       "      <th>120</th>\n",
       "      <td>2025-04-30</td>\n",
       "      <td>410</td>\n",
       "    </tr>\n",
       "  </tbody>\n",
       "</table>\n",
       "<p>121 rows × 2 columns</p>\n",
       "</div>"
      ],
      "text/plain": [
       "    InquiryDate  count\n",
       "0    2024-12-31      1\n",
       "1    2025-01-01      1\n",
       "2    2025-01-02      1\n",
       "3    2025-01-03      1\n",
       "4    2025-01-04      1\n",
       "..          ...    ...\n",
       "116  2025-04-26    367\n",
       "117  2025-04-27    370\n",
       "118  2025-04-28    385\n",
       "119  2025-04-29    403\n",
       "120  2025-04-30    410\n",
       "\n",
       "[121 rows x 2 columns]"
      ]
     },
     "execution_count": 282,
     "metadata": {},
     "output_type": "execute_result"
    }
   ],
   "source": [
    "ev_cars_2"
   ]
  },
  {
   "cell_type": "code",
   "execution_count": 283,
   "metadata": {},
   "outputs": [],
   "source": [
    "ev_cars_2['count'] = ev_cars_2['count'] / ev_cars_2['count'].max()\n"
   ]
  },
  {
   "cell_type": "code",
   "execution_count": 284,
   "metadata": {},
   "outputs": [
    {
     "data": {
      "text/html": [
       "<div>\n",
       "<style scoped>\n",
       "    .dataframe tbody tr th:only-of-type {\n",
       "        vertical-align: middle;\n",
       "    }\n",
       "\n",
       "    .dataframe tbody tr th {\n",
       "        vertical-align: top;\n",
       "    }\n",
       "\n",
       "    .dataframe thead th {\n",
       "        text-align: right;\n",
       "    }\n",
       "</style>\n",
       "<table border=\"1\" class=\"dataframe\">\n",
       "  <thead>\n",
       "    <tr style=\"text-align: right;\">\n",
       "      <th></th>\n",
       "      <th>InquiryDate</th>\n",
       "      <th>count</th>\n",
       "    </tr>\n",
       "  </thead>\n",
       "  <tbody>\n",
       "    <tr>\n",
       "      <th>0</th>\n",
       "      <td>2024-12-31</td>\n",
       "      <td>0.002439</td>\n",
       "    </tr>\n",
       "    <tr>\n",
       "      <th>1</th>\n",
       "      <td>2025-01-01</td>\n",
       "      <td>0.002439</td>\n",
       "    </tr>\n",
       "    <tr>\n",
       "      <th>2</th>\n",
       "      <td>2025-01-02</td>\n",
       "      <td>0.002439</td>\n",
       "    </tr>\n",
       "    <tr>\n",
       "      <th>3</th>\n",
       "      <td>2025-01-03</td>\n",
       "      <td>0.002439</td>\n",
       "    </tr>\n",
       "    <tr>\n",
       "      <th>4</th>\n",
       "      <td>2025-01-04</td>\n",
       "      <td>0.002439</td>\n",
       "    </tr>\n",
       "    <tr>\n",
       "      <th>...</th>\n",
       "      <td>...</td>\n",
       "      <td>...</td>\n",
       "    </tr>\n",
       "    <tr>\n",
       "      <th>116</th>\n",
       "      <td>2025-04-26</td>\n",
       "      <td>0.895122</td>\n",
       "    </tr>\n",
       "    <tr>\n",
       "      <th>117</th>\n",
       "      <td>2025-04-27</td>\n",
       "      <td>0.902439</td>\n",
       "    </tr>\n",
       "    <tr>\n",
       "      <th>118</th>\n",
       "      <td>2025-04-28</td>\n",
       "      <td>0.939024</td>\n",
       "    </tr>\n",
       "    <tr>\n",
       "      <th>119</th>\n",
       "      <td>2025-04-29</td>\n",
       "      <td>0.982927</td>\n",
       "    </tr>\n",
       "    <tr>\n",
       "      <th>120</th>\n",
       "      <td>2025-04-30</td>\n",
       "      <td>1.000000</td>\n",
       "    </tr>\n",
       "  </tbody>\n",
       "</table>\n",
       "<p>121 rows × 2 columns</p>\n",
       "</div>"
      ],
      "text/plain": [
       "    InquiryDate     count\n",
       "0    2024-12-31  0.002439\n",
       "1    2025-01-01  0.002439\n",
       "2    2025-01-02  0.002439\n",
       "3    2025-01-03  0.002439\n",
       "4    2025-01-04  0.002439\n",
       "..          ...       ...\n",
       "116  2025-04-26  0.895122\n",
       "117  2025-04-27  0.902439\n",
       "118  2025-04-28  0.939024\n",
       "119  2025-04-29  0.982927\n",
       "120  2025-04-30  1.000000\n",
       "\n",
       "[121 rows x 2 columns]"
      ]
     },
     "execution_count": 284,
     "metadata": {},
     "output_type": "execute_result"
    }
   ],
   "source": [
    "ev_cars_2"
   ]
  },
  {
   "cell_type": "code",
   "execution_count": 285,
   "metadata": {},
   "outputs": [],
   "source": [
    "ev_cars_2['count'] *= 100"
   ]
  },
  {
   "cell_type": "code",
   "execution_count": 286,
   "metadata": {},
   "outputs": [
    {
     "data": {
      "application/vnd.plotly.v1+json": {
       "config": {
        "plotlyServerURL": "https://plot.ly"
       },
       "data": [
        {
         "hovertemplate": "InquiryDate=%{x}<br>count=%{y}<extra></extra>",
         "legendgroup": "",
         "line": {
          "color": "#636efa",
          "dash": "solid"
         },
         "marker": {
          "symbol": "circle"
         },
         "mode": "lines",
         "name": "",
         "orientation": "v",
         "showlegend": false,
         "type": "scatter",
         "x": [
          "2024-12-31T00:00:00.000000000",
          "2025-01-01T00:00:00.000000000",
          "2025-01-02T00:00:00.000000000",
          "2025-01-03T00:00:00.000000000",
          "2025-01-04T00:00:00.000000000",
          "2025-01-05T00:00:00.000000000",
          "2025-01-06T00:00:00.000000000",
          "2025-01-07T00:00:00.000000000",
          "2025-01-08T00:00:00.000000000",
          "2025-01-09T00:00:00.000000000",
          "2025-01-10T00:00:00.000000000",
          "2025-01-11T00:00:00.000000000",
          "2025-01-12T00:00:00.000000000",
          "2025-01-13T00:00:00.000000000",
          "2025-01-14T00:00:00.000000000",
          "2025-01-15T00:00:00.000000000",
          "2025-01-16T00:00:00.000000000",
          "2025-01-17T00:00:00.000000000",
          "2025-01-18T00:00:00.000000000",
          "2025-01-19T00:00:00.000000000",
          "2025-01-20T00:00:00.000000000",
          "2025-01-21T00:00:00.000000000",
          "2025-01-22T00:00:00.000000000",
          "2025-01-23T00:00:00.000000000",
          "2025-01-24T00:00:00.000000000",
          "2025-01-25T00:00:00.000000000",
          "2025-01-26T00:00:00.000000000",
          "2025-01-27T00:00:00.000000000",
          "2025-01-28T00:00:00.000000000",
          "2025-01-29T00:00:00.000000000",
          "2025-01-30T00:00:00.000000000",
          "2025-01-31T00:00:00.000000000",
          "2025-02-01T00:00:00.000000000",
          "2025-02-02T00:00:00.000000000",
          "2025-02-03T00:00:00.000000000",
          "2025-02-04T00:00:00.000000000",
          "2025-02-05T00:00:00.000000000",
          "2025-02-06T00:00:00.000000000",
          "2025-02-07T00:00:00.000000000",
          "2025-02-08T00:00:00.000000000",
          "2025-02-09T00:00:00.000000000",
          "2025-02-10T00:00:00.000000000",
          "2025-02-11T00:00:00.000000000",
          "2025-02-12T00:00:00.000000000",
          "2025-02-13T00:00:00.000000000",
          "2025-02-14T00:00:00.000000000",
          "2025-02-15T00:00:00.000000000",
          "2025-02-16T00:00:00.000000000",
          "2025-02-17T00:00:00.000000000",
          "2025-02-18T00:00:00.000000000",
          "2025-02-19T00:00:00.000000000",
          "2025-02-20T00:00:00.000000000",
          "2025-02-21T00:00:00.000000000",
          "2025-02-22T00:00:00.000000000",
          "2025-02-23T00:00:00.000000000",
          "2025-02-24T00:00:00.000000000",
          "2025-02-25T00:00:00.000000000",
          "2025-02-26T00:00:00.000000000",
          "2025-02-27T00:00:00.000000000",
          "2025-02-28T00:00:00.000000000",
          "2025-03-01T00:00:00.000000000",
          "2025-03-02T00:00:00.000000000",
          "2025-03-03T00:00:00.000000000",
          "2025-03-04T00:00:00.000000000",
          "2025-03-05T00:00:00.000000000",
          "2025-03-06T00:00:00.000000000",
          "2025-03-07T00:00:00.000000000",
          "2025-03-08T00:00:00.000000000",
          "2025-03-09T00:00:00.000000000",
          "2025-03-10T00:00:00.000000000",
          "2025-03-11T00:00:00.000000000",
          "2025-03-12T00:00:00.000000000",
          "2025-03-13T00:00:00.000000000",
          "2025-03-14T00:00:00.000000000",
          "2025-03-15T00:00:00.000000000",
          "2025-03-16T00:00:00.000000000",
          "2025-03-17T00:00:00.000000000",
          "2025-03-18T00:00:00.000000000",
          "2025-03-19T00:00:00.000000000",
          "2025-03-20T00:00:00.000000000",
          "2025-03-21T00:00:00.000000000",
          "2025-03-22T00:00:00.000000000",
          "2025-03-23T00:00:00.000000000",
          "2025-03-24T00:00:00.000000000",
          "2025-03-25T00:00:00.000000000",
          "2025-03-26T00:00:00.000000000",
          "2025-03-27T00:00:00.000000000",
          "2025-03-28T00:00:00.000000000",
          "2025-03-29T00:00:00.000000000",
          "2025-03-30T00:00:00.000000000",
          "2025-03-31T00:00:00.000000000",
          "2025-04-01T00:00:00.000000000",
          "2025-04-02T00:00:00.000000000",
          "2025-04-03T00:00:00.000000000",
          "2025-04-04T00:00:00.000000000",
          "2025-04-05T00:00:00.000000000",
          "2025-04-06T00:00:00.000000000",
          "2025-04-07T00:00:00.000000000",
          "2025-04-08T00:00:00.000000000",
          "2025-04-09T00:00:00.000000000",
          "2025-04-10T00:00:00.000000000",
          "2025-04-11T00:00:00.000000000",
          "2025-04-12T00:00:00.000000000",
          "2025-04-13T00:00:00.000000000",
          "2025-04-14T00:00:00.000000000",
          "2025-04-15T00:00:00.000000000",
          "2025-04-16T00:00:00.000000000",
          "2025-04-17T00:00:00.000000000",
          "2025-04-18T00:00:00.000000000",
          "2025-04-19T00:00:00.000000000",
          "2025-04-20T00:00:00.000000000",
          "2025-04-21T00:00:00.000000000",
          "2025-04-22T00:00:00.000000000",
          "2025-04-23T00:00:00.000000000",
          "2025-04-24T00:00:00.000000000",
          "2025-04-25T00:00:00.000000000",
          "2025-04-26T00:00:00.000000000",
          "2025-04-27T00:00:00.000000000",
          "2025-04-28T00:00:00.000000000",
          "2025-04-29T00:00:00.000000000",
          "2025-04-30T00:00:00.000000000"
         ],
         "xaxis": "x",
         "y": {
          "bdata": "OB+D8zE4zz84H4PzMTjPPzgfg/MxOM8/OB+D8zE4zz84H4PzMTjPPzgfg/MxOM8/OB+D8zE4zz84H4PzMTjPPzgfg/MxON8/OB+D8zE43z84H4PzMTjvPzgfg/MxOO8/OB+D8zE47z+D8zE4H4PzP2tXonYlavc/a1eidiVq9z9rV6J2JWr3P2tXonYlavc/UrsStStR+z9SuxK1K1H7P1K7ErUrUfs/UrsStStR+z+PwfkYnI8BQI/B+RicjwFAj8H5GJyPAUCPwfkYnI8BQIPzMTgfgwNAdyVqV6J2BUBrV6J2JWoHQF6J2pWoXQlAUrsStStRC0BSuxK1K1ELQFK7ErUrUQtAUrsStStRC0CWqF2J2pUQQInalahdiRJAa1eidiVqF0BrV6J2JWoXQGtXonYlahdAZHA+BudjGEBkcD4G52MYQErUrkTtShxAStSuRO1KHEAZnI/B+RggQBmcj8H5GCBAlqhdidqVIEAMzsfgfAwiQAzOx+B8DCJA9DE4H4PzJUDnY3A+BucnQMH5GJyPwS1AlqhdidqVMEDVrkTtStQwQI/B+RicjzFAS9SuRO1KMkBF7UrUrkQzQD8G52NwPjRAdyVqV6J2NUCvRO1K1K42QGRwPgbnYzhA4XwMzsfgOEDhfAzOx+A4QJaoXYnalTpAStSuRO1KPECD8zE4H4M9QBmcj8H5GEBAtStRuxK1QEC1K1G7ErVAQDI4H4PzMUFAidqVqF2JQkBF7UrUrkRDQCCD8zE4H0RA2pWoXYnaREB3JWpXonZFQLUrUbsStUVA9DE4H4PzRUANzsfgfAxHQGtXonYlakdAqF2J2pWoR0DnY3A+BudHQKJ2JWpXokhAwvkYnI/BSEDC+Ricj8FIQDgfg/MxOEpAMjgfg/MxS0CwRO1K1K5LQGlXonYlakxAJWpXonYlTUBjcD4G52NNQGNwPgbnY01AonYlaleiTUCidiVqV6JNQB+D8zE4H05AXYnalahdTkDalahdidpOQBmcj8H5GE9AOB+D8zE4T0BXonYlaldPQDgfg/MxOFBABudjcD6GUED0MTgfg/NQQB+D8zE4n1FAnI/B+RgcUkAZnI/B+ZhSQJaoXYnaFVNAtStRuxI1U0AyOB+D87FTQOF8DM7H4FNAcT4G52PwU0Agg/MxOB9UQM7H4HwMTlRAuxK1K1G7VEDalahdidpUQBmcj8H5GFVAZHA+BufjVUAyOB+D8zFWQOF8DM7HYFZAkMH5GJyPVkD5GJyPwXlXQBO1K1G7klhAAAAAAAAAWUA=",
          "dtype": "f8"
         },
         "yaxis": "y"
        }
       ],
       "layout": {
        "legend": {
         "tracegroupgap": 0
        },
        "template": {
         "data": {
          "bar": [
           {
            "error_x": {
             "color": "#2a3f5f"
            },
            "error_y": {
             "color": "#2a3f5f"
            },
            "marker": {
             "line": {
              "color": "#E5ECF6",
              "width": 0.5
             },
             "pattern": {
              "fillmode": "overlay",
              "size": 10,
              "solidity": 0.2
             }
            },
            "type": "bar"
           }
          ],
          "barpolar": [
           {
            "marker": {
             "line": {
              "color": "#E5ECF6",
              "width": 0.5
             },
             "pattern": {
              "fillmode": "overlay",
              "size": 10,
              "solidity": 0.2
             }
            },
            "type": "barpolar"
           }
          ],
          "carpet": [
           {
            "aaxis": {
             "endlinecolor": "#2a3f5f",
             "gridcolor": "white",
             "linecolor": "white",
             "minorgridcolor": "white",
             "startlinecolor": "#2a3f5f"
            },
            "baxis": {
             "endlinecolor": "#2a3f5f",
             "gridcolor": "white",
             "linecolor": "white",
             "minorgridcolor": "white",
             "startlinecolor": "#2a3f5f"
            },
            "type": "carpet"
           }
          ],
          "choropleth": [
           {
            "colorbar": {
             "outlinewidth": 0,
             "ticks": ""
            },
            "type": "choropleth"
           }
          ],
          "contour": [
           {
            "colorbar": {
             "outlinewidth": 0,
             "ticks": ""
            },
            "colorscale": [
             [
              0,
              "#0d0887"
             ],
             [
              0.1111111111111111,
              "#46039f"
             ],
             [
              0.2222222222222222,
              "#7201a8"
             ],
             [
              0.3333333333333333,
              "#9c179e"
             ],
             [
              0.4444444444444444,
              "#bd3786"
             ],
             [
              0.5555555555555556,
              "#d8576b"
             ],
             [
              0.6666666666666666,
              "#ed7953"
             ],
             [
              0.7777777777777778,
              "#fb9f3a"
             ],
             [
              0.8888888888888888,
              "#fdca26"
             ],
             [
              1,
              "#f0f921"
             ]
            ],
            "type": "contour"
           }
          ],
          "contourcarpet": [
           {
            "colorbar": {
             "outlinewidth": 0,
             "ticks": ""
            },
            "type": "contourcarpet"
           }
          ],
          "heatmap": [
           {
            "colorbar": {
             "outlinewidth": 0,
             "ticks": ""
            },
            "colorscale": [
             [
              0,
              "#0d0887"
             ],
             [
              0.1111111111111111,
              "#46039f"
             ],
             [
              0.2222222222222222,
              "#7201a8"
             ],
             [
              0.3333333333333333,
              "#9c179e"
             ],
             [
              0.4444444444444444,
              "#bd3786"
             ],
             [
              0.5555555555555556,
              "#d8576b"
             ],
             [
              0.6666666666666666,
              "#ed7953"
             ],
             [
              0.7777777777777778,
              "#fb9f3a"
             ],
             [
              0.8888888888888888,
              "#fdca26"
             ],
             [
              1,
              "#f0f921"
             ]
            ],
            "type": "heatmap"
           }
          ],
          "histogram": [
           {
            "marker": {
             "pattern": {
              "fillmode": "overlay",
              "size": 10,
              "solidity": 0.2
             }
            },
            "type": "histogram"
           }
          ],
          "histogram2d": [
           {
            "colorbar": {
             "outlinewidth": 0,
             "ticks": ""
            },
            "colorscale": [
             [
              0,
              "#0d0887"
             ],
             [
              0.1111111111111111,
              "#46039f"
             ],
             [
              0.2222222222222222,
              "#7201a8"
             ],
             [
              0.3333333333333333,
              "#9c179e"
             ],
             [
              0.4444444444444444,
              "#bd3786"
             ],
             [
              0.5555555555555556,
              "#d8576b"
             ],
             [
              0.6666666666666666,
              "#ed7953"
             ],
             [
              0.7777777777777778,
              "#fb9f3a"
             ],
             [
              0.8888888888888888,
              "#fdca26"
             ],
             [
              1,
              "#f0f921"
             ]
            ],
            "type": "histogram2d"
           }
          ],
          "histogram2dcontour": [
           {
            "colorbar": {
             "outlinewidth": 0,
             "ticks": ""
            },
            "colorscale": [
             [
              0,
              "#0d0887"
             ],
             [
              0.1111111111111111,
              "#46039f"
             ],
             [
              0.2222222222222222,
              "#7201a8"
             ],
             [
              0.3333333333333333,
              "#9c179e"
             ],
             [
              0.4444444444444444,
              "#bd3786"
             ],
             [
              0.5555555555555556,
              "#d8576b"
             ],
             [
              0.6666666666666666,
              "#ed7953"
             ],
             [
              0.7777777777777778,
              "#fb9f3a"
             ],
             [
              0.8888888888888888,
              "#fdca26"
             ],
             [
              1,
              "#f0f921"
             ]
            ],
            "type": "histogram2dcontour"
           }
          ],
          "mesh3d": [
           {
            "colorbar": {
             "outlinewidth": 0,
             "ticks": ""
            },
            "type": "mesh3d"
           }
          ],
          "parcoords": [
           {
            "line": {
             "colorbar": {
              "outlinewidth": 0,
              "ticks": ""
             }
            },
            "type": "parcoords"
           }
          ],
          "pie": [
           {
            "automargin": true,
            "type": "pie"
           }
          ],
          "scatter": [
           {
            "fillpattern": {
             "fillmode": "overlay",
             "size": 10,
             "solidity": 0.2
            },
            "type": "scatter"
           }
          ],
          "scatter3d": [
           {
            "line": {
             "colorbar": {
              "outlinewidth": 0,
              "ticks": ""
             }
            },
            "marker": {
             "colorbar": {
              "outlinewidth": 0,
              "ticks": ""
             }
            },
            "type": "scatter3d"
           }
          ],
          "scattercarpet": [
           {
            "marker": {
             "colorbar": {
              "outlinewidth": 0,
              "ticks": ""
             }
            },
            "type": "scattercarpet"
           }
          ],
          "scattergeo": [
           {
            "marker": {
             "colorbar": {
              "outlinewidth": 0,
              "ticks": ""
             }
            },
            "type": "scattergeo"
           }
          ],
          "scattergl": [
           {
            "marker": {
             "colorbar": {
              "outlinewidth": 0,
              "ticks": ""
             }
            },
            "type": "scattergl"
           }
          ],
          "scattermap": [
           {
            "marker": {
             "colorbar": {
              "outlinewidth": 0,
              "ticks": ""
             }
            },
            "type": "scattermap"
           }
          ],
          "scattermapbox": [
           {
            "marker": {
             "colorbar": {
              "outlinewidth": 0,
              "ticks": ""
             }
            },
            "type": "scattermapbox"
           }
          ],
          "scatterpolar": [
           {
            "marker": {
             "colorbar": {
              "outlinewidth": 0,
              "ticks": ""
             }
            },
            "type": "scatterpolar"
           }
          ],
          "scatterpolargl": [
           {
            "marker": {
             "colorbar": {
              "outlinewidth": 0,
              "ticks": ""
             }
            },
            "type": "scatterpolargl"
           }
          ],
          "scatterternary": [
           {
            "marker": {
             "colorbar": {
              "outlinewidth": 0,
              "ticks": ""
             }
            },
            "type": "scatterternary"
           }
          ],
          "surface": [
           {
            "colorbar": {
             "outlinewidth": 0,
             "ticks": ""
            },
            "colorscale": [
             [
              0,
              "#0d0887"
             ],
             [
              0.1111111111111111,
              "#46039f"
             ],
             [
              0.2222222222222222,
              "#7201a8"
             ],
             [
              0.3333333333333333,
              "#9c179e"
             ],
             [
              0.4444444444444444,
              "#bd3786"
             ],
             [
              0.5555555555555556,
              "#d8576b"
             ],
             [
              0.6666666666666666,
              "#ed7953"
             ],
             [
              0.7777777777777778,
              "#fb9f3a"
             ],
             [
              0.8888888888888888,
              "#fdca26"
             ],
             [
              1,
              "#f0f921"
             ]
            ],
            "type": "surface"
           }
          ],
          "table": [
           {
            "cells": {
             "fill": {
              "color": "#EBF0F8"
             },
             "line": {
              "color": "white"
             }
            },
            "header": {
             "fill": {
              "color": "#C8D4E3"
             },
             "line": {
              "color": "white"
             }
            },
            "type": "table"
           }
          ]
         },
         "layout": {
          "annotationdefaults": {
           "arrowcolor": "#2a3f5f",
           "arrowhead": 0,
           "arrowwidth": 1
          },
          "autotypenumbers": "strict",
          "coloraxis": {
           "colorbar": {
            "outlinewidth": 0,
            "ticks": ""
           }
          },
          "colorscale": {
           "diverging": [
            [
             0,
             "#8e0152"
            ],
            [
             0.1,
             "#c51b7d"
            ],
            [
             0.2,
             "#de77ae"
            ],
            [
             0.3,
             "#f1b6da"
            ],
            [
             0.4,
             "#fde0ef"
            ],
            [
             0.5,
             "#f7f7f7"
            ],
            [
             0.6,
             "#e6f5d0"
            ],
            [
             0.7,
             "#b8e186"
            ],
            [
             0.8,
             "#7fbc41"
            ],
            [
             0.9,
             "#4d9221"
            ],
            [
             1,
             "#276419"
            ]
           ],
           "sequential": [
            [
             0,
             "#0d0887"
            ],
            [
             0.1111111111111111,
             "#46039f"
            ],
            [
             0.2222222222222222,
             "#7201a8"
            ],
            [
             0.3333333333333333,
             "#9c179e"
            ],
            [
             0.4444444444444444,
             "#bd3786"
            ],
            [
             0.5555555555555556,
             "#d8576b"
            ],
            [
             0.6666666666666666,
             "#ed7953"
            ],
            [
             0.7777777777777778,
             "#fb9f3a"
            ],
            [
             0.8888888888888888,
             "#fdca26"
            ],
            [
             1,
             "#f0f921"
            ]
           ],
           "sequentialminus": [
            [
             0,
             "#0d0887"
            ],
            [
             0.1111111111111111,
             "#46039f"
            ],
            [
             0.2222222222222222,
             "#7201a8"
            ],
            [
             0.3333333333333333,
             "#9c179e"
            ],
            [
             0.4444444444444444,
             "#bd3786"
            ],
            [
             0.5555555555555556,
             "#d8576b"
            ],
            [
             0.6666666666666666,
             "#ed7953"
            ],
            [
             0.7777777777777778,
             "#fb9f3a"
            ],
            [
             0.8888888888888888,
             "#fdca26"
            ],
            [
             1,
             "#f0f921"
            ]
           ]
          },
          "colorway": [
           "#636efa",
           "#EF553B",
           "#00cc96",
           "#ab63fa",
           "#FFA15A",
           "#19d3f3",
           "#FF6692",
           "#B6E880",
           "#FF97FF",
           "#FECB52"
          ],
          "font": {
           "color": "#2a3f5f"
          },
          "geo": {
           "bgcolor": "white",
           "lakecolor": "white",
           "landcolor": "#E5ECF6",
           "showlakes": true,
           "showland": true,
           "subunitcolor": "white"
          },
          "hoverlabel": {
           "align": "left"
          },
          "hovermode": "closest",
          "mapbox": {
           "style": "light"
          },
          "paper_bgcolor": "white",
          "plot_bgcolor": "#E5ECF6",
          "polar": {
           "angularaxis": {
            "gridcolor": "white",
            "linecolor": "white",
            "ticks": ""
           },
           "bgcolor": "#E5ECF6",
           "radialaxis": {
            "gridcolor": "white",
            "linecolor": "white",
            "ticks": ""
           }
          },
          "scene": {
           "xaxis": {
            "backgroundcolor": "#E5ECF6",
            "gridcolor": "white",
            "gridwidth": 2,
            "linecolor": "white",
            "showbackground": true,
            "ticks": "",
            "zerolinecolor": "white"
           },
           "yaxis": {
            "backgroundcolor": "#E5ECF6",
            "gridcolor": "white",
            "gridwidth": 2,
            "linecolor": "white",
            "showbackground": true,
            "ticks": "",
            "zerolinecolor": "white"
           },
           "zaxis": {
            "backgroundcolor": "#E5ECF6",
            "gridcolor": "white",
            "gridwidth": 2,
            "linecolor": "white",
            "showbackground": true,
            "ticks": "",
            "zerolinecolor": "white"
           }
          },
          "shapedefaults": {
           "line": {
            "color": "#2a3f5f"
           }
          },
          "ternary": {
           "aaxis": {
            "gridcolor": "white",
            "linecolor": "white",
            "ticks": ""
           },
           "baxis": {
            "gridcolor": "white",
            "linecolor": "white",
            "ticks": ""
           },
           "bgcolor": "#E5ECF6",
           "caxis": {
            "gridcolor": "white",
            "linecolor": "white",
            "ticks": ""
           }
          },
          "title": {
           "x": 0.05
          },
          "xaxis": {
           "automargin": true,
           "gridcolor": "white",
           "linecolor": "white",
           "ticks": "",
           "title": {
            "standoff": 15
           },
           "zerolinecolor": "white",
           "zerolinewidth": 2
          },
          "yaxis": {
           "automargin": true,
           "gridcolor": "white",
           "linecolor": "white",
           "ticks": "",
           "title": {
            "standoff": 15
           },
           "zerolinecolor": "white",
           "zerolinewidth": 2
          }
         }
        },
        "title": {
         "text": "EV Cars by Date"
        },
        "xaxis": {
         "anchor": "y",
         "domain": [
          0,
          1
         ],
         "title": {
          "text": "InquiryDate"
         }
        },
        "yaxis": {
         "anchor": "x",
         "domain": [
          0,
          1
         ],
         "title": {
          "text": "count"
         }
        }
       }
      }
     },
     "metadata": {},
     "output_type": "display_data"
    }
   ],
   "source": [
    "fig = px.line(ev_cars_2, x='InquiryDate', y='count', title='EV Cars by Date')\n",
    "fig.show()\n",
    "\n"
   ]
  },
  {
   "cell_type": "code",
   "execution_count": 224,
   "metadata": {},
   "outputs": [
    {
     "name": "stderr",
     "output_type": "stream",
     "text": [
      "C:\\Users\\Mohammed Ali\\AppData\\Local\\Temp\\ipykernel_40032\\1114977996.py:1: SettingWithCopyWarning:\n",
      "\n",
      "\n",
      "A value is trying to be set on a copy of a slice from a DataFrame.\n",
      "Try using .loc[row_indexer,col_indexer] = value instead\n",
      "\n",
      "See the caveats in the documentation: https://pandas.pydata.org/pandas-docs/stable/user_guide/indexing.html#returning-a-view-versus-a-copy\n",
      "\n"
     ]
    }
   ],
   "source": [
    "ev_cars['InquiryDate'] = ev_cars['InquiryDate'].dt.date\n",
    "make_date_trends = ev_cars.groupby(['Make', 'InquiryDate']).size().reset_index(name='count')\n"
   ]
  },
  {
   "cell_type": "code",
   "execution_count": 197,
   "metadata": {},
   "outputs": [],
   "source": [
    "df = px.data.stocks(indexed=True)"
   ]
  },
  {
   "cell_type": "code",
   "execution_count": 198,
   "metadata": {},
   "outputs": [
    {
     "data": {
      "text/html": [
       "<div>\n",
       "<style scoped>\n",
       "    .dataframe tbody tr th:only-of-type {\n",
       "        vertical-align: middle;\n",
       "    }\n",
       "\n",
       "    .dataframe tbody tr th {\n",
       "        vertical-align: top;\n",
       "    }\n",
       "\n",
       "    .dataframe thead th {\n",
       "        text-align: right;\n",
       "    }\n",
       "</style>\n",
       "<table border=\"1\" class=\"dataframe\">\n",
       "  <thead>\n",
       "    <tr style=\"text-align: right;\">\n",
       "      <th>company</th>\n",
       "      <th>GOOG</th>\n",
       "      <th>AAPL</th>\n",
       "      <th>AMZN</th>\n",
       "      <th>FB</th>\n",
       "      <th>NFLX</th>\n",
       "      <th>MSFT</th>\n",
       "    </tr>\n",
       "    <tr>\n",
       "      <th>date</th>\n",
       "      <th></th>\n",
       "      <th></th>\n",
       "      <th></th>\n",
       "      <th></th>\n",
       "      <th></th>\n",
       "      <th></th>\n",
       "    </tr>\n",
       "  </thead>\n",
       "  <tbody>\n",
       "    <tr>\n",
       "      <th>2018-01-01</th>\n",
       "      <td>1.000000</td>\n",
       "      <td>1.000000</td>\n",
       "      <td>1.000000</td>\n",
       "      <td>1.000000</td>\n",
       "      <td>1.000000</td>\n",
       "      <td>1.000000</td>\n",
       "    </tr>\n",
       "    <tr>\n",
       "      <th>2018-01-08</th>\n",
       "      <td>1.018172</td>\n",
       "      <td>1.011943</td>\n",
       "      <td>1.061881</td>\n",
       "      <td>0.959968</td>\n",
       "      <td>1.053526</td>\n",
       "      <td>1.015988</td>\n",
       "    </tr>\n",
       "    <tr>\n",
       "      <th>2018-01-15</th>\n",
       "      <td>1.032008</td>\n",
       "      <td>1.019771</td>\n",
       "      <td>1.053240</td>\n",
       "      <td>0.970243</td>\n",
       "      <td>1.049860</td>\n",
       "      <td>1.020524</td>\n",
       "    </tr>\n",
       "    <tr>\n",
       "      <th>2018-01-22</th>\n",
       "      <td>1.066783</td>\n",
       "      <td>0.980057</td>\n",
       "      <td>1.140676</td>\n",
       "      <td>1.016858</td>\n",
       "      <td>1.307681</td>\n",
       "      <td>1.066561</td>\n",
       "    </tr>\n",
       "    <tr>\n",
       "      <th>2018-01-29</th>\n",
       "      <td>1.008773</td>\n",
       "      <td>0.917143</td>\n",
       "      <td>1.163374</td>\n",
       "      <td>1.018357</td>\n",
       "      <td>1.273537</td>\n",
       "      <td>1.040708</td>\n",
       "    </tr>\n",
       "  </tbody>\n",
       "</table>\n",
       "</div>"
      ],
      "text/plain": [
       "company         GOOG      AAPL      AMZN        FB      NFLX      MSFT\n",
       "date                                                                  \n",
       "2018-01-01  1.000000  1.000000  1.000000  1.000000  1.000000  1.000000\n",
       "2018-01-08  1.018172  1.011943  1.061881  0.959968  1.053526  1.015988\n",
       "2018-01-15  1.032008  1.019771  1.053240  0.970243  1.049860  1.020524\n",
       "2018-01-22  1.066783  0.980057  1.140676  1.016858  1.307681  1.066561\n",
       "2018-01-29  1.008773  0.917143  1.163374  1.018357  1.273537  1.040708"
      ]
     },
     "execution_count": 198,
     "metadata": {},
     "output_type": "execute_result"
    }
   ],
   "source": [
    "df.head()"
   ]
  },
  {
   "cell_type": "code",
   "execution_count": 232,
   "metadata": {},
   "outputs": [],
   "source": [
    "make_date_pivot = make_date_trends.pivot_table(index='InquiryDate', columns='Make', values='count')\n",
    "make_date_pivot.fillna(0, inplace=True)\n",
    "# make_date_pivot = make_date_pivot.cumsum()\n"
   ]
  },
  {
   "cell_type": "code",
   "execution_count": 233,
   "metadata": {},
   "outputs": [
    {
     "data": {
      "text/html": [
       "<div>\n",
       "<style scoped>\n",
       "    .dataframe tbody tr th:only-of-type {\n",
       "        vertical-align: middle;\n",
       "    }\n",
       "\n",
       "    .dataframe tbody tr th {\n",
       "        vertical-align: top;\n",
       "    }\n",
       "\n",
       "    .dataframe thead th {\n",
       "        text-align: right;\n",
       "    }\n",
       "</style>\n",
       "<table border=\"1\" class=\"dataframe\">\n",
       "  <thead>\n",
       "    <tr style=\"text-align: right;\">\n",
       "      <th>Make</th>\n",
       "      <th>AUDI</th>\n",
       "      <th>BMW</th>\n",
       "      <th>CHANGAN</th>\n",
       "      <th>CHEVROLET</th>\n",
       "      <th>HONDA</th>\n",
       "      <th>HUAWEI</th>\n",
       "      <th>HYUNDAI</th>\n",
       "      <th>JAGUAR</th>\n",
       "      <th>KIA</th>\n",
       "      <th>LAND ROVER</th>\n",
       "      <th>LEXUS</th>\n",
       "      <th>NISSAN</th>\n",
       "      <th>TESLA</th>\n",
       "      <th>TOYOTA</th>\n",
       "      <th>VOLKSWAGEN</th>\n",
       "    </tr>\n",
       "    <tr>\n",
       "      <th>InquiryDate</th>\n",
       "      <th></th>\n",
       "      <th></th>\n",
       "      <th></th>\n",
       "      <th></th>\n",
       "      <th></th>\n",
       "      <th></th>\n",
       "      <th></th>\n",
       "      <th></th>\n",
       "      <th></th>\n",
       "      <th></th>\n",
       "      <th></th>\n",
       "      <th></th>\n",
       "      <th></th>\n",
       "      <th></th>\n",
       "      <th></th>\n",
       "    </tr>\n",
       "  </thead>\n",
       "  <tbody>\n",
       "    <tr>\n",
       "      <th>2024-12-31</th>\n",
       "      <td>0.0</td>\n",
       "      <td>0.0</td>\n",
       "      <td>0.0</td>\n",
       "      <td>0.0</td>\n",
       "      <td>0.0</td>\n",
       "      <td>0.0</td>\n",
       "      <td>0.0</td>\n",
       "      <td>0.0</td>\n",
       "      <td>0.0</td>\n",
       "      <td>0.0</td>\n",
       "      <td>0.0</td>\n",
       "      <td>0.0</td>\n",
       "      <td>0.0</td>\n",
       "      <td>1.0</td>\n",
       "      <td>0.0</td>\n",
       "    </tr>\n",
       "    <tr>\n",
       "      <th>2025-01-08</th>\n",
       "      <td>0.0</td>\n",
       "      <td>0.0</td>\n",
       "      <td>0.0</td>\n",
       "      <td>0.0</td>\n",
       "      <td>0.0</td>\n",
       "      <td>0.0</td>\n",
       "      <td>0.0</td>\n",
       "      <td>0.0</td>\n",
       "      <td>0.0</td>\n",
       "      <td>0.0</td>\n",
       "      <td>0.0</td>\n",
       "      <td>1.0</td>\n",
       "      <td>0.0</td>\n",
       "      <td>0.0</td>\n",
       "      <td>0.0</td>\n",
       "    </tr>\n",
       "    <tr>\n",
       "      <th>2025-01-10</th>\n",
       "      <td>0.0</td>\n",
       "      <td>0.0</td>\n",
       "      <td>0.0</td>\n",
       "      <td>0.0</td>\n",
       "      <td>0.0</td>\n",
       "      <td>0.0</td>\n",
       "      <td>0.0</td>\n",
       "      <td>1.0</td>\n",
       "      <td>1.0</td>\n",
       "      <td>0.0</td>\n",
       "      <td>0.0</td>\n",
       "      <td>0.0</td>\n",
       "      <td>0.0</td>\n",
       "      <td>0.0</td>\n",
       "      <td>0.0</td>\n",
       "    </tr>\n",
       "    <tr>\n",
       "      <th>2025-01-13</th>\n",
       "      <td>0.0</td>\n",
       "      <td>0.0</td>\n",
       "      <td>0.0</td>\n",
       "      <td>0.0</td>\n",
       "      <td>0.0</td>\n",
       "      <td>0.0</td>\n",
       "      <td>0.0</td>\n",
       "      <td>0.0</td>\n",
       "      <td>0.0</td>\n",
       "      <td>0.0</td>\n",
       "      <td>0.0</td>\n",
       "      <td>0.0</td>\n",
       "      <td>0.0</td>\n",
       "      <td>1.0</td>\n",
       "      <td>0.0</td>\n",
       "    </tr>\n",
       "    <tr>\n",
       "      <th>2025-01-14</th>\n",
       "      <td>0.0</td>\n",
       "      <td>0.0</td>\n",
       "      <td>0.0</td>\n",
       "      <td>0.0</td>\n",
       "      <td>0.0</td>\n",
       "      <td>0.0</td>\n",
       "      <td>0.0</td>\n",
       "      <td>0.0</td>\n",
       "      <td>0.0</td>\n",
       "      <td>0.0</td>\n",
       "      <td>0.0</td>\n",
       "      <td>0.0</td>\n",
       "      <td>0.0</td>\n",
       "      <td>1.0</td>\n",
       "      <td>0.0</td>\n",
       "    </tr>\n",
       "  </tbody>\n",
       "</table>\n",
       "</div>"
      ],
      "text/plain": [
       "Make         AUDI  BMW  CHANGAN  CHEVROLET  HONDA  HUAWEI  HYUNDAI  JAGUAR  \\\n",
       "InquiryDate                                                                  \n",
       "2024-12-31    0.0  0.0      0.0        0.0    0.0     0.0      0.0     0.0   \n",
       "2025-01-08    0.0  0.0      0.0        0.0    0.0     0.0      0.0     0.0   \n",
       "2025-01-10    0.0  0.0      0.0        0.0    0.0     0.0      0.0     1.0   \n",
       "2025-01-13    0.0  0.0      0.0        0.0    0.0     0.0      0.0     0.0   \n",
       "2025-01-14    0.0  0.0      0.0        0.0    0.0     0.0      0.0     0.0   \n",
       "\n",
       "Make         KIA  LAND ROVER  LEXUS  NISSAN  TESLA  TOYOTA  VOLKSWAGEN  \n",
       "InquiryDate                                                             \n",
       "2024-12-31   0.0         0.0    0.0     0.0    0.0     1.0         0.0  \n",
       "2025-01-08   0.0         0.0    0.0     1.0    0.0     0.0         0.0  \n",
       "2025-01-10   1.0         0.0    0.0     0.0    0.0     0.0         0.0  \n",
       "2025-01-13   0.0         0.0    0.0     0.0    0.0     1.0         0.0  \n",
       "2025-01-14   0.0         0.0    0.0     0.0    0.0     1.0         0.0  "
      ]
     },
     "execution_count": 233,
     "metadata": {},
     "output_type": "execute_result"
    }
   ],
   "source": [
    "make_date_pivot.head()\n"
   ]
  },
  {
   "cell_type": "code",
   "execution_count": 288,
   "metadata": {},
   "outputs": [
    {
     "data": {
      "text/plain": [
       "Make\n",
       "AUDI           2.0\n",
       "BMW            1.0\n",
       "CHANGAN        1.0\n",
       "CHEVROLET      3.0\n",
       "HONDA          1.0\n",
       "HUAWEI         1.0\n",
       "HYUNDAI        1.0\n",
       "JAGUAR         1.0\n",
       "KIA            2.0\n",
       "LAND ROVER     2.0\n",
       "LEXUS          3.0\n",
       "NISSAN         2.0\n",
       "TESLA         16.0\n",
       "TOYOTA         4.0\n",
       "VOLKSWAGEN     3.0\n",
       "dtype: float64"
      ]
     },
     "execution_count": 288,
     "metadata": {},
     "output_type": "execute_result"
    }
   ],
   "source": [
    "make_date_pivot.max(axis=0)"
   ]
  },
  {
   "cell_type": "code",
   "execution_count": 289,
   "metadata": {},
   "outputs": [
    {
     "data": {
      "text/plain": [
       "InquiryDate\n",
       "2024-12-31     1.0\n",
       "2025-01-08     1.0\n",
       "2025-01-10     1.0\n",
       "2025-01-13     1.0\n",
       "2025-01-14     1.0\n",
       "              ... \n",
       "2025-04-26     2.0\n",
       "2025-04-27     2.0\n",
       "2025-04-28    12.0\n",
       "2025-04-29    16.0\n",
       "2025-04-30     3.0\n",
       "Length: 88, dtype: float64"
      ]
     },
     "execution_count": 289,
     "metadata": {},
     "output_type": "execute_result"
    }
   ],
   "source": [
    "make_date_pivot.max(axis=1)\n"
   ]
  },
  {
   "cell_type": "code",
   "execution_count": 314,
   "metadata": {},
   "outputs": [],
   "source": [
    "make_date_pivot_row_norm = make_date_pivot.div(make_date_pivot.sum(axis=1), axis=0)\n",
    "make_date_pivot_row_norm = make_date_pivot_row_norm * 100\n"
   ]
  },
  {
   "cell_type": "code",
   "execution_count": 316,
   "metadata": {},
   "outputs": [
    {
     "data": {
      "text/html": [
       "<div>\n",
       "<style scoped>\n",
       "    .dataframe tbody tr th:only-of-type {\n",
       "        vertical-align: middle;\n",
       "    }\n",
       "\n",
       "    .dataframe tbody tr th {\n",
       "        vertical-align: top;\n",
       "    }\n",
       "\n",
       "    .dataframe thead th {\n",
       "        text-align: right;\n",
       "    }\n",
       "</style>\n",
       "<table border=\"1\" class=\"dataframe\">\n",
       "  <thead>\n",
       "    <tr style=\"text-align: right;\">\n",
       "      <th>Make</th>\n",
       "      <th>AUDI</th>\n",
       "      <th>BMW</th>\n",
       "      <th>CHANGAN</th>\n",
       "      <th>CHEVROLET</th>\n",
       "      <th>HONDA</th>\n",
       "      <th>HUAWEI</th>\n",
       "      <th>HYUNDAI</th>\n",
       "      <th>JAGUAR</th>\n",
       "      <th>KIA</th>\n",
       "      <th>LAND ROVER</th>\n",
       "      <th>LEXUS</th>\n",
       "      <th>NISSAN</th>\n",
       "      <th>TESLA</th>\n",
       "      <th>TOYOTA</th>\n",
       "      <th>VOLKSWAGEN</th>\n",
       "    </tr>\n",
       "    <tr>\n",
       "      <th>InquiryDate</th>\n",
       "      <th></th>\n",
       "      <th></th>\n",
       "      <th></th>\n",
       "      <th></th>\n",
       "      <th></th>\n",
       "      <th></th>\n",
       "      <th></th>\n",
       "      <th></th>\n",
       "      <th></th>\n",
       "      <th></th>\n",
       "      <th></th>\n",
       "      <th></th>\n",
       "      <th></th>\n",
       "      <th></th>\n",
       "      <th></th>\n",
       "    </tr>\n",
       "  </thead>\n",
       "  <tbody>\n",
       "    <tr>\n",
       "      <th>2024-12-31</th>\n",
       "      <td>0.0</td>\n",
       "      <td>0.0</td>\n",
       "      <td>0.0</td>\n",
       "      <td>0.0</td>\n",
       "      <td>0.0</td>\n",
       "      <td>0.0</td>\n",
       "      <td>0.0</td>\n",
       "      <td>0.0</td>\n",
       "      <td>0.0</td>\n",
       "      <td>0.0</td>\n",
       "      <td>0.0</td>\n",
       "      <td>0.0</td>\n",
       "      <td>0.0</td>\n",
       "      <td>100.0</td>\n",
       "      <td>0.0</td>\n",
       "    </tr>\n",
       "    <tr>\n",
       "      <th>2025-01-08</th>\n",
       "      <td>0.0</td>\n",
       "      <td>0.0</td>\n",
       "      <td>0.0</td>\n",
       "      <td>0.0</td>\n",
       "      <td>0.0</td>\n",
       "      <td>0.0</td>\n",
       "      <td>0.0</td>\n",
       "      <td>0.0</td>\n",
       "      <td>0.0</td>\n",
       "      <td>0.0</td>\n",
       "      <td>0.0</td>\n",
       "      <td>100.0</td>\n",
       "      <td>0.0</td>\n",
       "      <td>0.0</td>\n",
       "      <td>0.0</td>\n",
       "    </tr>\n",
       "    <tr>\n",
       "      <th>2025-01-10</th>\n",
       "      <td>0.0</td>\n",
       "      <td>0.0</td>\n",
       "      <td>0.0</td>\n",
       "      <td>0.0</td>\n",
       "      <td>0.0</td>\n",
       "      <td>0.0</td>\n",
       "      <td>0.0</td>\n",
       "      <td>50.0</td>\n",
       "      <td>50.0</td>\n",
       "      <td>0.0</td>\n",
       "      <td>0.0</td>\n",
       "      <td>0.0</td>\n",
       "      <td>0.0</td>\n",
       "      <td>0.0</td>\n",
       "      <td>0.0</td>\n",
       "    </tr>\n",
       "    <tr>\n",
       "      <th>2025-01-13</th>\n",
       "      <td>0.0</td>\n",
       "      <td>0.0</td>\n",
       "      <td>0.0</td>\n",
       "      <td>0.0</td>\n",
       "      <td>0.0</td>\n",
       "      <td>0.0</td>\n",
       "      <td>0.0</td>\n",
       "      <td>0.0</td>\n",
       "      <td>0.0</td>\n",
       "      <td>0.0</td>\n",
       "      <td>0.0</td>\n",
       "      <td>0.0</td>\n",
       "      <td>0.0</td>\n",
       "      <td>100.0</td>\n",
       "      <td>0.0</td>\n",
       "    </tr>\n",
       "    <tr>\n",
       "      <th>2025-01-14</th>\n",
       "      <td>0.0</td>\n",
       "      <td>0.0</td>\n",
       "      <td>0.0</td>\n",
       "      <td>0.0</td>\n",
       "      <td>0.0</td>\n",
       "      <td>0.0</td>\n",
       "      <td>0.0</td>\n",
       "      <td>0.0</td>\n",
       "      <td>0.0</td>\n",
       "      <td>0.0</td>\n",
       "      <td>0.0</td>\n",
       "      <td>0.0</td>\n",
       "      <td>0.0</td>\n",
       "      <td>100.0</td>\n",
       "      <td>0.0</td>\n",
       "    </tr>\n",
       "  </tbody>\n",
       "</table>\n",
       "</div>"
      ],
      "text/plain": [
       "Make         AUDI  BMW  CHANGAN  CHEVROLET  HONDA  HUAWEI  HYUNDAI  JAGUAR  \\\n",
       "InquiryDate                                                                  \n",
       "2024-12-31    0.0  0.0      0.0        0.0    0.0     0.0      0.0     0.0   \n",
       "2025-01-08    0.0  0.0      0.0        0.0    0.0     0.0      0.0     0.0   \n",
       "2025-01-10    0.0  0.0      0.0        0.0    0.0     0.0      0.0    50.0   \n",
       "2025-01-13    0.0  0.0      0.0        0.0    0.0     0.0      0.0     0.0   \n",
       "2025-01-14    0.0  0.0      0.0        0.0    0.0     0.0      0.0     0.0   \n",
       "\n",
       "Make          KIA  LAND ROVER  LEXUS  NISSAN  TESLA  TOYOTA  VOLKSWAGEN  \n",
       "InquiryDate                                                              \n",
       "2024-12-31    0.0         0.0    0.0     0.0    0.0   100.0         0.0  \n",
       "2025-01-08    0.0         0.0    0.0   100.0    0.0     0.0         0.0  \n",
       "2025-01-10   50.0         0.0    0.0     0.0    0.0     0.0         0.0  \n",
       "2025-01-13    0.0         0.0    0.0     0.0    0.0   100.0         0.0  \n",
       "2025-01-14    0.0         0.0    0.0     0.0    0.0   100.0         0.0  "
      ]
     },
     "execution_count": 316,
     "metadata": {},
     "output_type": "execute_result"
    }
   ],
   "source": [
    "make_date_pivot_row_norm.head()"
   ]
  },
  {
   "cell_type": "code",
   "execution_count": 311,
   "metadata": {},
   "outputs": [],
   "source": [
    "make_date_pivot_col_norm = make_date_pivot.div(make_date_pivot.sum(axis=0), axis=1)\n",
    "make_date_pivot_col_norm = make_date_pivot_col_norm * 100"
   ]
  },
  {
   "cell_type": "code",
   "execution_count": 303,
   "metadata": {},
   "outputs": [],
   "source": [
    "make_date_pivot_cumsum = make_date_pivot.cumsum()\n",
    "make_date_pivot_cumsum_col_norm = make_date_pivot_cumsum.div(make_date_pivot_cumsum.max(axis=0), axis=1)\n",
    "make_date_pivot_cumsum_col_norm = make_date_pivot_cumsum_col_norm * 100\n"
   ]
  },
  {
   "cell_type": "code",
   "execution_count": 315,
   "metadata": {},
   "outputs": [
    {
     "data": {
      "application/vnd.plotly.v1+json": {
       "config": {
        "plotlyServerURL": "https://plot.ly"
       },
       "data": [
        {
         "hovertemplate": "Make=AUDI<br>InquiryDate=%{x}<br>value=%{y}<extra></extra>",
         "legendgroup": "AUDI",
         "line": {
          "color": "#636efa",
          "dash": "solid"
         },
         "marker": {
          "symbol": "circle"
         },
         "mode": "lines",
         "name": "AUDI",
         "showlegend": true,
         "type": "scattergl",
         "x": [
          "2024-12-31",
          "2025-01-08",
          "2025-01-10",
          "2025-01-13",
          "2025-01-14",
          "2025-01-18",
          "2025-01-22",
          "2025-01-26",
          "2025-01-27",
          "2025-01-28",
          "2025-01-29",
          "2025-01-30",
          "2025-02-03",
          "2025-02-04",
          "2025-02-05",
          "2025-02-08",
          "2025-02-10",
          "2025-02-12",
          "2025-02-14",
          "2025-02-15",
          "2025-02-17",
          "2025-02-18",
          "2025-02-19",
          "2025-02-20",
          "2025-02-21",
          "2025-02-22",
          "2025-02-23",
          "2025-02-24",
          "2025-02-25",
          "2025-02-26",
          "2025-02-27",
          "2025-02-28",
          "2025-03-01",
          "2025-03-03",
          "2025-03-04",
          "2025-03-05",
          "2025-03-06",
          "2025-03-07",
          "2025-03-09",
          "2025-03-10",
          "2025-03-11",
          "2025-03-12",
          "2025-03-13",
          "2025-03-14",
          "2025-03-15",
          "2025-03-16",
          "2025-03-17",
          "2025-03-18",
          "2025-03-19",
          "2025-03-20",
          "2025-03-21",
          "2025-03-22",
          "2025-03-24",
          "2025-03-25",
          "2025-03-26",
          "2025-03-27",
          "2025-03-28",
          "2025-03-29",
          "2025-03-31",
          "2025-04-02",
          "2025-04-03",
          "2025-04-04",
          "2025-04-05",
          "2025-04-06",
          "2025-04-07",
          "2025-04-08",
          "2025-04-09",
          "2025-04-10",
          "2025-04-11",
          "2025-04-12",
          "2025-04-13",
          "2025-04-14",
          "2025-04-15",
          "2025-04-16",
          "2025-04-17",
          "2025-04-18",
          "2025-04-19",
          "2025-04-20",
          "2025-04-21",
          "2025-04-22",
          "2025-04-23",
          "2025-04-24",
          "2025-04-25",
          "2025-04-26",
          "2025-04-27",
          "2025-04-28",
          "2025-04-29",
          "2025-04-30"
         ],
         "xaxis": "x15",
         "y": {
          "bdata": "AAAAAAAAAAAAAAAAAAAAAAAAAAAAAAAAAAAAAAAAAAAAAAAAAAAAAAAAAAAAAAAAAAAAAAAAAAAAAAAAAAAAAAAAAAAAAAAAAAAAAAAAAAAAAAAAAAAAAAAAAAAAAAAAAAAAAAAAAAAAAAAAAAAAAAAAAAAAAAAAAAAAAAAAAAAAAAAAAAAAAAAAAAAAAAAAAAAAAAAAAAAAAAAAAAAAAAAAAAAAAAAAAAAAAAAAOUAAAAAAAAAAAAAAAAAAAAAAAAAAAAAAAAAAAAAAAAAAAAAAAAAAAAAAAAAAAAAAAAAAAAAAAAAAAAAAAAAAAAAAAAAAAAAAAAAAAAAAAAAAAAAAAAAAAAAAJEmSJEmSPEAAAAAAAAAAAAAAAAAAAAAAAAAAAAAAAAAAAAAAAAAAAAAAAAAAADlAAAAAAAAAAAAAAAAAAAAAAAAAAAAAAAAAAAAAAAAAAAAAAAAAAAAAAAAAAAAAAAAAAAAAAAAAAAAAAAAAAAAAAAAAAAAAAAAAAAAAAAAAAAAAAAAAAAAAAAAAAAAAAAAAAAAAAAAAAAAAAAAAAAAAAAAAAAAAAAAAAAAAAAAAAAAAAAAAAAAAAAAAAAAAAAAAAAAAAAAAAAAAAAAAAAAAAAAAAAAAAAAAAAAAAAAAAAAAAAAAAAAAAAAAAAAAAAAAAAAAAAAAAAAAAAAAAAAAAAAAAAAAAAAAAAAAAAAAAAAAAAAAAAAAAAAAAAAAAAAAAAAAAAAAAAAAAAAAAAAAAAAAAAAAAAAAAAAAAAAAAAAAAAAAAAAAAAAAAAAAAAAAAAAAAAAAAAAAAAAAAAAAAAAAAAAAAAAAJEmSJEmSPEAAAAAAAAAAAAAAAAAAAAAAAAAAAAAAAAAAAAAAAAAAAAAAAAAAAAAAAAAAAAAAAAAAAAAAAAAAAAAAAAAAAAAAAAAAAAAAAAA=",
          "dtype": "f8"
         },
         "yaxis": "y15"
        },
        {
         "hovertemplate": "Make=BMW<br>InquiryDate=%{x}<br>value=%{y}<extra></extra>",
         "legendgroup": "BMW",
         "line": {
          "color": "#EF553B",
          "dash": "solid"
         },
         "marker": {
          "symbol": "circle"
         },
         "mode": "lines",
         "name": "BMW",
         "showlegend": true,
         "type": "scattergl",
         "x": [
          "2024-12-31",
          "2025-01-08",
          "2025-01-10",
          "2025-01-13",
          "2025-01-14",
          "2025-01-18",
          "2025-01-22",
          "2025-01-26",
          "2025-01-27",
          "2025-01-28",
          "2025-01-29",
          "2025-01-30",
          "2025-02-03",
          "2025-02-04",
          "2025-02-05",
          "2025-02-08",
          "2025-02-10",
          "2025-02-12",
          "2025-02-14",
          "2025-02-15",
          "2025-02-17",
          "2025-02-18",
          "2025-02-19",
          "2025-02-20",
          "2025-02-21",
          "2025-02-22",
          "2025-02-23",
          "2025-02-24",
          "2025-02-25",
          "2025-02-26",
          "2025-02-27",
          "2025-02-28",
          "2025-03-01",
          "2025-03-03",
          "2025-03-04",
          "2025-03-05",
          "2025-03-06",
          "2025-03-07",
          "2025-03-09",
          "2025-03-10",
          "2025-03-11",
          "2025-03-12",
          "2025-03-13",
          "2025-03-14",
          "2025-03-15",
          "2025-03-16",
          "2025-03-17",
          "2025-03-18",
          "2025-03-19",
          "2025-03-20",
          "2025-03-21",
          "2025-03-22",
          "2025-03-24",
          "2025-03-25",
          "2025-03-26",
          "2025-03-27",
          "2025-03-28",
          "2025-03-29",
          "2025-03-31",
          "2025-04-02",
          "2025-04-03",
          "2025-04-04",
          "2025-04-05",
          "2025-04-06",
          "2025-04-07",
          "2025-04-08",
          "2025-04-09",
          "2025-04-10",
          "2025-04-11",
          "2025-04-12",
          "2025-04-13",
          "2025-04-14",
          "2025-04-15",
          "2025-04-16",
          "2025-04-17",
          "2025-04-18",
          "2025-04-19",
          "2025-04-20",
          "2025-04-21",
          "2025-04-22",
          "2025-04-23",
          "2025-04-24",
          "2025-04-25",
          "2025-04-26",
          "2025-04-27",
          "2025-04-28",
          "2025-04-29",
          "2025-04-30"
         ],
         "xaxis": "x14",
         "y": {
          "bdata": "AAAAAAAAAAAAAAAAAAAAAAAAAAAAAAAAAAAAAAAAAAAAAAAAAAAAAAAAAAAAAAAAAAAAAAAAAAAAAAAAAAAAAAAAAAAAAAAAAAAAAAAAAAAAAAAAAABZQAAAAAAAAAAAAAAAAAAAAAAAAAAAAAAAAAAAAAAAAAAAAAAAAAAAAAAAAAAAAAAAAAAAAAAAAAAAAAAAAAAAAAAAAAAAAAAAAAAAAAAAAAAAAAAAAAAAAAAAAAAAAAAAAAAAAAAAAAAAAAAAAAAAAAAAAAAAAAAAAAAAAAAAAAAAAAAAAAAAAAAAAAAAAAAAAAAAAAAAAAAAAAAAAAAAAAAAAAAAAAAAAAAAAAAAAAAAAAAAAAAAAAAAAAAAAAAAAAAAAAAAAAAAAAAAAAAAAAAAAAAAAAAAAAAAAAAAAAAAAAAAAAAAAAAAAAAAAAAAAAAAAAAAAAAAAAAAAAAAAAAAAAAAAAAAAAAAAAAAAAAAAAAAAAAAAAAAAAAAAAAAAAAAAAAAAAAAAAAAAAAAAAAAAAAAAAAAAAAAAAAAAAAAAAAAAAAAAACqqqqqqqogQAAAAAAAAAAAAAAAAAAAAAAAAAAAAAAAAAAAAAAAAAAAAAAAAAAAAAAAAAAAAAAAAAAAAAAAAAAAAAAAAAAAAAAAAAAAAAAAAAAAAAAAAAAAAAAAAAAAAAAAAAAAAAAAAAAAAAAAAAAAAAAAAAAAAAAAAAAAAAAAAAAAAAAAAAAAAAAAAAAAAAAAAAAAAAApQAAAAAAAAAAAAAAAAAAAAAAAAAAAAAAAAAAAAAAAAAAAAAAAAAAAAAAAAAAAAAAAAAAAAAAAAAAAAAAAAAAAAAAAAAAAAAAAAAAAAAAAAAAAAAAAAAAAAAAAAAAAAAAAAAAAAAAAAAAAAAAAAAAAAAAAAAAAAAAAAAAAAAAAAAAAAAAAAAAAAAA=",
          "dtype": "f8"
         },
         "yaxis": "y14"
        },
        {
         "hovertemplate": "Make=CHANGAN<br>InquiryDate=%{x}<br>value=%{y}<extra></extra>",
         "legendgroup": "CHANGAN",
         "line": {
          "color": "#00cc96",
          "dash": "solid"
         },
         "marker": {
          "symbol": "circle"
         },
         "mode": "lines",
         "name": "CHANGAN",
         "showlegend": true,
         "type": "scattergl",
         "x": [
          "2024-12-31",
          "2025-01-08",
          "2025-01-10",
          "2025-01-13",
          "2025-01-14",
          "2025-01-18",
          "2025-01-22",
          "2025-01-26",
          "2025-01-27",
          "2025-01-28",
          "2025-01-29",
          "2025-01-30",
          "2025-02-03",
          "2025-02-04",
          "2025-02-05",
          "2025-02-08",
          "2025-02-10",
          "2025-02-12",
          "2025-02-14",
          "2025-02-15",
          "2025-02-17",
          "2025-02-18",
          "2025-02-19",
          "2025-02-20",
          "2025-02-21",
          "2025-02-22",
          "2025-02-23",
          "2025-02-24",
          "2025-02-25",
          "2025-02-26",
          "2025-02-27",
          "2025-02-28",
          "2025-03-01",
          "2025-03-03",
          "2025-03-04",
          "2025-03-05",
          "2025-03-06",
          "2025-03-07",
          "2025-03-09",
          "2025-03-10",
          "2025-03-11",
          "2025-03-12",
          "2025-03-13",
          "2025-03-14",
          "2025-03-15",
          "2025-03-16",
          "2025-03-17",
          "2025-03-18",
          "2025-03-19",
          "2025-03-20",
          "2025-03-21",
          "2025-03-22",
          "2025-03-24",
          "2025-03-25",
          "2025-03-26",
          "2025-03-27",
          "2025-03-28",
          "2025-03-29",
          "2025-03-31",
          "2025-04-02",
          "2025-04-03",
          "2025-04-04",
          "2025-04-05",
          "2025-04-06",
          "2025-04-07",
          "2025-04-08",
          "2025-04-09",
          "2025-04-10",
          "2025-04-11",
          "2025-04-12",
          "2025-04-13",
          "2025-04-14",
          "2025-04-15",
          "2025-04-16",
          "2025-04-17",
          "2025-04-18",
          "2025-04-19",
          "2025-04-20",
          "2025-04-21",
          "2025-04-22",
          "2025-04-23",
          "2025-04-24",
          "2025-04-25",
          "2025-04-26",
          "2025-04-27",
          "2025-04-28",
          "2025-04-29",
          "2025-04-30"
         ],
         "xaxis": "x13",
         "y": {
          "bdata": "AAAAAAAAAAAAAAAAAAAAAAAAAAAAAAAAAAAAAAAAAAAAAAAAAAAAAAAAAAAAAAAAAAAAAAAAAAAAAAAAAAAAAAAAAAAAAAAAAAAAAAAAAAAAAAAAAAAAAAAAAAAAAAAAAAAAAAAAAAAAAAAAAAAAAAAAAAAAAAAAAAAAAAAAAAAAAAAAAAAAAAAAAAAAAAAAAAAAAAAAAAAAAAAAAAAAAAAAAAAAAAAAAAAAAAAAAAAAAAAAAAAAAAAAAAAAAAAAAAAAAAAAAAAAAAAAAAAAAAAAAAAAAAAAAAAAAAAAAAAAAAAAAAA5QAAAAAAAAAAAAAAAAAAANEAAAAAAAAAAAAAAAAAAAAAAAAAAAAAAAAAAAAAAAAAAAAAAAAAAAAAAAAAAAAAAAAAAAAAAAAAAAAAAAAAAAAAAL7rooosuIkAAAAAAAAAAAAAAAAAAAAAAAAAAAAAAAAAAAAAAAAAAAAAAAAAAAAAAAAAAAAAAAAAAAAAAAAAAAKqqqqqqqkBAAAAAAAAAAAAAAAAAAAAAAAAAAAAAAAAAAAAAAAAAAAAAAAAAAAAAAAAAAAAAAAAAAAAAAAAAAAAAAAAAAAAAAAAAAAAAAAAAAAAAAAAAAAAAAAAAAAAAAAAAAAAAAAAAAAAAAAAAAAAAAAAAAAAAAAAAAAAAAAAAAAAAAAAAAAAAAAAAAAAAAAAAAAAAAAAAAAAAAAAAAAAAAAAAAAAAAAAAAAAAAAAAAAAAAAAAAAAAAAAAAAAAAAAAAAAAAAAAAAAAAAAAAAAAAAAAAAAAAAAAAAAAAAAAAAAAAAAAAAAAAAAAAAAAAAAAAAAAAAAAAAAAAAAAAAAAAAAAAAAAAAAAAAAAAAAAAAAAAAAAAAAAAAAAAAAAAAAAAAAAAAAAAAAAAAAAAAAAAAAAAAAAAAAAAAAAAAAAAAAAAAAAAAA=",
          "dtype": "f8"
         },
         "yaxis": "y13"
        },
        {
         "hovertemplate": "Make=CHEVROLET<br>InquiryDate=%{x}<br>value=%{y}<extra></extra>",
         "legendgroup": "CHEVROLET",
         "line": {
          "color": "#ab63fa",
          "dash": "solid"
         },
         "marker": {
          "symbol": "circle"
         },
         "mode": "lines",
         "name": "CHEVROLET",
         "showlegend": true,
         "type": "scattergl",
         "x": [
          "2024-12-31",
          "2025-01-08",
          "2025-01-10",
          "2025-01-13",
          "2025-01-14",
          "2025-01-18",
          "2025-01-22",
          "2025-01-26",
          "2025-01-27",
          "2025-01-28",
          "2025-01-29",
          "2025-01-30",
          "2025-02-03",
          "2025-02-04",
          "2025-02-05",
          "2025-02-08",
          "2025-02-10",
          "2025-02-12",
          "2025-02-14",
          "2025-02-15",
          "2025-02-17",
          "2025-02-18",
          "2025-02-19",
          "2025-02-20",
          "2025-02-21",
          "2025-02-22",
          "2025-02-23",
          "2025-02-24",
          "2025-02-25",
          "2025-02-26",
          "2025-02-27",
          "2025-02-28",
          "2025-03-01",
          "2025-03-03",
          "2025-03-04",
          "2025-03-05",
          "2025-03-06",
          "2025-03-07",
          "2025-03-09",
          "2025-03-10",
          "2025-03-11",
          "2025-03-12",
          "2025-03-13",
          "2025-03-14",
          "2025-03-15",
          "2025-03-16",
          "2025-03-17",
          "2025-03-18",
          "2025-03-19",
          "2025-03-20",
          "2025-03-21",
          "2025-03-22",
          "2025-03-24",
          "2025-03-25",
          "2025-03-26",
          "2025-03-27",
          "2025-03-28",
          "2025-03-29",
          "2025-03-31",
          "2025-04-02",
          "2025-04-03",
          "2025-04-04",
          "2025-04-05",
          "2025-04-06",
          "2025-04-07",
          "2025-04-08",
          "2025-04-09",
          "2025-04-10",
          "2025-04-11",
          "2025-04-12",
          "2025-04-13",
          "2025-04-14",
          "2025-04-15",
          "2025-04-16",
          "2025-04-17",
          "2025-04-18",
          "2025-04-19",
          "2025-04-20",
          "2025-04-21",
          "2025-04-22",
          "2025-04-23",
          "2025-04-24",
          "2025-04-25",
          "2025-04-26",
          "2025-04-27",
          "2025-04-28",
          "2025-04-29",
          "2025-04-30"
         ],
         "xaxis": "x12",
         "y": {
          "bdata": "AAAAAAAAAAAAAAAAAAAAAAAAAAAAAAAAAAAAAAAAAAAAAAAAAAAAAAAAAAAAAAAAAAAAAAAAAAAAAAAAAAAAAAAAAAAAAAAAAAAAAAAAAAAAAAAAAAAAAAAAAAAAAAAAAAAAAAAAAAAAAAAAAAAAAAAAAAAAAAAAAAAAAAAAAAAAAAAAAAAAAAAAAAAAAAAAAAAAAAAAAAAAAAAAAAAAAAAAAAAAAAAAAAAAAAAAAAAAAAAAAAA5QAAAAAAAAAAAAAAAAAAAAAAAAAAAAAAAAAAAAAAAAAAAAAAAAAAAAAAAAAAAAAAAAAAAAAAAAAAAAAAAAAAAAAAAAAAAAAAAAAAAAAAAAAAAAAAAAAAAAAAAAAAAAAAAAAAAAAAAAAAAAAAAAAAAAAAAAAAAAAAAAAAAAAAAAAAAAAAAAAAAAAAAAAAAAAAAAAAAAAAAAAAAAAAAAAAAAAAAAAAAAAAAAAAAAAAAAAAAAAAAAAAAAAAAAAAAAAAAAAAAAAAAAAAAAAAAAAAAAAAAAAAAAAAAAAAAAAAAAAAAAAAAAAAAAAAAAAAAAAAAAAAAAAAAAAAAAAAAAAAAAAAAAAAAAAAAAAAAAAAAAAAAAAAAAAAAAAAAAAAAAAAAAAAAAAAAAAAAAAAAAAAAAAAAAAAAAAAAAAAAAAAAAAAAAAAAAAAAAAAAAAAAAAAAAAAAAAAAAAAAAAAAAAAAAAAAAAAAAAAAAAAAAAAAAAAAAAAAAAAAAAAAAAAAAAAAAAAAAAAAAAAAAAAAAAAAAAAAAAAAAAAAAAAAAAAAAAAAAAAAAAAAAAAAAAAAAAAAAAAAAAAAAAAAAAAAAAAAAAAAAAAAAAAAAAAAAAAAAAAAAAAAAAAAAAAAAAAAAAAAAAAAAAAAAAAAAAAAAAAAAAAAAAAAAAAAAAAAAAAAAAAAAAAAAAAAAAA=",
          "dtype": "f8"
         },
         "yaxis": "y12"
        },
        {
         "hovertemplate": "Make=HONDA<br>InquiryDate=%{x}<br>value=%{y}<extra></extra>",
         "legendgroup": "HONDA",
         "line": {
          "color": "#FFA15A",
          "dash": "solid"
         },
         "marker": {
          "symbol": "circle"
         },
         "mode": "lines",
         "name": "HONDA",
         "showlegend": true,
         "type": "scattergl",
         "x": [
          "2024-12-31",
          "2025-01-08",
          "2025-01-10",
          "2025-01-13",
          "2025-01-14",
          "2025-01-18",
          "2025-01-22",
          "2025-01-26",
          "2025-01-27",
          "2025-01-28",
          "2025-01-29",
          "2025-01-30",
          "2025-02-03",
          "2025-02-04",
          "2025-02-05",
          "2025-02-08",
          "2025-02-10",
          "2025-02-12",
          "2025-02-14",
          "2025-02-15",
          "2025-02-17",
          "2025-02-18",
          "2025-02-19",
          "2025-02-20",
          "2025-02-21",
          "2025-02-22",
          "2025-02-23",
          "2025-02-24",
          "2025-02-25",
          "2025-02-26",
          "2025-02-27",
          "2025-02-28",
          "2025-03-01",
          "2025-03-03",
          "2025-03-04",
          "2025-03-05",
          "2025-03-06",
          "2025-03-07",
          "2025-03-09",
          "2025-03-10",
          "2025-03-11",
          "2025-03-12",
          "2025-03-13",
          "2025-03-14",
          "2025-03-15",
          "2025-03-16",
          "2025-03-17",
          "2025-03-18",
          "2025-03-19",
          "2025-03-20",
          "2025-03-21",
          "2025-03-22",
          "2025-03-24",
          "2025-03-25",
          "2025-03-26",
          "2025-03-27",
          "2025-03-28",
          "2025-03-29",
          "2025-03-31",
          "2025-04-02",
          "2025-04-03",
          "2025-04-04",
          "2025-04-05",
          "2025-04-06",
          "2025-04-07",
          "2025-04-08",
          "2025-04-09",
          "2025-04-10",
          "2025-04-11",
          "2025-04-12",
          "2025-04-13",
          "2025-04-14",
          "2025-04-15",
          "2025-04-16",
          "2025-04-17",
          "2025-04-18",
          "2025-04-19",
          "2025-04-20",
          "2025-04-21",
          "2025-04-22",
          "2025-04-23",
          "2025-04-24",
          "2025-04-25",
          "2025-04-26",
          "2025-04-27",
          "2025-04-28",
          "2025-04-29",
          "2025-04-30"
         ],
         "xaxis": "x11",
         "y": {
          "bdata": "AAAAAAAAAAAAAAAAAAAAAAAAAAAAAAAAAAAAAAAAAAAAAAAAAAAAAAAAAAAAAAAAAAAAAAAAAAAAAAAAAAAAAAAAAAAAAAAAAAAAAAAAAAAAAAAAAAAAAAAAAAAAAAAAAAAAAAAAAAAAAAAAAAAAAAAAAAAAAAAAAAAAAAAAAAAAAAAAAAAAAAAAAAAAAAAAAAAAAAAAAAAAAAAAAAAAAAAAAAAAAAAAAAAAAAAAAAAAAAAAAAAAAAAAAAAAAAAAAAAAAAAAAAAAAAAAAAAAAAAAAAAAAAAAAAAAAAAAAAAAAAAAAAAAAAAAAAAAAAAAAAAAAAAANEAAAAAAAAAAAAAAAAAAAAAAAAAAAAAAAAAAAAAAAAAAAAAAAAAAAAAAAAAAAAAAAAAAAAAAAAAAAAAAAAAAAAAAAAAAAAAAAAAAAAAAAAAAAAAAAAAAAAAAAAAAAAAAAAAAAAAAAAAAAAAAAAAAAAAAAAAAAAAASUAAAAAAAAAAAAAAAAAAAAAAAAAAAAAAAAAAAAAAAAAAAAAAAAAAAAAAAAAAAAAAAAAAAAAAAAAAAAAAAAAAAAAAAAAAAAAAAAAAAAAAAAAAAAAAAAAAAAAAAAAAAAAAAAAAAAAAAAAAAAAAAAAAAAAAAAAAAAAAAAAAAAAAAAAAAAAAAAAAAAAAAAAAAAAAAAAAAAAAAAAAAI7jOI7jOCZAAAAAAAAAAAAAAAAAAAAAAAAAAAAAAAAAAAAAAAAAAAAAAAAAAAAAAAAAAAAAAAAAAAAAAAAAAAAAAAAAAAAAAAAAAAAAAAAAAAAAAAAAAAAAAAAAAAAAAAAAAAAAAAAAAAAAAAAAAAAAAAAAAAAAAAAAAAAAAAAAAAAAAAAAAAAAAAAAAAAAAAAAAAAAAAAAAAAAAAAAAAAAAAAAAAAAAI7jOI7jOBZAAAAAAAAAAAA=",
          "dtype": "f8"
         },
         "yaxis": "y11"
        },
        {
         "hovertemplate": "Make=HUAWEI<br>InquiryDate=%{x}<br>value=%{y}<extra></extra>",
         "legendgroup": "HUAWEI",
         "line": {
          "color": "#19d3f3",
          "dash": "solid"
         },
         "marker": {
          "symbol": "circle"
         },
         "mode": "lines",
         "name": "HUAWEI",
         "showlegend": true,
         "type": "scattergl",
         "x": [
          "2024-12-31",
          "2025-01-08",
          "2025-01-10",
          "2025-01-13",
          "2025-01-14",
          "2025-01-18",
          "2025-01-22",
          "2025-01-26",
          "2025-01-27",
          "2025-01-28",
          "2025-01-29",
          "2025-01-30",
          "2025-02-03",
          "2025-02-04",
          "2025-02-05",
          "2025-02-08",
          "2025-02-10",
          "2025-02-12",
          "2025-02-14",
          "2025-02-15",
          "2025-02-17",
          "2025-02-18",
          "2025-02-19",
          "2025-02-20",
          "2025-02-21",
          "2025-02-22",
          "2025-02-23",
          "2025-02-24",
          "2025-02-25",
          "2025-02-26",
          "2025-02-27",
          "2025-02-28",
          "2025-03-01",
          "2025-03-03",
          "2025-03-04",
          "2025-03-05",
          "2025-03-06",
          "2025-03-07",
          "2025-03-09",
          "2025-03-10",
          "2025-03-11",
          "2025-03-12",
          "2025-03-13",
          "2025-03-14",
          "2025-03-15",
          "2025-03-16",
          "2025-03-17",
          "2025-03-18",
          "2025-03-19",
          "2025-03-20",
          "2025-03-21",
          "2025-03-22",
          "2025-03-24",
          "2025-03-25",
          "2025-03-26",
          "2025-03-27",
          "2025-03-28",
          "2025-03-29",
          "2025-03-31",
          "2025-04-02",
          "2025-04-03",
          "2025-04-04",
          "2025-04-05",
          "2025-04-06",
          "2025-04-07",
          "2025-04-08",
          "2025-04-09",
          "2025-04-10",
          "2025-04-11",
          "2025-04-12",
          "2025-04-13",
          "2025-04-14",
          "2025-04-15",
          "2025-04-16",
          "2025-04-17",
          "2025-04-18",
          "2025-04-19",
          "2025-04-20",
          "2025-04-21",
          "2025-04-22",
          "2025-04-23",
          "2025-04-24",
          "2025-04-25",
          "2025-04-26",
          "2025-04-27",
          "2025-04-28",
          "2025-04-29",
          "2025-04-30"
         ],
         "xaxis": "x10",
         "y": {
          "bdata": "AAAAAAAAAAAAAAAAAAAAAAAAAAAAAAAAAAAAAAAAAAAAAAAAAAAAAAAAAAAAAAAAAAAAAAAAAAAAAAAAAAAAAAAAAAAAAAAAAAAAAAAAAAAAAAAAAAAAAAAAAAAAAAAAAAAAAAAAAAAAAAAAAAAAAAAAAAAAAAAAAAAAAAAAAAAAAAAAAAAAAAAAAAAAAAAAAAAAAAAAAAAAAAAAAAAAAAAAAAAAAAAAAAAAAAAAAAAAAAAAAAAAAAAAAAAAAAAAAAAAAAAAAAAAAAAAAAAAAAAAAAAAAAAAAAAAAAAAAAAAAAAAAAA5QAAAAAAAAAAAAAAAAAAAAAAAAAAAAAAAAAAAAAAAAAAAAAAAAAAAAAAAAAAAAAAAAAAAAAAAAAAAAAAAAAAAAAAAAAAAAAAAAAAAAAAAAAAAAAAAAAAAAAAAAAAAAAAAAAAAAAAAAAAAAAAAAAAAAAAAAAAAAAAAAAAAAAAAAAAAAAAAAAAAAAAAAAAAAAAAAAAAAAAAAAAAAAAAAAAAAAAAAAAAAAAAAAAAAAAAAAAAAAAAAAAAAAAAAAAAAAAAAAAAAAAAAAAAAAAAAAAAAAAAAAAAAAAAAAAAAAAAAAAAAAAAAAAAAAAAAAAAAAAAAAAAAAAAAAAAAAAAAAAAAAAAAAAAAAAAAAAAAAAAAAAAAAAAAAAAAAAAAAAAAABZQAAAAAAAAAAAAAAAAAAAAAAAAAAAAAAAAAAAAAAAAAAAAAAAAAAAAAAAAAAAAAAAAAAAAAAAAAAAAAAAAAAAAAAAAAAAAAAAAAAAAAAAAAAAAAAAAAAAAAAAAAAAAAAAAAAAAAAAAAAAAAAAAAAAAAAAAAAAAAAAAAAAAAAAAAAAAAAAAAAAAAAAAAAAAAAAAAAAAAAAAAAAAAAAAAAAAAAAAAAAAAAAAAAAAAAAAAAAAAAAAAAAAAA=",
          "dtype": "f8"
         },
         "yaxis": "y10"
        },
        {
         "hovertemplate": "Make=HYUNDAI<br>InquiryDate=%{x}<br>value=%{y}<extra></extra>",
         "legendgroup": "HYUNDAI",
         "line": {
          "color": "#FF6692",
          "dash": "solid"
         },
         "marker": {
          "symbol": "circle"
         },
         "mode": "lines",
         "name": "HYUNDAI",
         "showlegend": true,
         "type": "scattergl",
         "x": [
          "2024-12-31",
          "2025-01-08",
          "2025-01-10",
          "2025-01-13",
          "2025-01-14",
          "2025-01-18",
          "2025-01-22",
          "2025-01-26",
          "2025-01-27",
          "2025-01-28",
          "2025-01-29",
          "2025-01-30",
          "2025-02-03",
          "2025-02-04",
          "2025-02-05",
          "2025-02-08",
          "2025-02-10",
          "2025-02-12",
          "2025-02-14",
          "2025-02-15",
          "2025-02-17",
          "2025-02-18",
          "2025-02-19",
          "2025-02-20",
          "2025-02-21",
          "2025-02-22",
          "2025-02-23",
          "2025-02-24",
          "2025-02-25",
          "2025-02-26",
          "2025-02-27",
          "2025-02-28",
          "2025-03-01",
          "2025-03-03",
          "2025-03-04",
          "2025-03-05",
          "2025-03-06",
          "2025-03-07",
          "2025-03-09",
          "2025-03-10",
          "2025-03-11",
          "2025-03-12",
          "2025-03-13",
          "2025-03-14",
          "2025-03-15",
          "2025-03-16",
          "2025-03-17",
          "2025-03-18",
          "2025-03-19",
          "2025-03-20",
          "2025-03-21",
          "2025-03-22",
          "2025-03-24",
          "2025-03-25",
          "2025-03-26",
          "2025-03-27",
          "2025-03-28",
          "2025-03-29",
          "2025-03-31",
          "2025-04-02",
          "2025-04-03",
          "2025-04-04",
          "2025-04-05",
          "2025-04-06",
          "2025-04-07",
          "2025-04-08",
          "2025-04-09",
          "2025-04-10",
          "2025-04-11",
          "2025-04-12",
          "2025-04-13",
          "2025-04-14",
          "2025-04-15",
          "2025-04-16",
          "2025-04-17",
          "2025-04-18",
          "2025-04-19",
          "2025-04-20",
          "2025-04-21",
          "2025-04-22",
          "2025-04-23",
          "2025-04-24",
          "2025-04-25",
          "2025-04-26",
          "2025-04-27",
          "2025-04-28",
          "2025-04-29",
          "2025-04-30"
         ],
         "xaxis": "x9",
         "y": {
          "bdata": "AAAAAAAAAAAAAAAAAAAAAAAAAAAAAAAAAAAAAAAAAAAAAAAAAAAAAAAAAAAAAAAAAAAAAAAAAAAAAAAAAAAAAAAAAAAAAAAAAAAAAAAAAAAAAAAAAAAAAAAAAAAAAAAAAAAAAAAAAAAAAAAAAABJQAAAAAAAAAAAAAAAAAAAAAAAAAAAAAAAAAAAAAAAAAAAAAAAAAAAAAAAAAAAAAAAAAAAAAAAAAAAAAAAAAAAAAAAAAAAAAAAAAAAAAAAAAAAAAAAAAAAAAAAAAAAAAAAAAAAAAAAAAAAAAAAAAAAAAAAAAAAAAAAAAAAAAAAAAAAAAAAAAAAAAAAAAAAAAAAAAAAAAAAAAAAAAAAAAAAAAAAAAAAAAAAAAAAAAAAAAAAAAAAAAAAAAAAAAAAAAAAAAAAAAAAAAAAAAAAAAAAAAAAAAAAAAAAAAAAAAAAAAAAAAAAAAAAAAAAAAAAAAAAAAAAAAAAAAAAAAAAAAAAAAAAAAAAAAAAAAAAAAAAAAAAAAAAAAAAAAAAAAAAAAAAAAAAAAAAAAAAAAAAAAAAAAAAAAAAAAAAAAAAAAAAAAAAAAAAAAAAAAAAAAAAAAAAAAAAAAAAAAAAAAAAAAAAAAAAAAAAAAAAAAAAAAAAAAAAAAAAAAAAAAAAAAAAAAAAAAAAAAAAAAAAAAAAAAAAAAAAAAAAAAAAAAAAAAAAAAAAAAAAAAAAAAAAAAAAAAAAAAAAAAAAAAAAAAAAAAAAAAAAAAAAAAAAAAAAAAAAAAAAAAAAAAAAAAAAAAAAAAAAAAAAAAAAAAAAAAAAAAAAAAAAAAAAAAAAAAAAAAAAAAAAAAAAAAAAAAAAAAAAAAAAAAAAAAAAAAAAAAAAAAAAAAAAAAAAAAAAAAAAAAAAAAAAAAAAAAAAAAAAAAAAAAAAAAAAAAAAAAAAAAAAAAAAAAA=",
          "dtype": "f8"
         },
         "yaxis": "y9"
        },
        {
         "hovertemplate": "Make=JAGUAR<br>InquiryDate=%{x}<br>value=%{y}<extra></extra>",
         "legendgroup": "JAGUAR",
         "line": {
          "color": "#B6E880",
          "dash": "solid"
         },
         "marker": {
          "symbol": "circle"
         },
         "mode": "lines",
         "name": "JAGUAR",
         "showlegend": true,
         "type": "scattergl",
         "x": [
          "2024-12-31",
          "2025-01-08",
          "2025-01-10",
          "2025-01-13",
          "2025-01-14",
          "2025-01-18",
          "2025-01-22",
          "2025-01-26",
          "2025-01-27",
          "2025-01-28",
          "2025-01-29",
          "2025-01-30",
          "2025-02-03",
          "2025-02-04",
          "2025-02-05",
          "2025-02-08",
          "2025-02-10",
          "2025-02-12",
          "2025-02-14",
          "2025-02-15",
          "2025-02-17",
          "2025-02-18",
          "2025-02-19",
          "2025-02-20",
          "2025-02-21",
          "2025-02-22",
          "2025-02-23",
          "2025-02-24",
          "2025-02-25",
          "2025-02-26",
          "2025-02-27",
          "2025-02-28",
          "2025-03-01",
          "2025-03-03",
          "2025-03-04",
          "2025-03-05",
          "2025-03-06",
          "2025-03-07",
          "2025-03-09",
          "2025-03-10",
          "2025-03-11",
          "2025-03-12",
          "2025-03-13",
          "2025-03-14",
          "2025-03-15",
          "2025-03-16",
          "2025-03-17",
          "2025-03-18",
          "2025-03-19",
          "2025-03-20",
          "2025-03-21",
          "2025-03-22",
          "2025-03-24",
          "2025-03-25",
          "2025-03-26",
          "2025-03-27",
          "2025-03-28",
          "2025-03-29",
          "2025-03-31",
          "2025-04-02",
          "2025-04-03",
          "2025-04-04",
          "2025-04-05",
          "2025-04-06",
          "2025-04-07",
          "2025-04-08",
          "2025-04-09",
          "2025-04-10",
          "2025-04-11",
          "2025-04-12",
          "2025-04-13",
          "2025-04-14",
          "2025-04-15",
          "2025-04-16",
          "2025-04-17",
          "2025-04-18",
          "2025-04-19",
          "2025-04-20",
          "2025-04-21",
          "2025-04-22",
          "2025-04-23",
          "2025-04-24",
          "2025-04-25",
          "2025-04-26",
          "2025-04-27",
          "2025-04-28",
          "2025-04-29",
          "2025-04-30"
         ],
         "xaxis": "x8",
         "y": {
          "bdata": "AAAAAAAAAAAAAAAAAAAAAAAAAAAAAElAAAAAAAAAAAAAAAAAAAAAAAAAAAAAAAAAAAAAAAAAAAAAAAAAAAAAAAAAAAAAAAAAAAAAAAAAAAAAAAAAAAAAAAAAAAAAAAAAAAAAAAAAAAAAAAAAAAAAAAAAAAAAAAAAAAAAAAAAAAAAAAAAAAAAAAAAAAAAAAAAAAAAAAAAAAAAAAAAAAAAAAAAAAAAAAAAAAAAAAAAAAAAAAAAAAAAAAAAAAAAAAAAAAAAAAAAAAAAAAAAAAAAAAAAAAAAAAAAAAAAAAAAAAAAAAAAAAAAAAAAAAAAAAAAAAAAAAAAAAAAAAAAAAAAAAAAAAAAAAAAAAAAAAAAAAAAAAAAAAAAAAAAAAAAAAAAAAAAAAAAAAAAAAAAAAAAAAAAAAAAAAAAAAAAAAAAAAAAAAAAAAAAAAAAAAAAAAAAAAAAAAAAAAAAAAAAAAAAAAAAAAAAAAAAAAAAAAAAAAAAAAAAAAAAAAAAAAAAAAAAAAAAAAAAAAAAAAAAAAAAAAAAAAAAAAAAAAAAAAAAAAAAAAAAAAAAAAAAAAAAAAAAAAAAAAAAAAAAAAAAAAAAAAAAAAAAAAAAAAAAAAAAAAAAAAAAAAAAAAAAAAAAAAAAAAAAAAAAAAAAAAAAAAAAAAAAAAAAAAAAAAAAAAAAAAAAAAAAAAAAAI7jOI7jOCZAAAAAAAAAAAAAAAAAAAAAAAAAAAAAAAAAAAAAAAAAAAAAAAAAAAAAAAAAAAAAAAAAAAAAAAAAAAAAAAAAAAAAAAAAAAAAAAAAAAAAAAAAAAAAAAAAAAAAAAAAAAAAAAAAAAAAAAAAAAAAAAAAAAAAAAAAAAAAAAAAAAAAAAAAAAAAAAAAAAAAAAAAAAAAAAAAAAAAAAAAAAAAAAAAAAAAAAAAAAAAAAAAAAAAAAAAAAA=",
          "dtype": "f8"
         },
         "yaxis": "y8"
        },
        {
         "hovertemplate": "Make=KIA<br>InquiryDate=%{x}<br>value=%{y}<extra></extra>",
         "legendgroup": "KIA",
         "line": {
          "color": "#FF97FF",
          "dash": "solid"
         },
         "marker": {
          "symbol": "circle"
         },
         "mode": "lines",
         "name": "KIA",
         "showlegend": true,
         "type": "scattergl",
         "x": [
          "2024-12-31",
          "2025-01-08",
          "2025-01-10",
          "2025-01-13",
          "2025-01-14",
          "2025-01-18",
          "2025-01-22",
          "2025-01-26",
          "2025-01-27",
          "2025-01-28",
          "2025-01-29",
          "2025-01-30",
          "2025-02-03",
          "2025-02-04",
          "2025-02-05",
          "2025-02-08",
          "2025-02-10",
          "2025-02-12",
          "2025-02-14",
          "2025-02-15",
          "2025-02-17",
          "2025-02-18",
          "2025-02-19",
          "2025-02-20",
          "2025-02-21",
          "2025-02-22",
          "2025-02-23",
          "2025-02-24",
          "2025-02-25",
          "2025-02-26",
          "2025-02-27",
          "2025-02-28",
          "2025-03-01",
          "2025-03-03",
          "2025-03-04",
          "2025-03-05",
          "2025-03-06",
          "2025-03-07",
          "2025-03-09",
          "2025-03-10",
          "2025-03-11",
          "2025-03-12",
          "2025-03-13",
          "2025-03-14",
          "2025-03-15",
          "2025-03-16",
          "2025-03-17",
          "2025-03-18",
          "2025-03-19",
          "2025-03-20",
          "2025-03-21",
          "2025-03-22",
          "2025-03-24",
          "2025-03-25",
          "2025-03-26",
          "2025-03-27",
          "2025-03-28",
          "2025-03-29",
          "2025-03-31",
          "2025-04-02",
          "2025-04-03",
          "2025-04-04",
          "2025-04-05",
          "2025-04-06",
          "2025-04-07",
          "2025-04-08",
          "2025-04-09",
          "2025-04-10",
          "2025-04-11",
          "2025-04-12",
          "2025-04-13",
          "2025-04-14",
          "2025-04-15",
          "2025-04-16",
          "2025-04-17",
          "2025-04-18",
          "2025-04-19",
          "2025-04-20",
          "2025-04-21",
          "2025-04-22",
          "2025-04-23",
          "2025-04-24",
          "2025-04-25",
          "2025-04-26",
          "2025-04-27",
          "2025-04-28",
          "2025-04-29",
          "2025-04-30"
         ],
         "xaxis": "x7",
         "y": {
          "bdata": "AAAAAAAAAAAAAAAAAAAAAAAAAAAAAElAAAAAAAAAAAAAAAAAAAAAAAAAAAAAAAAAAAAAAAAAAAAAAAAAAABZQAAAAAAAAAAAAAAAAAAAAAAAAAAAAAAAAAAAAAAAAAAAqqqqqqqqQEAAAAAAAAAAAAAAAAAAAAAAAAAAAAAAAAAAAAAAAABJQAAAAAAAAAAAAAAAAAAAAAAAAAAAAAAAAAAAAAAAADlAAAAAAAAAOUCqqqqqqqowQAAAAAAAAAAAAAAAAAAAAACqqqqqqqpAQAAAAAAAAAAAAAAAAAAAAAAAAAAAAAA5QAAAAAAAADRAAAAAAAAAAAAAAAAAAAAAAAAAAAAAAAAAAAAAAAAAAAAAAAAAAAAAAAAAAAAAAAAAAAAAAAAAAAAAAAAAAAAAAAAAAAAAAAAAAAAAAAAAAACqqqqqqqowQAAAAAAAAAAAAAAAAAAAAAAAAAAAAAAAAAAAAAAAAAAAAAAAAAAAAAAAAAAAAAAAAAAAAAAAAAAAAAAAAAAAAAAAAAAAAAAAAKqqqqqqqjBAAAAAAAAAAACqqqqqqqogQAAAAAAAAClAAAAAAAAASUCqqqqqqqowQAAAAAAAAAAAAAAAAAAAAAAAAAAAAAAAAAAAAAAAAAAAAAAAAAAAAAAAAAAAAAAAAAAAAAAAAAAAAAAAAAAAAAAAAAAAAAAAAAAAAAAAAAAAAAAAAAAAAAAkSZIkSZIsQC+66KKLLjJAAAAAAAAAOUAAAAAAAAAAAAAAAAAAAAAAAAAAAAAAAAAAAAAAAAAAAAAAAAAAAAAAAAAAAAAAAAAAAAAAAAAAAAAAAAAAAAAAJEmSJEmSLEAAAAAAAABJQAAAAAAAADlAT+zETuzEHkAAAAAAAAAAAKqqqqqqqkBAAAAAAAAAAAAAAAAAAAAAAAAAAAAAAAAAJEmSJEmSLEA=",
          "dtype": "f8"
         },
         "yaxis": "y7"
        },
        {
         "hovertemplate": "Make=LAND ROVER<br>InquiryDate=%{x}<br>value=%{y}<extra></extra>",
         "legendgroup": "LAND ROVER",
         "line": {
          "color": "#FECB52",
          "dash": "solid"
         },
         "marker": {
          "symbol": "circle"
         },
         "mode": "lines",
         "name": "LAND ROVER",
         "showlegend": true,
         "type": "scattergl",
         "x": [
          "2024-12-31",
          "2025-01-08",
          "2025-01-10",
          "2025-01-13",
          "2025-01-14",
          "2025-01-18",
          "2025-01-22",
          "2025-01-26",
          "2025-01-27",
          "2025-01-28",
          "2025-01-29",
          "2025-01-30",
          "2025-02-03",
          "2025-02-04",
          "2025-02-05",
          "2025-02-08",
          "2025-02-10",
          "2025-02-12",
          "2025-02-14",
          "2025-02-15",
          "2025-02-17",
          "2025-02-18",
          "2025-02-19",
          "2025-02-20",
          "2025-02-21",
          "2025-02-22",
          "2025-02-23",
          "2025-02-24",
          "2025-02-25",
          "2025-02-26",
          "2025-02-27",
          "2025-02-28",
          "2025-03-01",
          "2025-03-03",
          "2025-03-04",
          "2025-03-05",
          "2025-03-06",
          "2025-03-07",
          "2025-03-09",
          "2025-03-10",
          "2025-03-11",
          "2025-03-12",
          "2025-03-13",
          "2025-03-14",
          "2025-03-15",
          "2025-03-16",
          "2025-03-17",
          "2025-03-18",
          "2025-03-19",
          "2025-03-20",
          "2025-03-21",
          "2025-03-22",
          "2025-03-24",
          "2025-03-25",
          "2025-03-26",
          "2025-03-27",
          "2025-03-28",
          "2025-03-29",
          "2025-03-31",
          "2025-04-02",
          "2025-04-03",
          "2025-04-04",
          "2025-04-05",
          "2025-04-06",
          "2025-04-07",
          "2025-04-08",
          "2025-04-09",
          "2025-04-10",
          "2025-04-11",
          "2025-04-12",
          "2025-04-13",
          "2025-04-14",
          "2025-04-15",
          "2025-04-16",
          "2025-04-17",
          "2025-04-18",
          "2025-04-19",
          "2025-04-20",
          "2025-04-21",
          "2025-04-22",
          "2025-04-23",
          "2025-04-24",
          "2025-04-25",
          "2025-04-26",
          "2025-04-27",
          "2025-04-28",
          "2025-04-29",
          "2025-04-30"
         ],
         "xaxis": "x6",
         "y": {
          "bdata": "AAAAAAAAAAAAAAAAAAAAAAAAAAAAAAAAAAAAAAAAAAAAAAAAAAAAAAAAAAAAAAAAAAAAAAAAAAAAAAAAAAAAAAAAAAAAAAAAAAAAAAAAAAAAAAAAAAAAAAAAAAAAAAAAAAAAAAAAAAAAAAAAAAAAAAAAAAAAAAAAAAAAAAAAAAAAAAAAAAAAAAAAAAAAAAAAAAAAAAAAAAAAAAAAAAAAAAAAAAAAAAAAAAAAAAAAAAAAAAAAAAAAAAAAAAAAAAAAAAAAAAAAAAAAAAAAAAAAAAAAAAAAAAAAAAAAAAAAAAAAAAAAAAAAAAAAAAAAAAAAAAAAAAAAAAAAAAAAAAAAAAAAAAAAAAAAAAAAAAAAAAAAAAAAAAAAAAAAAAAAAAAAAAAAAAAAAAAAAAAAAAAAAAAAAAAAAAAAAAAAAAAAAAAAAAAAAAAAAAAAAAAAAAAAqqqqqqqqQEAAAAAAAAAAAAAAAAAAAAAAAAAAAAAAAAAAAAAAAAAAAAAAAAAAAAAAAAAAAAAAAAAAAAAAAAAAAAAAAAAAAAAAAAAAAAAAAAAAAAAAAAAAAAAAAAAAAAAAAAAAAAAAAAAAAAAAAAAAAAAAAAAAAAAAAAAAAAAAAAAAAAAAAAAAAAAAAAAAAAAAAAAAAAAAAAAAAAAAAAAAAAAAAAAAAAAAAAAAAAAAAAAAAAAAAAAAAAAAAAAAAAAAAAAAAAAAAAAAAAAAAAAAAAAAAAAAAAAAAAAAAAAAAAAAAAAAAAAAAAAAAAAAAAAAAAAAAAAAAAAAAAAAAAAAAAAAAAAAAAAAAAAAAAAAAAAAAAAAAAAAAAAAAAAAAAAAAAAAAAAAAAAAAAAAAAAAAAAAAAAAAAAAAAAAAAAAAAAAAAAAAAAAAAAAAAAAAAAAAAAAAAAAAAAAAAAAAAAAAAAAAAAAAAAAAAAAAAAAAAA=",
          "dtype": "f8"
         },
         "yaxis": "y6"
        },
        {
         "hovertemplate": "Make=LEXUS<br>InquiryDate=%{x}<br>value=%{y}<extra></extra>",
         "legendgroup": "LEXUS",
         "line": {
          "color": "#636efa",
          "dash": "solid"
         },
         "marker": {
          "symbol": "circle"
         },
         "mode": "lines",
         "name": "LEXUS",
         "showlegend": true,
         "type": "scattergl",
         "x": [
          "2024-12-31",
          "2025-01-08",
          "2025-01-10",
          "2025-01-13",
          "2025-01-14",
          "2025-01-18",
          "2025-01-22",
          "2025-01-26",
          "2025-01-27",
          "2025-01-28",
          "2025-01-29",
          "2025-01-30",
          "2025-02-03",
          "2025-02-04",
          "2025-02-05",
          "2025-02-08",
          "2025-02-10",
          "2025-02-12",
          "2025-02-14",
          "2025-02-15",
          "2025-02-17",
          "2025-02-18",
          "2025-02-19",
          "2025-02-20",
          "2025-02-21",
          "2025-02-22",
          "2025-02-23",
          "2025-02-24",
          "2025-02-25",
          "2025-02-26",
          "2025-02-27",
          "2025-02-28",
          "2025-03-01",
          "2025-03-03",
          "2025-03-04",
          "2025-03-05",
          "2025-03-06",
          "2025-03-07",
          "2025-03-09",
          "2025-03-10",
          "2025-03-11",
          "2025-03-12",
          "2025-03-13",
          "2025-03-14",
          "2025-03-15",
          "2025-03-16",
          "2025-03-17",
          "2025-03-18",
          "2025-03-19",
          "2025-03-20",
          "2025-03-21",
          "2025-03-22",
          "2025-03-24",
          "2025-03-25",
          "2025-03-26",
          "2025-03-27",
          "2025-03-28",
          "2025-03-29",
          "2025-03-31",
          "2025-04-02",
          "2025-04-03",
          "2025-04-04",
          "2025-04-05",
          "2025-04-06",
          "2025-04-07",
          "2025-04-08",
          "2025-04-09",
          "2025-04-10",
          "2025-04-11",
          "2025-04-12",
          "2025-04-13",
          "2025-04-14",
          "2025-04-15",
          "2025-04-16",
          "2025-04-17",
          "2025-04-18",
          "2025-04-19",
          "2025-04-20",
          "2025-04-21",
          "2025-04-22",
          "2025-04-23",
          "2025-04-24",
          "2025-04-25",
          "2025-04-26",
          "2025-04-27",
          "2025-04-28",
          "2025-04-29",
          "2025-04-30"
         ],
         "xaxis": "x5",
         "y": {
          "bdata": "AAAAAAAAAAAAAAAAAAAAAAAAAAAAAAAAAAAAAAAAAAAAAAAAAAAAAAAAAAAAAAAAAAAAAAAAAAAAAAAAAAAAAAAAAAAAAAAAAAAAAAAAAAAAAAAAAAAAAAAAAAAAAAAAAAAAAAAAAAAAAAAAAAAAAAAAAAAAAERAAAAAAAAAAAAAAAAAAAAAAAAAAAAAAAAAAAAAAAAAAAAAAAAAAAAAAAAAAAAAAAAAAAAAAAAAAAAAAAAAAAAAAAAAAAAAAAAAAAAAAAAAAAAAAAAAAAAAAAAAAAAAAAAAAAAAAAAAOUAAAAAAAAAAAAAAAAAAAAAAAAAAAAAAAAAAAAAAAAAAAAAAAAAAAAAA27Zt27ZtRUAAAAAAAAAAAAAAAAAAAAAAAAAAAAAAAAAAAAAAAAAAAAAAAAAAAAAAAAAAAAAAAAAAAAAAAAAAAAAAAAAAAAAAAAAAAAAAAAAAAAAAAAAAAAAAAAAAAAAAAAAAAAAAAAAAAAAAAAAAAAAAAAAAAAAAAAAAAAAAAAAAAAAAAAAAAAAAAAAAAAAAAAAAAAAAAAAAAAAAAAAAAAAAAAAAAAAAAAAAAAAAAAAAAAAAAAAAAAAAAAAAAAAAAAAAAAAAAAAAAAAAAAAAAAAAAAAAAAAAAAAAAAAAAAAAAAAAAAAAAAAAAAAAAAAAAAAAAAAAAAAAAAAAAAAAAAAAAAAAAAAAAAAAAAAAAAAkSZIkSZIsQAAAAAAAAAAAAAAAAAAAAAAAAAAAAAA5QAAAAAAAAAAAAAAAAAAAAAAAAAAAAAAAAAAAAAAAAAAAAAAAAAAAAAAAAAAAAAAAAAAAAAAAAAAAAAAAAAAAAAAAAAAAAAAAAAAAAAAAAAAAAAAAAAAAAAAAAAAAAAAAAAAAAAAAAAAAAAAAAAAAAAAAAAAAAAAAAAAAAAAAAAAAAAAAAAAAAAA=",
          "dtype": "f8"
         },
         "yaxis": "y5"
        },
        {
         "hovertemplate": "Make=NISSAN<br>InquiryDate=%{x}<br>value=%{y}<extra></extra>",
         "legendgroup": "NISSAN",
         "line": {
          "color": "#EF553B",
          "dash": "solid"
         },
         "marker": {
          "symbol": "circle"
         },
         "mode": "lines",
         "name": "NISSAN",
         "showlegend": true,
         "type": "scattergl",
         "x": [
          "2024-12-31",
          "2025-01-08",
          "2025-01-10",
          "2025-01-13",
          "2025-01-14",
          "2025-01-18",
          "2025-01-22",
          "2025-01-26",
          "2025-01-27",
          "2025-01-28",
          "2025-01-29",
          "2025-01-30",
          "2025-02-03",
          "2025-02-04",
          "2025-02-05",
          "2025-02-08",
          "2025-02-10",
          "2025-02-12",
          "2025-02-14",
          "2025-02-15",
          "2025-02-17",
          "2025-02-18",
          "2025-02-19",
          "2025-02-20",
          "2025-02-21",
          "2025-02-22",
          "2025-02-23",
          "2025-02-24",
          "2025-02-25",
          "2025-02-26",
          "2025-02-27",
          "2025-02-28",
          "2025-03-01",
          "2025-03-03",
          "2025-03-04",
          "2025-03-05",
          "2025-03-06",
          "2025-03-07",
          "2025-03-09",
          "2025-03-10",
          "2025-03-11",
          "2025-03-12",
          "2025-03-13",
          "2025-03-14",
          "2025-03-15",
          "2025-03-16",
          "2025-03-17",
          "2025-03-18",
          "2025-03-19",
          "2025-03-20",
          "2025-03-21",
          "2025-03-22",
          "2025-03-24",
          "2025-03-25",
          "2025-03-26",
          "2025-03-27",
          "2025-03-28",
          "2025-03-29",
          "2025-03-31",
          "2025-04-02",
          "2025-04-03",
          "2025-04-04",
          "2025-04-05",
          "2025-04-06",
          "2025-04-07",
          "2025-04-08",
          "2025-04-09",
          "2025-04-10",
          "2025-04-11",
          "2025-04-12",
          "2025-04-13",
          "2025-04-14",
          "2025-04-15",
          "2025-04-16",
          "2025-04-17",
          "2025-04-18",
          "2025-04-19",
          "2025-04-20",
          "2025-04-21",
          "2025-04-22",
          "2025-04-23",
          "2025-04-24",
          "2025-04-25",
          "2025-04-26",
          "2025-04-27",
          "2025-04-28",
          "2025-04-29",
          "2025-04-30"
         ],
         "xaxis": "x4",
         "y": {
          "bdata": "AAAAAAAAAAAAAAAAAABZQAAAAAAAAAAAAAAAAAAAAAAAAAAAAAAAAAAAAAAAAAAAAAAAAAAAAAAAAAAAAAAAAAAAAAAAAAAAAAAAAAAAAAAAAAAAAAAAAAAAAAAAAAAAAAAAAAAAAAAAAAAAAAAAAAAAAAAAAAAAAAAAAAAAAAAAAAAAAAAAAAAAAAAAAElAAAAAAAAAAAAAAAAAAAAAAAAAAAAAAAAAAAAAAAAAAAAAAAAAAAAAAAAAAAAAAAAAAAAAAAAAAAAAAAAAAAAAAAAAAAAAAAAAAAAAAAAAAAAAAAAAAAAAAAAAAAAAAAAAAAAAAAAAAAAAAAAAAAAAAAAAAAAAAAAAAAAAAAAAAAAAAAAAAAAAAAAAAAAAAAAAAAAAAAAAAAAAAAAAAAAAAAAAAAAAAAAAAAAAAAAAAAAAAAAAAAAAAAAAAAAAAAAAAAAAAAAAAAAAAAAAAAAAAAAAAAAAAAAAAAAAAAAAAAAAAAAAAAAAAAAAAAAAAAAAAAAAAAAAAAAAAAAAAAAAAAAAAAAAAAAAAAAAAAAAAAAAAAAAAAAAAAAAAAAAAAAAAAAAAAAAAAAAAAAAAAAAAAAAAAAAAAAAAAAAAAAAAAAAAAAAAAAAAAAAAAAAAAAAAAAAAAAAAAAAAAAAAAAAAAAAAAAAAAAAAAAAAAAAAAAAAAAAAAAAAAAAAAAAAAAAAAAAAAAAAAAAAAAAAAAAAAAAAAAAAAAAAAAAAAAAAAAAAAAAAAAAAAAAAAAAAAAAAAAAAAAAAAAAAAAAAAAAAAAAAAAAAAAAAAAAAAAAAAAAAAAAAAAAAAAAAAAAAAAAAAAAAAAAAAAAAAAAAAAAAAAAAAAAAAAAAAAAAAAAAAAAAAAAAAAAAAAAAAAAAAAAAAAAAAAAAACrqqqqqqoaQAAAAAAAAAAAAAAAAAAAAAA=",
          "dtype": "f8"
         },
         "yaxis": "y4"
        },
        {
         "hovertemplate": "Make=TESLA<br>InquiryDate=%{x}<br>value=%{y}<extra></extra>",
         "legendgroup": "TESLA",
         "line": {
          "color": "#00cc96",
          "dash": "solid"
         },
         "marker": {
          "symbol": "circle"
         },
         "mode": "lines",
         "name": "TESLA",
         "showlegend": true,
         "type": "scattergl",
         "x": [
          "2024-12-31",
          "2025-01-08",
          "2025-01-10",
          "2025-01-13",
          "2025-01-14",
          "2025-01-18",
          "2025-01-22",
          "2025-01-26",
          "2025-01-27",
          "2025-01-28",
          "2025-01-29",
          "2025-01-30",
          "2025-02-03",
          "2025-02-04",
          "2025-02-05",
          "2025-02-08",
          "2025-02-10",
          "2025-02-12",
          "2025-02-14",
          "2025-02-15",
          "2025-02-17",
          "2025-02-18",
          "2025-02-19",
          "2025-02-20",
          "2025-02-21",
          "2025-02-22",
          "2025-02-23",
          "2025-02-24",
          "2025-02-25",
          "2025-02-26",
          "2025-02-27",
          "2025-02-28",
          "2025-03-01",
          "2025-03-03",
          "2025-03-04",
          "2025-03-05",
          "2025-03-06",
          "2025-03-07",
          "2025-03-09",
          "2025-03-10",
          "2025-03-11",
          "2025-03-12",
          "2025-03-13",
          "2025-03-14",
          "2025-03-15",
          "2025-03-16",
          "2025-03-17",
          "2025-03-18",
          "2025-03-19",
          "2025-03-20",
          "2025-03-21",
          "2025-03-22",
          "2025-03-24",
          "2025-03-25",
          "2025-03-26",
          "2025-03-27",
          "2025-03-28",
          "2025-03-29",
          "2025-03-31",
          "2025-04-02",
          "2025-04-03",
          "2025-04-04",
          "2025-04-05",
          "2025-04-06",
          "2025-04-07",
          "2025-04-08",
          "2025-04-09",
          "2025-04-10",
          "2025-04-11",
          "2025-04-12",
          "2025-04-13",
          "2025-04-14",
          "2025-04-15",
          "2025-04-16",
          "2025-04-17",
          "2025-04-18",
          "2025-04-19",
          "2025-04-20",
          "2025-04-21",
          "2025-04-22",
          "2025-04-23",
          "2025-04-24",
          "2025-04-25",
          "2025-04-26",
          "2025-04-27",
          "2025-04-28",
          "2025-04-29",
          "2025-04-30"
         ],
         "xaxis": "x3",
         "y": {
          "bdata": "AAAAAAAAAAAAAAAAAAAAAAAAAAAAAAAAAAAAAAAAAAAAAAAAAAAAAAAAAAAAAAAAAAAAAAAAAAAAAAAAAAAAAAAAAAAAAAAAAAAAAAAAAAAAAAAAAAAAAAAAAAAAAAAAAAAAAAAAAAAAAAAAAAAAAAAAAAAAAAAAAAAAAAAAAAAAAAAAAAAAAAAAAAAAAAAAAAAAAAAAAAAAAAAAAAAAAAAAAAAAwEJAAAAAAAAAOUBWVVVVVdVEQAAAAAAAAFlAAAAAAAAAWUCqqqqqqqpQQAAAAAAAAAAAAAAAAADAUkAAAAAAAAAAAAAAAAAAAFRAAAAAAAAANEDbtm3btm1VQAAAAAAAAFlAJEmSJEmSLEDbtm3btm1VQAAAAAAAAFRAuuiiiy66VkAAAAAAAABZQAAAAAAAwFJAL7rooosuUkBWVVVVVdVUQLdt27Zt21FAqqqqqqqqUEAAAAAAAABZQAAAAAAAAElAAAAAAAAASUByHMdxHMdLQAAAAAAAAAAAAAAAAAAAWUAAAAAAAABZQFZVVVVV1VRAAAAAAAAAWUAAAAAAAMBSQAAAAAAAwFJAAAAAAAAASUCqqqqqqqpQQFZVVVVV1VRAAAAAAAAAWUAAAAAAAABZQAAAAAAAAFlAAAAAAAAAWUAAAAAAAABZQAAAAAAAAFlAAAAAAAAAWUAAAAAAAAAAAKqqqqqqqlBAAAAAAAAAWUAkSZIkSZJMQHXRRRdddFRAAAAAAADAUkAAAAAAAEBPQAAAAAAAAFlAAAAAAAAAWUAAAAAAAABZQKqqqqqqqlBAAAAAAAAAWUAAAAAAAABZQKqqqqqqqlBAJEmSJEmSPEAAAAAAAABJQAAAAAAAwFJAdmIndmInVUAAAAAAAAA0QKqqqqqqqlBAqqqqqqqqUEAAAAAAAABUQI7jOI7jOFZA27Zt27ZtRUA=",
          "dtype": "f8"
         },
         "yaxis": "y3"
        },
        {
         "hovertemplate": "Make=TOYOTA<br>InquiryDate=%{x}<br>value=%{y}<extra></extra>",
         "legendgroup": "TOYOTA",
         "line": {
          "color": "#ab63fa",
          "dash": "solid"
         },
         "marker": {
          "symbol": "circle"
         },
         "mode": "lines",
         "name": "TOYOTA",
         "showlegend": true,
         "type": "scattergl",
         "x": [
          "2024-12-31",
          "2025-01-08",
          "2025-01-10",
          "2025-01-13",
          "2025-01-14",
          "2025-01-18",
          "2025-01-22",
          "2025-01-26",
          "2025-01-27",
          "2025-01-28",
          "2025-01-29",
          "2025-01-30",
          "2025-02-03",
          "2025-02-04",
          "2025-02-05",
          "2025-02-08",
          "2025-02-10",
          "2025-02-12",
          "2025-02-14",
          "2025-02-15",
          "2025-02-17",
          "2025-02-18",
          "2025-02-19",
          "2025-02-20",
          "2025-02-21",
          "2025-02-22",
          "2025-02-23",
          "2025-02-24",
          "2025-02-25",
          "2025-02-26",
          "2025-02-27",
          "2025-02-28",
          "2025-03-01",
          "2025-03-03",
          "2025-03-04",
          "2025-03-05",
          "2025-03-06",
          "2025-03-07",
          "2025-03-09",
          "2025-03-10",
          "2025-03-11",
          "2025-03-12",
          "2025-03-13",
          "2025-03-14",
          "2025-03-15",
          "2025-03-16",
          "2025-03-17",
          "2025-03-18",
          "2025-03-19",
          "2025-03-20",
          "2025-03-21",
          "2025-03-22",
          "2025-03-24",
          "2025-03-25",
          "2025-03-26",
          "2025-03-27",
          "2025-03-28",
          "2025-03-29",
          "2025-03-31",
          "2025-04-02",
          "2025-04-03",
          "2025-04-04",
          "2025-04-05",
          "2025-04-06",
          "2025-04-07",
          "2025-04-08",
          "2025-04-09",
          "2025-04-10",
          "2025-04-11",
          "2025-04-12",
          "2025-04-13",
          "2025-04-14",
          "2025-04-15",
          "2025-04-16",
          "2025-04-17",
          "2025-04-18",
          "2025-04-19",
          "2025-04-20",
          "2025-04-21",
          "2025-04-22",
          "2025-04-23",
          "2025-04-24",
          "2025-04-25",
          "2025-04-26",
          "2025-04-27",
          "2025-04-28",
          "2025-04-29",
          "2025-04-30"
         ],
         "xaxis": "x2",
         "y": {
          "bdata": "AAAAAAAAWUAAAAAAAAAAAAAAAAAAAAAAAAAAAAAAWUAAAAAAAABZQAAAAAAAAFlAAAAAAAAAWUAAAAAAAAAAAAAAAAAAAFlAAAAAAAAAWUAAAAAAAAAAAAAAAAAAAFlAqqqqqqqqUEAAAAAAAABJQAAAAAAAAE5AAAAAAAAAWUAAAAAAAABJQAAAAAAAAElAAAAAAAAAWUAAAAAAAABZQAAAAAAAAAAAAAAAAAAAAACqqqqqqqowQAAAAAAAAAAAAAAAAAAAAAAAAAAAAAAAAKqqqqqqqlBAAAAAAAAAAAAAAAAAAAA5QAAAAAAAAAAAAAAAAAAAREAkSZIkSZIsQAAAAAAAAAAAAAAAAAAAAAAkSZIkSZIsQAAAAAAAADRAAAAAAAAAAAAAAAAAAAAAAAAAAAAAAAAAL7rooosuMkAAAAAAAAAAACRJkiRJkjxAAAAAAAAAAAAAAAAAAAAAAAAAAAAAAElAAAAAAAAAAACqqqqqqqpAQKqqqqqqqlBAAAAAAAAAAAAAAAAAAAAAAAAAAAAAAAAAAAAAAAAAAAAAAAAAAAAAAAAAAAAAAAAAAAAAAAAAAAAAAAAAAAAAAAAAAAAAAAAAAAAAAAAAAAAAAAAAAAAAAAAAAAAAAAAAAAAAAAAAAAAAAAAAAAAAAAAAAAAAAAAAAAAAAAAAAAAAAAAAAAAAAI7jOI7jOCZAAAAAAAAAAAAAAAAAAAAAAAAAAAAAAAAAAAAAAAAAAAAAAAAAAAAAAAAAAAAAAAAAAAAAAAAAAAAAAAAAAAAAAKqqqqqqqkBAAAAAAAAAAAAAAAAAAAAAAKqqqqqqqkBAAAAAAAAAAAAAAAAAAAAAAAAAAAAAAAAAT+zETuzEHkAAAAAAAABUQAAAAAAAAAAAqqqqqqqqQECrqqqqqqoqQI7jOI7jOBZA27Zt27ZtRUA=",
          "dtype": "f8"
         },
         "yaxis": "y2"
        },
        {
         "hovertemplate": "Make=VOLKSWAGEN<br>InquiryDate=%{x}<br>value=%{y}<extra></extra>",
         "legendgroup": "VOLKSWAGEN",
         "line": {
          "color": "#FFA15A",
          "dash": "solid"
         },
         "marker": {
          "symbol": "circle"
         },
         "mode": "lines",
         "name": "VOLKSWAGEN",
         "showlegend": true,
         "type": "scattergl",
         "x": [
          "2024-12-31",
          "2025-01-08",
          "2025-01-10",
          "2025-01-13",
          "2025-01-14",
          "2025-01-18",
          "2025-01-22",
          "2025-01-26",
          "2025-01-27",
          "2025-01-28",
          "2025-01-29",
          "2025-01-30",
          "2025-02-03",
          "2025-02-04",
          "2025-02-05",
          "2025-02-08",
          "2025-02-10",
          "2025-02-12",
          "2025-02-14",
          "2025-02-15",
          "2025-02-17",
          "2025-02-18",
          "2025-02-19",
          "2025-02-20",
          "2025-02-21",
          "2025-02-22",
          "2025-02-23",
          "2025-02-24",
          "2025-02-25",
          "2025-02-26",
          "2025-02-27",
          "2025-02-28",
          "2025-03-01",
          "2025-03-03",
          "2025-03-04",
          "2025-03-05",
          "2025-03-06",
          "2025-03-07",
          "2025-03-09",
          "2025-03-10",
          "2025-03-11",
          "2025-03-12",
          "2025-03-13",
          "2025-03-14",
          "2025-03-15",
          "2025-03-16",
          "2025-03-17",
          "2025-03-18",
          "2025-03-19",
          "2025-03-20",
          "2025-03-21",
          "2025-03-22",
          "2025-03-24",
          "2025-03-25",
          "2025-03-26",
          "2025-03-27",
          "2025-03-28",
          "2025-03-29",
          "2025-03-31",
          "2025-04-02",
          "2025-04-03",
          "2025-04-04",
          "2025-04-05",
          "2025-04-06",
          "2025-04-07",
          "2025-04-08",
          "2025-04-09",
          "2025-04-10",
          "2025-04-11",
          "2025-04-12",
          "2025-04-13",
          "2025-04-14",
          "2025-04-15",
          "2025-04-16",
          "2025-04-17",
          "2025-04-18",
          "2025-04-19",
          "2025-04-20",
          "2025-04-21",
          "2025-04-22",
          "2025-04-23",
          "2025-04-24",
          "2025-04-25",
          "2025-04-26",
          "2025-04-27",
          "2025-04-28",
          "2025-04-29",
          "2025-04-30"
         ],
         "xaxis": "x",
         "y": {
          "bdata": "AAAAAAAAAAAAAAAAAAAAAAAAAAAAAAAAAAAAAAAAAAAAAAAAAAAAAAAAAAAAAAAAAAAAAAAAAAAAAAAAAAAAAAAAAAAAAAAAAAAAAAAAAAAAAAAAAAAAAAAAAAAAAAAAAAAAAAAAAAAAAAAAAAAAAAAAAAAAAAAAAAAAAAAAAAAAAAAAAAAAAAAAAAAAAAAAAAAAAAAAAAAAAAAAAAAAAAAAAAAAwEJAAAAAAAAAOUAAAAAAAAAAAAAAAAAAAAAAAAAAAAAAAAAAAAAAAAAAAKqqqqqqqkBAAAAAAAAAAAAAAAAAAAAAAAAAAAAAAAAAAAAAAAAAAAAAAAAAAAAAAAAAAAAAAAAAJEmSJEmSLEAAAAAAAAAAAAAAAAAAAAAAL7rooosuIkAAAAAAAAAAAAAAAAAAAAAAAAAAAAAAAAAAAAAAAAAAAAAAAAAAAAAAAAAAAAAAAAAAAAAAAAAAAAAAAAAAAAAAAAAAAAAAAACO4ziO4zgmQAAAAAAAAAAAAAAAAAAAAAAAAAAAAAAAAAAAAAAAAAAAAAAAAAAAAACqqqqqqqogQAAAAAAAAClAAAAAAAAAAACqqqqqqqowQKqqqqqqqjBAAAAAAAAAAAAAAAAAAAAAAAAAAAAAAAAAAAAAAAAAAAAAAAAAAAAAAAAAAAAAAAAAAAAAAAAAAAAAAAAAAAAAAAAAAAAAAAAAAAAAAAAAAAAkSZIkSZIsQAAAAAAAAAAAAAAAAAAAAAAAAAAAAAAAAAAAAAAAAAAAAAAAAAAAAAAAAAAAAAAAAAAAAAAAAAAAAAAAAAAAAAAAAAAAAAAAAAAAAAAAAAAAJEmSJEmSPEAAAAAAAAAAAAAAAAAAAAAAAAAAAAAAAAAAAAAAAAAAAAAAAAAAAAAAAAAAAAAAAAAAAAAAAAAAAAAAAAAAAAAAAAAAAAAAAAA=",
          "dtype": "f8"
         },
         "yaxis": "y"
        }
       ],
       "layout": {
        "annotations": [],
        "legend": {
         "title": {
          "text": "Make"
         },
         "tracegroupgap": 0
        },
        "margin": {
         "b": 10,
         "l": 10,
         "r": 10,
         "t": 10
        },
        "plot_bgcolor": "white",
        "showlegend": true,
        "template": {
         "data": {
          "bar": [
           {
            "error_x": {
             "color": "#2a3f5f"
            },
            "error_y": {
             "color": "#2a3f5f"
            },
            "marker": {
             "line": {
              "color": "#E5ECF6",
              "width": 0.5
             },
             "pattern": {
              "fillmode": "overlay",
              "size": 10,
              "solidity": 0.2
             }
            },
            "type": "bar"
           }
          ],
          "barpolar": [
           {
            "marker": {
             "line": {
              "color": "#E5ECF6",
              "width": 0.5
             },
             "pattern": {
              "fillmode": "overlay",
              "size": 10,
              "solidity": 0.2
             }
            },
            "type": "barpolar"
           }
          ],
          "carpet": [
           {
            "aaxis": {
             "endlinecolor": "#2a3f5f",
             "gridcolor": "white",
             "linecolor": "white",
             "minorgridcolor": "white",
             "startlinecolor": "#2a3f5f"
            },
            "baxis": {
             "endlinecolor": "#2a3f5f",
             "gridcolor": "white",
             "linecolor": "white",
             "minorgridcolor": "white",
             "startlinecolor": "#2a3f5f"
            },
            "type": "carpet"
           }
          ],
          "choropleth": [
           {
            "colorbar": {
             "outlinewidth": 0,
             "ticks": ""
            },
            "type": "choropleth"
           }
          ],
          "contour": [
           {
            "colorbar": {
             "outlinewidth": 0,
             "ticks": ""
            },
            "colorscale": [
             [
              0,
              "#0d0887"
             ],
             [
              0.1111111111111111,
              "#46039f"
             ],
             [
              0.2222222222222222,
              "#7201a8"
             ],
             [
              0.3333333333333333,
              "#9c179e"
             ],
             [
              0.4444444444444444,
              "#bd3786"
             ],
             [
              0.5555555555555556,
              "#d8576b"
             ],
             [
              0.6666666666666666,
              "#ed7953"
             ],
             [
              0.7777777777777778,
              "#fb9f3a"
             ],
             [
              0.8888888888888888,
              "#fdca26"
             ],
             [
              1,
              "#f0f921"
             ]
            ],
            "type": "contour"
           }
          ],
          "contourcarpet": [
           {
            "colorbar": {
             "outlinewidth": 0,
             "ticks": ""
            },
            "type": "contourcarpet"
           }
          ],
          "heatmap": [
           {
            "colorbar": {
             "outlinewidth": 0,
             "ticks": ""
            },
            "colorscale": [
             [
              0,
              "#0d0887"
             ],
             [
              0.1111111111111111,
              "#46039f"
             ],
             [
              0.2222222222222222,
              "#7201a8"
             ],
             [
              0.3333333333333333,
              "#9c179e"
             ],
             [
              0.4444444444444444,
              "#bd3786"
             ],
             [
              0.5555555555555556,
              "#d8576b"
             ],
             [
              0.6666666666666666,
              "#ed7953"
             ],
             [
              0.7777777777777778,
              "#fb9f3a"
             ],
             [
              0.8888888888888888,
              "#fdca26"
             ],
             [
              1,
              "#f0f921"
             ]
            ],
            "type": "heatmap"
           }
          ],
          "histogram": [
           {
            "marker": {
             "pattern": {
              "fillmode": "overlay",
              "size": 10,
              "solidity": 0.2
             }
            },
            "type": "histogram"
           }
          ],
          "histogram2d": [
           {
            "colorbar": {
             "outlinewidth": 0,
             "ticks": ""
            },
            "colorscale": [
             [
              0,
              "#0d0887"
             ],
             [
              0.1111111111111111,
              "#46039f"
             ],
             [
              0.2222222222222222,
              "#7201a8"
             ],
             [
              0.3333333333333333,
              "#9c179e"
             ],
             [
              0.4444444444444444,
              "#bd3786"
             ],
             [
              0.5555555555555556,
              "#d8576b"
             ],
             [
              0.6666666666666666,
              "#ed7953"
             ],
             [
              0.7777777777777778,
              "#fb9f3a"
             ],
             [
              0.8888888888888888,
              "#fdca26"
             ],
             [
              1,
              "#f0f921"
             ]
            ],
            "type": "histogram2d"
           }
          ],
          "histogram2dcontour": [
           {
            "colorbar": {
             "outlinewidth": 0,
             "ticks": ""
            },
            "colorscale": [
             [
              0,
              "#0d0887"
             ],
             [
              0.1111111111111111,
              "#46039f"
             ],
             [
              0.2222222222222222,
              "#7201a8"
             ],
             [
              0.3333333333333333,
              "#9c179e"
             ],
             [
              0.4444444444444444,
              "#bd3786"
             ],
             [
              0.5555555555555556,
              "#d8576b"
             ],
             [
              0.6666666666666666,
              "#ed7953"
             ],
             [
              0.7777777777777778,
              "#fb9f3a"
             ],
             [
              0.8888888888888888,
              "#fdca26"
             ],
             [
              1,
              "#f0f921"
             ]
            ],
            "type": "histogram2dcontour"
           }
          ],
          "mesh3d": [
           {
            "colorbar": {
             "outlinewidth": 0,
             "ticks": ""
            },
            "type": "mesh3d"
           }
          ],
          "parcoords": [
           {
            "line": {
             "colorbar": {
              "outlinewidth": 0,
              "ticks": ""
             }
            },
            "type": "parcoords"
           }
          ],
          "pie": [
           {
            "automargin": true,
            "type": "pie"
           }
          ],
          "scatter": [
           {
            "fillpattern": {
             "fillmode": "overlay",
             "size": 10,
             "solidity": 0.2
            },
            "type": "scatter"
           }
          ],
          "scatter3d": [
           {
            "line": {
             "colorbar": {
              "outlinewidth": 0,
              "ticks": ""
             }
            },
            "marker": {
             "colorbar": {
              "outlinewidth": 0,
              "ticks": ""
             }
            },
            "type": "scatter3d"
           }
          ],
          "scattercarpet": [
           {
            "marker": {
             "colorbar": {
              "outlinewidth": 0,
              "ticks": ""
             }
            },
            "type": "scattercarpet"
           }
          ],
          "scattergeo": [
           {
            "marker": {
             "colorbar": {
              "outlinewidth": 0,
              "ticks": ""
             }
            },
            "type": "scattergeo"
           }
          ],
          "scattergl": [
           {
            "marker": {
             "colorbar": {
              "outlinewidth": 0,
              "ticks": ""
             }
            },
            "type": "scattergl"
           }
          ],
          "scattermap": [
           {
            "marker": {
             "colorbar": {
              "outlinewidth": 0,
              "ticks": ""
             }
            },
            "type": "scattermap"
           }
          ],
          "scattermapbox": [
           {
            "marker": {
             "colorbar": {
              "outlinewidth": 0,
              "ticks": ""
             }
            },
            "type": "scattermapbox"
           }
          ],
          "scatterpolar": [
           {
            "marker": {
             "colorbar": {
              "outlinewidth": 0,
              "ticks": ""
             }
            },
            "type": "scatterpolar"
           }
          ],
          "scatterpolargl": [
           {
            "marker": {
             "colorbar": {
              "outlinewidth": 0,
              "ticks": ""
             }
            },
            "type": "scatterpolargl"
           }
          ],
          "scatterternary": [
           {
            "marker": {
             "colorbar": {
              "outlinewidth": 0,
              "ticks": ""
             }
            },
            "type": "scatterternary"
           }
          ],
          "surface": [
           {
            "colorbar": {
             "outlinewidth": 0,
             "ticks": ""
            },
            "colorscale": [
             [
              0,
              "#0d0887"
             ],
             [
              0.1111111111111111,
              "#46039f"
             ],
             [
              0.2222222222222222,
              "#7201a8"
             ],
             [
              0.3333333333333333,
              "#9c179e"
             ],
             [
              0.4444444444444444,
              "#bd3786"
             ],
             [
              0.5555555555555556,
              "#d8576b"
             ],
             [
              0.6666666666666666,
              "#ed7953"
             ],
             [
              0.7777777777777778,
              "#fb9f3a"
             ],
             [
              0.8888888888888888,
              "#fdca26"
             ],
             [
              1,
              "#f0f921"
             ]
            ],
            "type": "surface"
           }
          ],
          "table": [
           {
            "cells": {
             "fill": {
              "color": "#EBF0F8"
             },
             "line": {
              "color": "white"
             }
            },
            "header": {
             "fill": {
              "color": "#C8D4E3"
             },
             "line": {
              "color": "white"
             }
            },
            "type": "table"
           }
          ]
         },
         "layout": {
          "annotationdefaults": {
           "arrowcolor": "#2a3f5f",
           "arrowhead": 0,
           "arrowwidth": 1
          },
          "autotypenumbers": "strict",
          "coloraxis": {
           "colorbar": {
            "outlinewidth": 0,
            "ticks": ""
           }
          },
          "colorscale": {
           "diverging": [
            [
             0,
             "#8e0152"
            ],
            [
             0.1,
             "#c51b7d"
            ],
            [
             0.2,
             "#de77ae"
            ],
            [
             0.3,
             "#f1b6da"
            ],
            [
             0.4,
             "#fde0ef"
            ],
            [
             0.5,
             "#f7f7f7"
            ],
            [
             0.6,
             "#e6f5d0"
            ],
            [
             0.7,
             "#b8e186"
            ],
            [
             0.8,
             "#7fbc41"
            ],
            [
             0.9,
             "#4d9221"
            ],
            [
             1,
             "#276419"
            ]
           ],
           "sequential": [
            [
             0,
             "#0d0887"
            ],
            [
             0.1111111111111111,
             "#46039f"
            ],
            [
             0.2222222222222222,
             "#7201a8"
            ],
            [
             0.3333333333333333,
             "#9c179e"
            ],
            [
             0.4444444444444444,
             "#bd3786"
            ],
            [
             0.5555555555555556,
             "#d8576b"
            ],
            [
             0.6666666666666666,
             "#ed7953"
            ],
            [
             0.7777777777777778,
             "#fb9f3a"
            ],
            [
             0.8888888888888888,
             "#fdca26"
            ],
            [
             1,
             "#f0f921"
            ]
           ],
           "sequentialminus": [
            [
             0,
             "#0d0887"
            ],
            [
             0.1111111111111111,
             "#46039f"
            ],
            [
             0.2222222222222222,
             "#7201a8"
            ],
            [
             0.3333333333333333,
             "#9c179e"
            ],
            [
             0.4444444444444444,
             "#bd3786"
            ],
            [
             0.5555555555555556,
             "#d8576b"
            ],
            [
             0.6666666666666666,
             "#ed7953"
            ],
            [
             0.7777777777777778,
             "#fb9f3a"
            ],
            [
             0.8888888888888888,
             "#fdca26"
            ],
            [
             1,
             "#f0f921"
            ]
           ]
          },
          "colorway": [
           "#636efa",
           "#EF553B",
           "#00cc96",
           "#ab63fa",
           "#FFA15A",
           "#19d3f3",
           "#FF6692",
           "#B6E880",
           "#FF97FF",
           "#FECB52"
          ],
          "font": {
           "color": "#2a3f5f"
          },
          "geo": {
           "bgcolor": "white",
           "lakecolor": "white",
           "landcolor": "#E5ECF6",
           "showlakes": true,
           "showland": true,
           "subunitcolor": "white"
          },
          "hoverlabel": {
           "align": "left"
          },
          "hovermode": "closest",
          "mapbox": {
           "style": "light"
          },
          "paper_bgcolor": "white",
          "plot_bgcolor": "#E5ECF6",
          "polar": {
           "angularaxis": {
            "gridcolor": "white",
            "linecolor": "white",
            "ticks": ""
           },
           "bgcolor": "#E5ECF6",
           "radialaxis": {
            "gridcolor": "white",
            "linecolor": "white",
            "ticks": ""
           }
          },
          "scene": {
           "xaxis": {
            "backgroundcolor": "#E5ECF6",
            "gridcolor": "white",
            "gridwidth": 2,
            "linecolor": "white",
            "showbackground": true,
            "ticks": "",
            "zerolinecolor": "white"
           },
           "yaxis": {
            "backgroundcolor": "#E5ECF6",
            "gridcolor": "white",
            "gridwidth": 2,
            "linecolor": "white",
            "showbackground": true,
            "ticks": "",
            "zerolinecolor": "white"
           },
           "zaxis": {
            "backgroundcolor": "#E5ECF6",
            "gridcolor": "white",
            "gridwidth": 2,
            "linecolor": "white",
            "showbackground": true,
            "ticks": "",
            "zerolinecolor": "white"
           }
          },
          "shapedefaults": {
           "line": {
            "color": "#2a3f5f"
           }
          },
          "ternary": {
           "aaxis": {
            "gridcolor": "white",
            "linecolor": "white",
            "ticks": ""
           },
           "baxis": {
            "gridcolor": "white",
            "linecolor": "white",
            "ticks": ""
           },
           "bgcolor": "#E5ECF6",
           "caxis": {
            "gridcolor": "white",
            "linecolor": "white",
            "ticks": ""
           }
          },
          "title": {
           "x": 0.05
          },
          "xaxis": {
           "automargin": true,
           "gridcolor": "white",
           "linecolor": "white",
           "ticks": "",
           "title": {
            "standoff": 15
           },
           "zerolinecolor": "white",
           "zerolinewidth": 2
          },
          "yaxis": {
           "automargin": true,
           "gridcolor": "white",
           "linecolor": "white",
           "ticks": "",
           "title": {
            "standoff": 15
           },
           "zerolinecolor": "white",
           "zerolinewidth": 2
          }
         }
        },
        "xaxis": {
         "anchor": "y",
         "domain": [
          0,
          0.98
         ],
         "title": {
          "text": "InquiryDate"
         }
        },
        "xaxis10": {
         "anchor": "y10",
         "domain": [
          0,
          0.98
         ],
         "matches": "x",
         "showticklabels": false
        },
        "xaxis11": {
         "anchor": "y11",
         "domain": [
          0,
          0.98
         ],
         "matches": "x",
         "showticklabels": false
        },
        "xaxis12": {
         "anchor": "y12",
         "domain": [
          0,
          0.98
         ],
         "matches": "x",
         "showticklabels": false
        },
        "xaxis13": {
         "anchor": "y13",
         "domain": [
          0,
          0.98
         ],
         "matches": "x",
         "showticklabels": false
        },
        "xaxis14": {
         "anchor": "y14",
         "domain": [
          0,
          0.98
         ],
         "matches": "x",
         "showticklabels": false
        },
        "xaxis15": {
         "anchor": "y15",
         "domain": [
          0,
          0.98
         ],
         "matches": "x",
         "showticklabels": false
        },
        "xaxis2": {
         "anchor": "y2",
         "domain": [
          0,
          0.98
         ],
         "matches": "x",
         "showticklabels": false
        },
        "xaxis3": {
         "anchor": "y3",
         "domain": [
          0,
          0.98
         ],
         "matches": "x",
         "showticklabels": false
        },
        "xaxis4": {
         "anchor": "y4",
         "domain": [
          0,
          0.98
         ],
         "matches": "x",
         "showticklabels": false
        },
        "xaxis5": {
         "anchor": "y5",
         "domain": [
          0,
          0.98
         ],
         "matches": "x",
         "showticklabels": false
        },
        "xaxis6": {
         "anchor": "y6",
         "domain": [
          0,
          0.98
         ],
         "matches": "x",
         "showticklabels": false
        },
        "xaxis7": {
         "anchor": "y7",
         "domain": [
          0,
          0.98
         ],
         "matches": "x",
         "showticklabels": false
        },
        "xaxis8": {
         "anchor": "y8",
         "domain": [
          0,
          0.98
         ],
         "matches": "x",
         "showticklabels": false
        },
        "xaxis9": {
         "anchor": "y9",
         "domain": [
          0,
          0.98
         ],
         "matches": "x",
         "showticklabels": false
        },
        "yaxis": {
         "anchor": "x",
         "domain": [
          0,
          0.019999999999999997
         ],
         "fixedrange": true,
         "title": {
          "text": "value"
         },
         "visible": false
        },
        "yaxis10": {
         "anchor": "x10",
         "domain": [
          0.63,
          0.65
         ],
         "fixedrange": true,
         "matches": "y",
         "title": {
          "text": "value"
         },
         "visible": false
        },
        "yaxis11": {
         "anchor": "x11",
         "domain": [
          0.7,
          0.72
         ],
         "fixedrange": true,
         "matches": "y",
         "title": {
          "text": "value"
         },
         "visible": false
        },
        "yaxis12": {
         "anchor": "x12",
         "domain": [
          0.77,
          0.79
         ],
         "fixedrange": true,
         "matches": "y",
         "title": {
          "text": "value"
         },
         "visible": false
        },
        "yaxis13": {
         "anchor": "x13",
         "domain": [
          0.8400000000000001,
          0.8600000000000001
         ],
         "fixedrange": true,
         "matches": "y",
         "title": {
          "text": "value"
         },
         "visible": false
        },
        "yaxis14": {
         "anchor": "x14",
         "domain": [
          0.9099999999999999,
          0.9299999999999999
         ],
         "fixedrange": true,
         "matches": "y",
         "title": {
          "text": "value"
         },
         "visible": false
        },
        "yaxis15": {
         "anchor": "x15",
         "domain": [
          0.98,
          1
         ],
         "fixedrange": true,
         "matches": "y",
         "title": {
          "text": "value"
         },
         "visible": false
        },
        "yaxis2": {
         "anchor": "x2",
         "domain": [
          0.07,
          0.09
         ],
         "fixedrange": true,
         "matches": "y",
         "title": {
          "text": "value"
         },
         "visible": false
        },
        "yaxis3": {
         "anchor": "x3",
         "domain": [
          0.14,
          0.16
         ],
         "fixedrange": true,
         "matches": "y",
         "title": {
          "text": "value"
         },
         "visible": false
        },
        "yaxis4": {
         "anchor": "x4",
         "domain": [
          0.21000000000000002,
          0.23
         ],
         "fixedrange": true,
         "matches": "y",
         "title": {
          "text": "value"
         },
         "visible": false
        },
        "yaxis5": {
         "anchor": "x5",
         "domain": [
          0.28,
          0.30000000000000004
         ],
         "fixedrange": true,
         "matches": "y",
         "title": {
          "text": "value"
         },
         "visible": false
        },
        "yaxis6": {
         "anchor": "x6",
         "domain": [
          0.35,
          0.37
         ],
         "fixedrange": true,
         "matches": "y",
         "title": {
          "text": "value"
         },
         "visible": false
        },
        "yaxis7": {
         "anchor": "x7",
         "domain": [
          0.42000000000000004,
          0.44000000000000006
         ],
         "fixedrange": true,
         "matches": "y",
         "title": {
          "text": "value"
         },
         "visible": false
        },
        "yaxis8": {
         "anchor": "x8",
         "domain": [
          0.49,
          0.51
         ],
         "fixedrange": true,
         "matches": "y",
         "title": {
          "text": "value"
         },
         "visible": false
        },
        "yaxis9": {
         "anchor": "x9",
         "domain": [
          0.56,
          0.5800000000000001
         ],
         "fixedrange": true,
         "matches": "y",
         "title": {
          "text": "value"
         },
         "visible": false
        }
       }
      }
     },
     "metadata": {},
     "output_type": "display_data"
    }
   ],
   "source": [
    "fig = px.line(\n",
    "    make_date_pivot_row_norm,\n",
    "    facet_row='Make',\n",
    "    facet_row_spacing=0.05,\n",
    ")\n",
    "\n",
    "# hide and lock down axes\n",
    "# fig.update_xaxes(visible=False, fixedrange=True)\n",
    "fig.update_yaxes(visible=False, fixedrange=True)\n",
    "\n",
    "# remove facet/subplot labels\n",
    "fig.update_layout(annotations=[], overwrite=True)\n",
    "\n",
    "# strip down the rest of the plot\n",
    "fig.update_layout(\n",
    "    showlegend=True,\n",
    "    plot_bgcolor=\"white\",\n",
    "    margin=dict(t=10,l=10,b=10,r=10)\n",
    ")\n",
    "\n",
    "fig.show()\n",
    "\n"
   ]
  },
  {
   "cell_type": "code",
   "execution_count": 317,
   "metadata": {},
   "outputs": [
    {
     "name": "stdout",
     "output_type": "stream",
     "text": [
      "<class 'pandas.core.frame.DataFrame'>\n",
      "Index: 99986 entries, 5354042 to 2985880\n",
      "Data columns (total 15 columns):\n",
      " #   Column        Non-Null Count  Dtype  \n",
      "---  ------        --------------  -----  \n",
      " 0   VIN           99986 non-null  object \n",
      " 1   Make          99986 non-null  object \n",
      " 2   Model         99986 non-null  object \n",
      " 3   CompanyName   99986 non-null  object \n",
      " 4   ModelYear     99986 non-null  int64  \n",
      " 5   Trim          99986 non-null  object \n",
      " 6   EngineSize    99986 non-null  float64\n",
      " 7   Transmission  99986 non-null  object \n",
      " 8   InquiryDate   99986 non-null  object \n",
      " 9   Region        99986 non-null  object \n",
      " 10  Colour        99986 non-null  object \n",
      " 11  FuelType      99986 non-null  object \n",
      " 12  BodyType      99986 non-null  object \n",
      " 13  Country       99986 non-null  object \n",
      " 14  IsEV          99986 non-null  bool   \n",
      "dtypes: bool(1), float64(1), int64(1), object(12)\n",
      "memory usage: 11.5+ MB\n"
     ]
    }
   ],
   "source": [
    "vs_sample.info()"
   ]
  },
  {
   "cell_type": "markdown",
   "metadata": {},
   "source": [
    "### Forecasting\n"
   ]
  },
  {
   "cell_type": "code",
   "execution_count": 12,
   "metadata": {},
   "outputs": [],
   "source": [
    "vs_sample['InquiryDate'] = pd.to_datetime(vs_sample['InquiryDate'], errors='coerce')\n"
   ]
  },
  {
   "cell_type": "code",
   "execution_count": 13,
   "metadata": {},
   "outputs": [],
   "source": [
    "from datetime import datetime, timedelta\n",
    "min_date = vs_sample['InquiryDate'].min()\n",
    "max_date = vs_sample['InquiryDate'].max()\n",
    "\n",
    "days_diff = (max_date - min_date).days\n",
    "\n",
    "interval = round(0.8 * days_diff) \n",
    "interval = timedelta(days=interval) + min_date\n"
   ]
  },
  {
   "cell_type": "code",
   "execution_count": 14,
   "metadata": {},
   "outputs": [],
   "source": [
    "vs_sample['interval'] = 'last'\n",
    "vs_sample.loc[vs_sample['InquiryDate'] >= interval, 'interval'] = 'current'\n"
   ]
  },
  {
   "cell_type": "code",
   "execution_count": 15,
   "metadata": {},
   "outputs": [],
   "source": [
    "interval_totals = vs_sample.groupby('interval').size().reset_index(name='count')\n"
   ]
  },
  {
   "cell_type": "code",
   "execution_count": 16,
   "metadata": {},
   "outputs": [
    {
     "data": {
      "text/html": [
       "<div>\n",
       "<style scoped>\n",
       "    .dataframe tbody tr th:only-of-type {\n",
       "        vertical-align: middle;\n",
       "    }\n",
       "\n",
       "    .dataframe tbody tr th {\n",
       "        vertical-align: top;\n",
       "    }\n",
       "\n",
       "    .dataframe thead th {\n",
       "        text-align: right;\n",
       "    }\n",
       "</style>\n",
       "<table border=\"1\" class=\"dataframe\">\n",
       "  <thead>\n",
       "    <tr style=\"text-align: right;\">\n",
       "      <th></th>\n",
       "      <th>interval</th>\n",
       "      <th>count</th>\n",
       "    </tr>\n",
       "  </thead>\n",
       "  <tbody>\n",
       "    <tr>\n",
       "      <th>0</th>\n",
       "      <td>current</td>\n",
       "      <td>36338</td>\n",
       "    </tr>\n",
       "    <tr>\n",
       "      <th>1</th>\n",
       "      <td>last</td>\n",
       "      <td>63648</td>\n",
       "    </tr>\n",
       "  </tbody>\n",
       "</table>\n",
       "</div>"
      ],
      "text/plain": [
       "  interval  count\n",
       "0  current  36338\n",
       "1     last  63648"
      ]
     },
     "execution_count": 16,
     "metadata": {},
     "output_type": "execute_result"
    }
   ],
   "source": [
    "interval_totals"
   ]
  },
  {
   "cell_type": "code",
   "execution_count": 17,
   "metadata": {},
   "outputs": [
    {
     "data": {
      "text/html": [
       "<div>\n",
       "<style scoped>\n",
       "    .dataframe tbody tr th:only-of-type {\n",
       "        vertical-align: middle;\n",
       "    }\n",
       "\n",
       "    .dataframe tbody tr th {\n",
       "        vertical-align: top;\n",
       "    }\n",
       "\n",
       "    .dataframe thead th {\n",
       "        text-align: right;\n",
       "    }\n",
       "</style>\n",
       "<table border=\"1\" class=\"dataframe\">\n",
       "  <thead>\n",
       "    <tr style=\"text-align: right;\">\n",
       "      <th></th>\n",
       "      <th>Make</th>\n",
       "      <th>interval</th>\n",
       "      <th>count_x</th>\n",
       "      <th>count_y</th>\n",
       "      <th>percentage</th>\n",
       "    </tr>\n",
       "  </thead>\n",
       "  <tbody>\n",
       "    <tr>\n",
       "      <th>0</th>\n",
       "      <td>ALFA ROMEO</td>\n",
       "      <td>current</td>\n",
       "      <td>3</td>\n",
       "      <td>36338</td>\n",
       "      <td>0.008256</td>\n",
       "    </tr>\n",
       "    <tr>\n",
       "      <th>1</th>\n",
       "      <td>ALFA ROMEO</td>\n",
       "      <td>last</td>\n",
       "      <td>6</td>\n",
       "      <td>63648</td>\n",
       "      <td>0.009427</td>\n",
       "    </tr>\n",
       "    <tr>\n",
       "      <th>2</th>\n",
       "      <td>ASHOK LEYLAND</td>\n",
       "      <td>current</td>\n",
       "      <td>4</td>\n",
       "      <td>36338</td>\n",
       "      <td>0.011008</td>\n",
       "    </tr>\n",
       "    <tr>\n",
       "      <th>3</th>\n",
       "      <td>ASHOK LEYLAND</td>\n",
       "      <td>last</td>\n",
       "      <td>17</td>\n",
       "      <td>63648</td>\n",
       "      <td>0.026709</td>\n",
       "    </tr>\n",
       "    <tr>\n",
       "      <th>4</th>\n",
       "      <td>ASTON MARTIN</td>\n",
       "      <td>last</td>\n",
       "      <td>2</td>\n",
       "      <td>63648</td>\n",
       "      <td>0.003142</td>\n",
       "    </tr>\n",
       "    <tr>\n",
       "      <th>...</th>\n",
       "      <td>...</td>\n",
       "      <td>...</td>\n",
       "      <td>...</td>\n",
       "      <td>...</td>\n",
       "      <td>...</td>\n",
       "    </tr>\n",
       "    <tr>\n",
       "      <th>119</th>\n",
       "      <td>VOLKSWAGEN</td>\n",
       "      <td>last</td>\n",
       "      <td>950</td>\n",
       "      <td>63648</td>\n",
       "      <td>1.492584</td>\n",
       "    </tr>\n",
       "    <tr>\n",
       "      <th>120</th>\n",
       "      <td>VOLVO</td>\n",
       "      <td>current</td>\n",
       "      <td>44</td>\n",
       "      <td>36338</td>\n",
       "      <td>0.121085</td>\n",
       "    </tr>\n",
       "    <tr>\n",
       "      <th>121</th>\n",
       "      <td>VOLVO</td>\n",
       "      <td>last</td>\n",
       "      <td>68</td>\n",
       "      <td>63648</td>\n",
       "      <td>0.106838</td>\n",
       "    </tr>\n",
       "    <tr>\n",
       "      <th>122</th>\n",
       "      <td>ZNA</td>\n",
       "      <td>current</td>\n",
       "      <td>14</td>\n",
       "      <td>36338</td>\n",
       "      <td>0.038527</td>\n",
       "    </tr>\n",
       "    <tr>\n",
       "      <th>123</th>\n",
       "      <td>ZNA</td>\n",
       "      <td>last</td>\n",
       "      <td>14</td>\n",
       "      <td>63648</td>\n",
       "      <td>0.021996</td>\n",
       "    </tr>\n",
       "  </tbody>\n",
       "</table>\n",
       "<p>124 rows × 5 columns</p>\n",
       "</div>"
      ],
      "text/plain": [
       "              Make interval  count_x  count_y  percentage\n",
       "0       ALFA ROMEO  current        3    36338    0.008256\n",
       "1       ALFA ROMEO     last        6    63648    0.009427\n",
       "2    ASHOK LEYLAND  current        4    36338    0.011008\n",
       "3    ASHOK LEYLAND     last       17    63648    0.026709\n",
       "4     ASTON MARTIN     last        2    63648    0.003142\n",
       "..             ...      ...      ...      ...         ...\n",
       "119     VOLKSWAGEN     last      950    63648    1.492584\n",
       "120          VOLVO  current       44    36338    0.121085\n",
       "121          VOLVO     last       68    63648    0.106838\n",
       "122            ZNA  current       14    36338    0.038527\n",
       "123            ZNA     last       14    63648    0.021996\n",
       "\n",
       "[124 rows x 5 columns]"
      ]
     },
     "execution_count": 17,
     "metadata": {},
     "output_type": "execute_result"
    }
   ],
   "source": [
    "make_interval_totals = vs_sample.groupby(['Make', 'interval']).size().reset_index(name='count')\n",
    "make_interval_totals = make_interval_totals.merge(interval_totals, on='interval', how='left')\n",
    "make_interval_totals['percentage'] = make_interval_totals['count_x'] / make_interval_totals['count_y']\n",
    "make_interval_totals['percentage'] = make_interval_totals['percentage'] * 100\n",
    "\n",
    "make_interval_totals\n",
    "\n",
    "\n"
   ]
  },
  {
   "cell_type": "code",
   "execution_count": 18,
   "metadata": {},
   "outputs": [],
   "source": [
    "make_interval_totals_ind = make_interval_totals.set_index('Make')\n"
   ]
  },
  {
   "cell_type": "code",
   "execution_count": 19,
   "metadata": {},
   "outputs": [
    {
     "data": {
      "text/html": [
       "<div>\n",
       "<style scoped>\n",
       "    .dataframe tbody tr th:only-of-type {\n",
       "        vertical-align: middle;\n",
       "    }\n",
       "\n",
       "    .dataframe tbody tr th {\n",
       "        vertical-align: top;\n",
       "    }\n",
       "\n",
       "    .dataframe thead th {\n",
       "        text-align: right;\n",
       "    }\n",
       "</style>\n",
       "<table border=\"1\" class=\"dataframe\">\n",
       "  <thead>\n",
       "    <tr style=\"text-align: right;\">\n",
       "      <th></th>\n",
       "      <th>interval</th>\n",
       "      <th>count_x</th>\n",
       "      <th>count_y</th>\n",
       "      <th>percentage</th>\n",
       "    </tr>\n",
       "    <tr>\n",
       "      <th>Make</th>\n",
       "      <th></th>\n",
       "      <th></th>\n",
       "      <th></th>\n",
       "      <th></th>\n",
       "    </tr>\n",
       "  </thead>\n",
       "  <tbody>\n",
       "    <tr>\n",
       "      <th>NISSAN</th>\n",
       "      <td>current</td>\n",
       "      <td>5495</td>\n",
       "      <td>36338</td>\n",
       "      <td>15.121911</td>\n",
       "    </tr>\n",
       "    <tr>\n",
       "      <th>NISSAN</th>\n",
       "      <td>last</td>\n",
       "      <td>12345</td>\n",
       "      <td>63648</td>\n",
       "      <td>19.395739</td>\n",
       "    </tr>\n",
       "  </tbody>\n",
       "</table>\n",
       "</div>"
      ],
      "text/plain": [
       "       interval  count_x  count_y  percentage\n",
       "Make                                         \n",
       "NISSAN  current     5495    36338   15.121911\n",
       "NISSAN     last    12345    63648   19.395739"
      ]
     },
     "execution_count": 19,
     "metadata": {},
     "output_type": "execute_result"
    }
   ],
   "source": [
    "make_interval_totals_ind.loc['NISSAN']\n"
   ]
  },
  {
   "cell_type": "code",
   "execution_count": 358,
   "metadata": {},
   "outputs": [
    {
     "data": {
      "text/html": [
       "<div>\n",
       "<style scoped>\n",
       "    .dataframe tbody tr th:only-of-type {\n",
       "        vertical-align: middle;\n",
       "    }\n",
       "\n",
       "    .dataframe tbody tr th {\n",
       "        vertical-align: top;\n",
       "    }\n",
       "\n",
       "    .dataframe thead th {\n",
       "        text-align: right;\n",
       "    }\n",
       "</style>\n",
       "<table border=\"1\" class=\"dataframe\">\n",
       "  <thead>\n",
       "    <tr style=\"text-align: right;\">\n",
       "      <th>interval</th>\n",
       "      <th>current</th>\n",
       "      <th>last</th>\n",
       "    </tr>\n",
       "    <tr>\n",
       "      <th>Make</th>\n",
       "      <th></th>\n",
       "      <th></th>\n",
       "    </tr>\n",
       "  </thead>\n",
       "  <tbody>\n",
       "    <tr>\n",
       "      <th>ALFA ROMEO</th>\n",
       "      <td>0.008256</td>\n",
       "      <td>0.009427</td>\n",
       "    </tr>\n",
       "    <tr>\n",
       "      <th>ASHOK LEYLAND</th>\n",
       "      <td>0.011008</td>\n",
       "      <td>0.026709</td>\n",
       "    </tr>\n",
       "    <tr>\n",
       "      <th>ASTON MARTIN</th>\n",
       "      <td>0.000000</td>\n",
       "      <td>0.003142</td>\n",
       "    </tr>\n",
       "    <tr>\n",
       "      <th>AUDI</th>\n",
       "      <td>1.131047</td>\n",
       "      <td>1.401458</td>\n",
       "    </tr>\n",
       "    <tr>\n",
       "      <th>BAIC</th>\n",
       "      <td>0.027519</td>\n",
       "      <td>0.023567</td>\n",
       "    </tr>\n",
       "  </tbody>\n",
       "</table>\n",
       "</div>"
      ],
      "text/plain": [
       "interval        current      last\n",
       "Make                             \n",
       "ALFA ROMEO     0.008256  0.009427\n",
       "ASHOK LEYLAND  0.011008  0.026709\n",
       "ASTON MARTIN   0.000000  0.003142\n",
       "AUDI           1.131047  1.401458\n",
       "BAIC           0.027519  0.023567"
      ]
     },
     "execution_count": 358,
     "metadata": {},
     "output_type": "execute_result"
    }
   ],
   "source": [
    "make_interval_totals_pivot = make_interval_totals_ind.pivot_table(index='Make', columns='interval', values='percentage')\n",
    "\n",
    "make_interval_totals_pivot.fillna(0, inplace=True)\n",
    "\n",
    "make_interval_totals_pivot.head()\n",
    "\n",
    "\n"
   ]
  },
  {
   "cell_type": "code",
   "execution_count": 359,
   "metadata": {},
   "outputs": [
    {
     "data": {
      "text/html": [
       "<div>\n",
       "<style scoped>\n",
       "    .dataframe tbody tr th:only-of-type {\n",
       "        vertical-align: middle;\n",
       "    }\n",
       "\n",
       "    .dataframe tbody tr th {\n",
       "        vertical-align: top;\n",
       "    }\n",
       "\n",
       "    .dataframe thead th {\n",
       "        text-align: right;\n",
       "    }\n",
       "</style>\n",
       "<table border=\"1\" class=\"dataframe\">\n",
       "  <thead>\n",
       "    <tr style=\"text-align: right;\">\n",
       "      <th>interval</th>\n",
       "      <th>Make</th>\n",
       "      <th>current</th>\n",
       "      <th>last</th>\n",
       "    </tr>\n",
       "  </thead>\n",
       "  <tbody>\n",
       "    <tr>\n",
       "      <th>0</th>\n",
       "      <td>ALFA ROMEO</td>\n",
       "      <td>0.008256</td>\n",
       "      <td>0.009427</td>\n",
       "    </tr>\n",
       "    <tr>\n",
       "      <th>1</th>\n",
       "      <td>ASHOK LEYLAND</td>\n",
       "      <td>0.011008</td>\n",
       "      <td>0.026709</td>\n",
       "    </tr>\n",
       "    <tr>\n",
       "      <th>2</th>\n",
       "      <td>ASTON MARTIN</td>\n",
       "      <td>0.000000</td>\n",
       "      <td>0.003142</td>\n",
       "    </tr>\n",
       "    <tr>\n",
       "      <th>3</th>\n",
       "      <td>AUDI</td>\n",
       "      <td>1.131047</td>\n",
       "      <td>1.401458</td>\n",
       "    </tr>\n",
       "    <tr>\n",
       "      <th>4</th>\n",
       "      <td>BAIC</td>\n",
       "      <td>0.027519</td>\n",
       "      <td>0.023567</td>\n",
       "    </tr>\n",
       "  </tbody>\n",
       "</table>\n",
       "</div>"
      ],
      "text/plain": [
       "interval           Make   current      last\n",
       "0            ALFA ROMEO  0.008256  0.009427\n",
       "1         ASHOK LEYLAND  0.011008  0.026709\n",
       "2          ASTON MARTIN  0.000000  0.003142\n",
       "3                  AUDI  1.131047  1.401458\n",
       "4                  BAIC  0.027519  0.023567"
      ]
     },
     "execution_count": 359,
     "metadata": {},
     "output_type": "execute_result"
    }
   ],
   "source": [
    "make_interval_totals_pivot.reset_index(inplace=True)\n",
    "make_interval_totals_pivot.head()\n",
    "\n",
    "\n",
    "\n",
    "\n"
   ]
  },
  {
   "cell_type": "code",
   "execution_count": 360,
   "metadata": {},
   "outputs": [],
   "source": [
    "make_interval_totals_pivot['change'] = make_interval_totals_pivot['last'] - make_interval_totals_pivot['current']\n",
    "\n",
    "make_interval_totals_pivot['change'] = make_interval_totals_pivot['change'] / make_interval_totals_pivot['last']\n",
    "\n",
    "make_interval_totals_pivot['change'] = make_interval_totals_pivot['change'] * 100\n",
    "\n",
    "\n"
   ]
  },
  {
   "cell_type": "code",
   "execution_count": 361,
   "metadata": {},
   "outputs": [],
   "source": [
    "gainers = make_interval_totals_pivot[make_interval_totals_pivot['change'] > 0]\n",
    "\n",
    "losers = make_interval_totals_pivot[make_interval_totals_pivot['change'] < 0]\n"
   ]
  },
  {
   "cell_type": "code",
   "execution_count": 1,
   "metadata": {},
   "outputs": [
    {
     "ename": "NameError",
     "evalue": "name 'gainers' is not defined",
     "output_type": "error",
     "traceback": [
      "\u001b[31m---------------------------------------------------------------------------\u001b[39m",
      "\u001b[31mNameError\u001b[39m                                 Traceback (most recent call last)",
      "\u001b[36mCell\u001b[39m\u001b[36m \u001b[39m\u001b[32mIn[1]\u001b[39m\u001b[32m, line 1\u001b[39m\n\u001b[32m----> \u001b[39m\u001b[32m1\u001b[39m \u001b[43mgainers\u001b[49m.sort_values(by=\u001b[33m'\u001b[39m\u001b[33mlast\u001b[39m\u001b[33m'\u001b[39m, ascending=\u001b[38;5;28;01mFalse\u001b[39;00m)\n",
      "\u001b[31mNameError\u001b[39m: name 'gainers' is not defined"
     ]
    }
   ],
   "source": [
    "gainers.sort_values(by='last', ascending=False)"
   ]
  },
  {
   "cell_type": "code",
   "execution_count": 369,
   "metadata": {},
   "outputs": [
    {
     "data": {
      "text/html": [
       "<div>\n",
       "<style scoped>\n",
       "    .dataframe tbody tr th:only-of-type {\n",
       "        vertical-align: middle;\n",
       "    }\n",
       "\n",
       "    .dataframe tbody tr th {\n",
       "        vertical-align: top;\n",
       "    }\n",
       "\n",
       "    .dataframe thead th {\n",
       "        text-align: right;\n",
       "    }\n",
       "</style>\n",
       "<table border=\"1\" class=\"dataframe\">\n",
       "  <thead>\n",
       "    <tr style=\"text-align: right;\">\n",
       "      <th>interval</th>\n",
       "      <th>Make</th>\n",
       "      <th>current</th>\n",
       "      <th>last</th>\n",
       "      <th>change</th>\n",
       "    </tr>\n",
       "  </thead>\n",
       "  <tbody>\n",
       "    <tr>\n",
       "      <th>63</th>\n",
       "      <td>TOYOTA</td>\n",
       "      <td>30.876768</td>\n",
       "      <td>25.450918</td>\n",
       "      <td>-21.318880</td>\n",
       "    </tr>\n",
       "    <tr>\n",
       "      <th>28</th>\n",
       "      <td>HYUNDAI</td>\n",
       "      <td>9.472178</td>\n",
       "      <td>6.616076</td>\n",
       "      <td>-43.169123</td>\n",
       "    </tr>\n",
       "    <tr>\n",
       "      <th>17</th>\n",
       "      <td>FORD</td>\n",
       "      <td>6.128571</td>\n",
       "      <td>5.422009</td>\n",
       "      <td>-13.031372</td>\n",
       "    </tr>\n",
       "    <tr>\n",
       "      <th>34</th>\n",
       "      <td>KIA</td>\n",
       "      <td>5.982718</td>\n",
       "      <td>5.404726</td>\n",
       "      <td>-10.694193</td>\n",
       "    </tr>\n",
       "    <tr>\n",
       "      <th>10</th>\n",
       "      <td>CHEVROLET</td>\n",
       "      <td>1.885079</td>\n",
       "      <td>1.802099</td>\n",
       "      <td>-4.604627</td>\n",
       "    </tr>\n",
       "    <tr>\n",
       "      <th>6</th>\n",
       "      <td>BMW</td>\n",
       "      <td>1.714459</td>\n",
       "      <td>1.657554</td>\n",
       "      <td>-3.433049</td>\n",
       "    </tr>\n",
       "    <tr>\n",
       "      <th>43</th>\n",
       "      <td>MAZDA</td>\n",
       "      <td>1.296164</td>\n",
       "      <td>0.593891</td>\n",
       "      <td>-118.249294</td>\n",
       "    </tr>\n",
       "    <tr>\n",
       "      <th>30</th>\n",
       "      <td>ISUZU</td>\n",
       "      <td>1.293412</td>\n",
       "      <td>0.062846</td>\n",
       "      <td>-1958.076944</td>\n",
       "    </tr>\n",
       "    <tr>\n",
       "      <th>24</th>\n",
       "      <td>HONDA</td>\n",
       "      <td>1.133799</td>\n",
       "      <td>1.051094</td>\n",
       "      <td>-7.868550</td>\n",
       "    </tr>\n",
       "    <tr>\n",
       "      <th>7</th>\n",
       "      <td>CADILLAC</td>\n",
       "      <td>0.440310</td>\n",
       "      <td>0.358220</td>\n",
       "      <td>-22.916130</td>\n",
       "    </tr>\n",
       "    <tr>\n",
       "      <th>62</th>\n",
       "      <td>TESLA</td>\n",
       "      <td>0.316473</td>\n",
       "      <td>0.235671</td>\n",
       "      <td>-34.285872</td>\n",
       "    </tr>\n",
       "    <tr>\n",
       "      <th>11</th>\n",
       "      <td>CHRYSLER</td>\n",
       "      <td>0.217403</td>\n",
       "      <td>0.177539</td>\n",
       "      <td>-22.453834</td>\n",
       "    </tr>\n",
       "    <tr>\n",
       "      <th>61</th>\n",
       "      <td>SUZUKI</td>\n",
       "      <td>0.170620</td>\n",
       "      <td>0.147687</td>\n",
       "      <td>-15.528086</td>\n",
       "    </tr>\n",
       "    <tr>\n",
       "      <th>46</th>\n",
       "      <td>MG</td>\n",
       "      <td>0.134845</td>\n",
       "      <td>0.086413</td>\n",
       "      <td>-56.047614</td>\n",
       "    </tr>\n",
       "    <tr>\n",
       "      <th>23</th>\n",
       "      <td>HAVAL</td>\n",
       "      <td>0.126589</td>\n",
       "      <td>0.010998</td>\n",
       "      <td>-1051.021756</td>\n",
       "    </tr>\n",
       "    <tr>\n",
       "      <th>66</th>\n",
       "      <td>VOLVO</td>\n",
       "      <td>0.121085</td>\n",
       "      <td>0.106838</td>\n",
       "      <td>-13.335902</td>\n",
       "    </tr>\n",
       "    <tr>\n",
       "      <th>52</th>\n",
       "      <td>PORSCHE</td>\n",
       "      <td>0.071550</td>\n",
       "      <td>0.037707</td>\n",
       "      <td>-89.751775</td>\n",
       "    </tr>\n",
       "    <tr>\n",
       "      <th>13</th>\n",
       "      <td>DAIHATSU</td>\n",
       "      <td>0.044031</td>\n",
       "      <td>0.007856</td>\n",
       "      <td>-460.497551</td>\n",
       "    </tr>\n",
       "    <tr>\n",
       "      <th>67</th>\n",
       "      <td>ZNA</td>\n",
       "      <td>0.038527</td>\n",
       "      <td>0.021996</td>\n",
       "      <td>-75.155485</td>\n",
       "    </tr>\n",
       "    <tr>\n",
       "      <th>4</th>\n",
       "      <td>BAIC</td>\n",
       "      <td>0.027519</td>\n",
       "      <td>0.023567</td>\n",
       "      <td>-16.770323</td>\n",
       "    </tr>\n",
       "    <tr>\n",
       "      <th>15</th>\n",
       "      <td>FERRARI</td>\n",
       "      <td>0.027519</td>\n",
       "      <td>0.026709</td>\n",
       "      <td>-3.032638</td>\n",
       "    </tr>\n",
       "    <tr>\n",
       "      <th>19</th>\n",
       "      <td>GAC</td>\n",
       "      <td>0.024767</td>\n",
       "      <td>0.010998</td>\n",
       "      <td>-125.199909</td>\n",
       "    </tr>\n",
       "    <tr>\n",
       "      <th>9</th>\n",
       "      <td>CHERY</td>\n",
       "      <td>0.019264</td>\n",
       "      <td>0.018854</td>\n",
       "      <td>-2.174033</td>\n",
       "    </tr>\n",
       "    <tr>\n",
       "      <th>50</th>\n",
       "      <td>OPEL</td>\n",
       "      <td>0.019264</td>\n",
       "      <td>0.004713</td>\n",
       "      <td>-308.696131</td>\n",
       "    </tr>\n",
       "    <tr>\n",
       "      <th>39</th>\n",
       "      <td>MAHINDRA</td>\n",
       "      <td>0.013760</td>\n",
       "      <td>0.010998</td>\n",
       "      <td>-25.111060</td>\n",
       "    </tr>\n",
       "    <tr>\n",
       "      <th>64</th>\n",
       "      <td>VICTORY</td>\n",
       "      <td>0.011008</td>\n",
       "      <td>0.003142</td>\n",
       "      <td>-250.310969</td>\n",
       "    </tr>\n",
       "    <tr>\n",
       "      <th>22</th>\n",
       "      <td>GREAT WALL</td>\n",
       "      <td>0.011008</td>\n",
       "      <td>0.000000</td>\n",
       "      <td>-inf</td>\n",
       "    </tr>\n",
       "    <tr>\n",
       "      <th>20</th>\n",
       "      <td>GEELY</td>\n",
       "      <td>0.008256</td>\n",
       "      <td>0.001571</td>\n",
       "      <td>-425.466454</td>\n",
       "    </tr>\n",
       "    <tr>\n",
       "      <th>25</th>\n",
       "      <td>HONGQI</td>\n",
       "      <td>0.008256</td>\n",
       "      <td>0.003142</td>\n",
       "      <td>-162.733227</td>\n",
       "    </tr>\n",
       "    <tr>\n",
       "      <th>41</th>\n",
       "      <td>MAXUS</td>\n",
       "      <td>0.005504</td>\n",
       "      <td>0.000000</td>\n",
       "      <td>-inf</td>\n",
       "    </tr>\n",
       "    <tr>\n",
       "      <th>18</th>\n",
       "      <td>FOTON</td>\n",
       "      <td>0.002752</td>\n",
       "      <td>0.000000</td>\n",
       "      <td>-inf</td>\n",
       "    </tr>\n",
       "    <tr>\n",
       "      <th>26</th>\n",
       "      <td>HUAWEI</td>\n",
       "      <td>0.002752</td>\n",
       "      <td>0.001571</td>\n",
       "      <td>-75.155485</td>\n",
       "    </tr>\n",
       "  </tbody>\n",
       "</table>\n",
       "</div>"
      ],
      "text/plain": [
       "interval        Make    current       last       change\n",
       "63            TOYOTA  30.876768  25.450918   -21.318880\n",
       "28           HYUNDAI   9.472178   6.616076   -43.169123\n",
       "17              FORD   6.128571   5.422009   -13.031372\n",
       "34               KIA   5.982718   5.404726   -10.694193\n",
       "10         CHEVROLET   1.885079   1.802099    -4.604627\n",
       "6                BMW   1.714459   1.657554    -3.433049\n",
       "43             MAZDA   1.296164   0.593891  -118.249294\n",
       "30             ISUZU   1.293412   0.062846 -1958.076944\n",
       "24             HONDA   1.133799   1.051094    -7.868550\n",
       "7           CADILLAC   0.440310   0.358220   -22.916130\n",
       "62             TESLA   0.316473   0.235671   -34.285872\n",
       "11          CHRYSLER   0.217403   0.177539   -22.453834\n",
       "61            SUZUKI   0.170620   0.147687   -15.528086\n",
       "46                MG   0.134845   0.086413   -56.047614\n",
       "23             HAVAL   0.126589   0.010998 -1051.021756\n",
       "66             VOLVO   0.121085   0.106838   -13.335902\n",
       "52           PORSCHE   0.071550   0.037707   -89.751775\n",
       "13          DAIHATSU   0.044031   0.007856  -460.497551\n",
       "67               ZNA   0.038527   0.021996   -75.155485\n",
       "4               BAIC   0.027519   0.023567   -16.770323\n",
       "15           FERRARI   0.027519   0.026709    -3.032638\n",
       "19               GAC   0.024767   0.010998  -125.199909\n",
       "9              CHERY   0.019264   0.018854    -2.174033\n",
       "50              OPEL   0.019264   0.004713  -308.696131\n",
       "39          MAHINDRA   0.013760   0.010998   -25.111060\n",
       "64           VICTORY   0.011008   0.003142  -250.310969\n",
       "22        GREAT WALL   0.011008   0.000000         -inf\n",
       "20             GEELY   0.008256   0.001571  -425.466454\n",
       "25            HONGQI   0.008256   0.003142  -162.733227\n",
       "41             MAXUS   0.005504   0.000000         -inf\n",
       "18             FOTON   0.002752   0.000000         -inf\n",
       "26            HUAWEI   0.002752   0.001571   -75.155485"
      ]
     },
     "execution_count": 369,
     "metadata": {},
     "output_type": "execute_result"
    }
   ],
   "source": [
    "losers.sort_values(by='current', ascending=False)\n"
   ]
  },
  {
   "cell_type": "markdown",
   "metadata": {},
   "source": [
    "### Pro Visualizations\n"
   ]
  },
  {
   "cell_type": "code",
   "execution_count": 14,
   "metadata": {},
   "outputs": [
    {
     "data": {
      "text/plain": [
       "(99986, 13)"
      ]
     },
     "execution_count": 14,
     "metadata": {},
     "output_type": "execute_result"
    }
   ],
   "source": [
    "vs_sample.shape"
   ]
  },
  {
   "cell_type": "code",
   "execution_count": 17,
   "metadata": {},
   "outputs": [
    {
     "data": {
      "text/plain": [
       "CompanyName\n",
       "Islamic Arab Insurance Co- Salama                  25659\n",
       "Rasan                                              13591\n",
       "Methaq Takaful Insurance Company                   13479\n",
       "United Fidelity Insurance Company                  11802\n",
       "eData Management                                    6781\n",
       "Al Sagr National Insurance. Co.                     5852\n",
       "Adamjee Insurance Co.                               4662\n",
       "Ras Al Khaimah National Insurance Co. P.S.C         3849\n",
       "Tokio Marine and Nichido Fire Insurance Co. Ltd     3816\n",
       "Orient Insurance Company PJSC                       2107\n",
       "Oriental Insurance Co.                              1916\n",
       "Dubai National Insurance & Reinsurance PSC          1470\n",
       "PB Fintech FZ-LLC                                   1333\n",
       "Copart UAE Auctions LLC                              624\n",
       "Insurance House PSC                                  472\n",
       "Sukoon Takaful PJSC                                  341\n",
       "Yas Takaful P.J.S.C                                  315\n",
       "Union Insurance Co. PSC                              244\n",
       "Dubizzle Middle East FZ LLC                          238\n",
       "Oman Qatar Insurance Company                         228\n",
       "Arabia Falcon Insurance SAOG                         189\n",
       "Dubai Insurance Company PSC                          172\n",
       "Arabia Insurance Company SAL,                        161\n",
       "Al Wathba National Insurance Co.                     127\n",
       "Al Madina Insurance Co SAOG                          119\n",
       "Iran Insurance Company                               115\n",
       "Alliance Insurance PSC                                97\n",
       "National General Insurance Co PJSC                    54\n",
       "Success Insurance Services LLC                        52\n",
       "Sharjah Insurance Co                                  41\n",
       "Al Ain Ahlia Insurance Company                        15\n",
       "Abu Dhabi National Insurance Company                  14\n",
       "Jordan Insurance Company Limited                      14\n",
       "Al Dhafra Insurance Co.                               11\n",
       "Tameen Oman                                            8\n",
       "Insuredoo                                              7\n",
       "Muscat Insurance                                       5\n",
       "QIC                                                    5\n",
       "Muscat Insurance Company SAOC                          1\n",
       "Name: count, dtype: int64"
      ]
     },
     "execution_count": 17,
     "metadata": {},
     "output_type": "execute_result"
    }
   ],
   "source": [
    "vs_sample['CompanyName'].value_counts()"
   ]
  },
  {
   "cell_type": "code",
   "execution_count": 19,
   "metadata": {},
   "outputs": [],
   "source": [
    "company = 'Islamic Arab Insurance Co- Salama'\n",
    "vs_sample['segment'] = 'Market'\n",
    "vs_sample.loc[vs_sample['CompanyName'] == company, 'segment'] = company"
   ]
  },
  {
   "cell_type": "code",
   "execution_count": 20,
   "metadata": {},
   "outputs": [
    {
     "data": {
      "text/plain": [
       "segment\n",
       "Market                               0.743374\n",
       "Islamic Arab Insurance Co- Salama    0.256626\n",
       "Name: proportion, dtype: float64"
      ]
     },
     "execution_count": 20,
     "metadata": {},
     "output_type": "execute_result"
    }
   ],
   "source": [
    "vs_sample['segment'].value_counts(normalize=True)"
   ]
  },
  {
   "cell_type": "code",
   "execution_count": 26,
   "metadata": {},
   "outputs": [],
   "source": [
    "group = vs_sample.groupby(['segment', 'ModelYear']).size().reset_index(name='count')"
   ]
  },
  {
   "cell_type": "code",
   "execution_count": 27,
   "metadata": {},
   "outputs": [
    {
     "data": {
      "text/html": [
       "<div>\n",
       "<style scoped>\n",
       "    .dataframe tbody tr th:only-of-type {\n",
       "        vertical-align: middle;\n",
       "    }\n",
       "\n",
       "    .dataframe tbody tr th {\n",
       "        vertical-align: top;\n",
       "    }\n",
       "\n",
       "    .dataframe thead th {\n",
       "        text-align: right;\n",
       "    }\n",
       "</style>\n",
       "<table border=\"1\" class=\"dataframe\">\n",
       "  <thead>\n",
       "    <tr style=\"text-align: right;\">\n",
       "      <th></th>\n",
       "      <th>segment</th>\n",
       "      <th>ModelYear</th>\n",
       "      <th>count</th>\n",
       "    </tr>\n",
       "  </thead>\n",
       "  <tbody>\n",
       "    <tr>\n",
       "      <th>0</th>\n",
       "      <td>Islamic Arab Insurance Co- Salama</td>\n",
       "      <td>1999</td>\n",
       "      <td>1</td>\n",
       "    </tr>\n",
       "    <tr>\n",
       "      <th>1</th>\n",
       "      <td>Islamic Arab Insurance Co- Salama</td>\n",
       "      <td>2002</td>\n",
       "      <td>2</td>\n",
       "    </tr>\n",
       "    <tr>\n",
       "      <th>2</th>\n",
       "      <td>Islamic Arab Insurance Co- Salama</td>\n",
       "      <td>2004</td>\n",
       "      <td>2</td>\n",
       "    </tr>\n",
       "    <tr>\n",
       "      <th>3</th>\n",
       "      <td>Islamic Arab Insurance Co- Salama</td>\n",
       "      <td>2005</td>\n",
       "      <td>206</td>\n",
       "    </tr>\n",
       "    <tr>\n",
       "      <th>4</th>\n",
       "      <td>Islamic Arab Insurance Co- Salama</td>\n",
       "      <td>2006</td>\n",
       "      <td>251</td>\n",
       "    </tr>\n",
       "    <tr>\n",
       "      <th>5</th>\n",
       "      <td>Islamic Arab Insurance Co- Salama</td>\n",
       "      <td>2007</td>\n",
       "      <td>448</td>\n",
       "    </tr>\n",
       "    <tr>\n",
       "      <th>6</th>\n",
       "      <td>Islamic Arab Insurance Co- Salama</td>\n",
       "      <td>2008</td>\n",
       "      <td>969</td>\n",
       "    </tr>\n",
       "    <tr>\n",
       "      <th>7</th>\n",
       "      <td>Islamic Arab Insurance Co- Salama</td>\n",
       "      <td>2009</td>\n",
       "      <td>1001</td>\n",
       "    </tr>\n",
       "    <tr>\n",
       "      <th>8</th>\n",
       "      <td>Islamic Arab Insurance Co- Salama</td>\n",
       "      <td>2010</td>\n",
       "      <td>832</td>\n",
       "    </tr>\n",
       "    <tr>\n",
       "      <th>9</th>\n",
       "      <td>Islamic Arab Insurance Co- Salama</td>\n",
       "      <td>2011</td>\n",
       "      <td>768</td>\n",
       "    </tr>\n",
       "    <tr>\n",
       "      <th>10</th>\n",
       "      <td>Islamic Arab Insurance Co- Salama</td>\n",
       "      <td>2012</td>\n",
       "      <td>1624</td>\n",
       "    </tr>\n",
       "    <tr>\n",
       "      <th>11</th>\n",
       "      <td>Islamic Arab Insurance Co- Salama</td>\n",
       "      <td>2013</td>\n",
       "      <td>2218</td>\n",
       "    </tr>\n",
       "    <tr>\n",
       "      <th>12</th>\n",
       "      <td>Islamic Arab Insurance Co- Salama</td>\n",
       "      <td>2014</td>\n",
       "      <td>3074</td>\n",
       "    </tr>\n",
       "    <tr>\n",
       "      <th>13</th>\n",
       "      <td>Islamic Arab Insurance Co- Salama</td>\n",
       "      <td>2015</td>\n",
       "      <td>3296</td>\n",
       "    </tr>\n",
       "    <tr>\n",
       "      <th>14</th>\n",
       "      <td>Islamic Arab Insurance Co- Salama</td>\n",
       "      <td>2016</td>\n",
       "      <td>3432</td>\n",
       "    </tr>\n",
       "    <tr>\n",
       "      <th>15</th>\n",
       "      <td>Islamic Arab Insurance Co- Salama</td>\n",
       "      <td>2017</td>\n",
       "      <td>1914</td>\n",
       "    </tr>\n",
       "    <tr>\n",
       "      <th>16</th>\n",
       "      <td>Islamic Arab Insurance Co- Salama</td>\n",
       "      <td>2018</td>\n",
       "      <td>2370</td>\n",
       "    </tr>\n",
       "    <tr>\n",
       "      <th>17</th>\n",
       "      <td>Islamic Arab Insurance Co- Salama</td>\n",
       "      <td>2019</td>\n",
       "      <td>1222</td>\n",
       "    </tr>\n",
       "    <tr>\n",
       "      <th>18</th>\n",
       "      <td>Islamic Arab Insurance Co- Salama</td>\n",
       "      <td>2020</td>\n",
       "      <td>810</td>\n",
       "    </tr>\n",
       "    <tr>\n",
       "      <th>19</th>\n",
       "      <td>Islamic Arab Insurance Co- Salama</td>\n",
       "      <td>2021</td>\n",
       "      <td>467</td>\n",
       "    </tr>\n",
       "    <tr>\n",
       "      <th>20</th>\n",
       "      <td>Islamic Arab Insurance Co- Salama</td>\n",
       "      <td>2022</td>\n",
       "      <td>419</td>\n",
       "    </tr>\n",
       "    <tr>\n",
       "      <th>21</th>\n",
       "      <td>Islamic Arab Insurance Co- Salama</td>\n",
       "      <td>2023</td>\n",
       "      <td>332</td>\n",
       "    </tr>\n",
       "    <tr>\n",
       "      <th>22</th>\n",
       "      <td>Islamic Arab Insurance Co- Salama</td>\n",
       "      <td>2024</td>\n",
       "      <td>1</td>\n",
       "    </tr>\n",
       "    <tr>\n",
       "      <th>23</th>\n",
       "      <td>Market</td>\n",
       "      <td>1996</td>\n",
       "      <td>10</td>\n",
       "    </tr>\n",
       "    <tr>\n",
       "      <th>24</th>\n",
       "      <td>Market</td>\n",
       "      <td>1997</td>\n",
       "      <td>43</td>\n",
       "    </tr>\n",
       "    <tr>\n",
       "      <th>25</th>\n",
       "      <td>Market</td>\n",
       "      <td>1998</td>\n",
       "      <td>39</td>\n",
       "    </tr>\n",
       "    <tr>\n",
       "      <th>26</th>\n",
       "      <td>Market</td>\n",
       "      <td>1999</td>\n",
       "      <td>411</td>\n",
       "    </tr>\n",
       "    <tr>\n",
       "      <th>27</th>\n",
       "      <td>Market</td>\n",
       "      <td>2000</td>\n",
       "      <td>147</td>\n",
       "    </tr>\n",
       "    <tr>\n",
       "      <th>28</th>\n",
       "      <td>Market</td>\n",
       "      <td>2001</td>\n",
       "      <td>21</td>\n",
       "    </tr>\n",
       "    <tr>\n",
       "      <th>29</th>\n",
       "      <td>Market</td>\n",
       "      <td>2002</td>\n",
       "      <td>335</td>\n",
       "    </tr>\n",
       "    <tr>\n",
       "      <th>30</th>\n",
       "      <td>Market</td>\n",
       "      <td>2003</td>\n",
       "      <td>541</td>\n",
       "    </tr>\n",
       "    <tr>\n",
       "      <th>31</th>\n",
       "      <td>Market</td>\n",
       "      <td>2004</td>\n",
       "      <td>453</td>\n",
       "    </tr>\n",
       "    <tr>\n",
       "      <th>32</th>\n",
       "      <td>Market</td>\n",
       "      <td>2005</td>\n",
       "      <td>891</td>\n",
       "    </tr>\n",
       "    <tr>\n",
       "      <th>33</th>\n",
       "      <td>Market</td>\n",
       "      <td>2006</td>\n",
       "      <td>1246</td>\n",
       "    </tr>\n",
       "    <tr>\n",
       "      <th>34</th>\n",
       "      <td>Market</td>\n",
       "      <td>2007</td>\n",
       "      <td>1504</td>\n",
       "    </tr>\n",
       "    <tr>\n",
       "      <th>35</th>\n",
       "      <td>Market</td>\n",
       "      <td>2008</td>\n",
       "      <td>3997</td>\n",
       "    </tr>\n",
       "    <tr>\n",
       "      <th>36</th>\n",
       "      <td>Market</td>\n",
       "      <td>2009</td>\n",
       "      <td>3999</td>\n",
       "    </tr>\n",
       "    <tr>\n",
       "      <th>37</th>\n",
       "      <td>Market</td>\n",
       "      <td>2010</td>\n",
       "      <td>3612</td>\n",
       "    </tr>\n",
       "    <tr>\n",
       "      <th>38</th>\n",
       "      <td>Market</td>\n",
       "      <td>2011</td>\n",
       "      <td>3291</td>\n",
       "    </tr>\n",
       "    <tr>\n",
       "      <th>39</th>\n",
       "      <td>Market</td>\n",
       "      <td>2012</td>\n",
       "      <td>3751</td>\n",
       "    </tr>\n",
       "    <tr>\n",
       "      <th>40</th>\n",
       "      <td>Market</td>\n",
       "      <td>2013</td>\n",
       "      <td>5042</td>\n",
       "    </tr>\n",
       "    <tr>\n",
       "      <th>41</th>\n",
       "      <td>Market</td>\n",
       "      <td>2014</td>\n",
       "      <td>7284</td>\n",
       "    </tr>\n",
       "    <tr>\n",
       "      <th>42</th>\n",
       "      <td>Market</td>\n",
       "      <td>2015</td>\n",
       "      <td>8485</td>\n",
       "    </tr>\n",
       "    <tr>\n",
       "      <th>43</th>\n",
       "      <td>Market</td>\n",
       "      <td>2016</td>\n",
       "      <td>8114</td>\n",
       "    </tr>\n",
       "    <tr>\n",
       "      <th>44</th>\n",
       "      <td>Market</td>\n",
       "      <td>2017</td>\n",
       "      <td>5803</td>\n",
       "    </tr>\n",
       "    <tr>\n",
       "      <th>45</th>\n",
       "      <td>Market</td>\n",
       "      <td>2018</td>\n",
       "      <td>5740</td>\n",
       "    </tr>\n",
       "    <tr>\n",
       "      <th>46</th>\n",
       "      <td>Market</td>\n",
       "      <td>2019</td>\n",
       "      <td>3354</td>\n",
       "    </tr>\n",
       "    <tr>\n",
       "      <th>47</th>\n",
       "      <td>Market</td>\n",
       "      <td>2020</td>\n",
       "      <td>2731</td>\n",
       "    </tr>\n",
       "    <tr>\n",
       "      <th>48</th>\n",
       "      <td>Market</td>\n",
       "      <td>2021</td>\n",
       "      <td>1597</td>\n",
       "    </tr>\n",
       "    <tr>\n",
       "      <th>49</th>\n",
       "      <td>Market</td>\n",
       "      <td>2022</td>\n",
       "      <td>1243</td>\n",
       "    </tr>\n",
       "    <tr>\n",
       "      <th>50</th>\n",
       "      <td>Market</td>\n",
       "      <td>2023</td>\n",
       "      <td>598</td>\n",
       "    </tr>\n",
       "    <tr>\n",
       "      <th>51</th>\n",
       "      <td>Market</td>\n",
       "      <td>2024</td>\n",
       "      <td>23</td>\n",
       "    </tr>\n",
       "    <tr>\n",
       "      <th>52</th>\n",
       "      <td>Market</td>\n",
       "      <td>2025</td>\n",
       "      <td>22</td>\n",
       "    </tr>\n",
       "  </tbody>\n",
       "</table>\n",
       "</div>"
      ],
      "text/plain": [
       "                              segment  ModelYear  count\n",
       "0   Islamic Arab Insurance Co- Salama       1999      1\n",
       "1   Islamic Arab Insurance Co- Salama       2002      2\n",
       "2   Islamic Arab Insurance Co- Salama       2004      2\n",
       "3   Islamic Arab Insurance Co- Salama       2005    206\n",
       "4   Islamic Arab Insurance Co- Salama       2006    251\n",
       "5   Islamic Arab Insurance Co- Salama       2007    448\n",
       "6   Islamic Arab Insurance Co- Salama       2008    969\n",
       "7   Islamic Arab Insurance Co- Salama       2009   1001\n",
       "8   Islamic Arab Insurance Co- Salama       2010    832\n",
       "9   Islamic Arab Insurance Co- Salama       2011    768\n",
       "10  Islamic Arab Insurance Co- Salama       2012   1624\n",
       "11  Islamic Arab Insurance Co- Salama       2013   2218\n",
       "12  Islamic Arab Insurance Co- Salama       2014   3074\n",
       "13  Islamic Arab Insurance Co- Salama       2015   3296\n",
       "14  Islamic Arab Insurance Co- Salama       2016   3432\n",
       "15  Islamic Arab Insurance Co- Salama       2017   1914\n",
       "16  Islamic Arab Insurance Co- Salama       2018   2370\n",
       "17  Islamic Arab Insurance Co- Salama       2019   1222\n",
       "18  Islamic Arab Insurance Co- Salama       2020    810\n",
       "19  Islamic Arab Insurance Co- Salama       2021    467\n",
       "20  Islamic Arab Insurance Co- Salama       2022    419\n",
       "21  Islamic Arab Insurance Co- Salama       2023    332\n",
       "22  Islamic Arab Insurance Co- Salama       2024      1\n",
       "23                             Market       1996     10\n",
       "24                             Market       1997     43\n",
       "25                             Market       1998     39\n",
       "26                             Market       1999    411\n",
       "27                             Market       2000    147\n",
       "28                             Market       2001     21\n",
       "29                             Market       2002    335\n",
       "30                             Market       2003    541\n",
       "31                             Market       2004    453\n",
       "32                             Market       2005    891\n",
       "33                             Market       2006   1246\n",
       "34                             Market       2007   1504\n",
       "35                             Market       2008   3997\n",
       "36                             Market       2009   3999\n",
       "37                             Market       2010   3612\n",
       "38                             Market       2011   3291\n",
       "39                             Market       2012   3751\n",
       "40                             Market       2013   5042\n",
       "41                             Market       2014   7284\n",
       "42                             Market       2015   8485\n",
       "43                             Market       2016   8114\n",
       "44                             Market       2017   5803\n",
       "45                             Market       2018   5740\n",
       "46                             Market       2019   3354\n",
       "47                             Market       2020   2731\n",
       "48                             Market       2021   1597\n",
       "49                             Market       2022   1243\n",
       "50                             Market       2023    598\n",
       "51                             Market       2024     23\n",
       "52                             Market       2025     22"
      ]
     },
     "execution_count": 27,
     "metadata": {},
     "output_type": "execute_result"
    }
   ],
   "source": [
    "group"
   ]
  },
  {
   "cell_type": "code",
   "execution_count": 28,
   "metadata": {},
   "outputs": [
    {
     "data": {
      "text/html": [
       "<div>\n",
       "<style scoped>\n",
       "    .dataframe tbody tr th:only-of-type {\n",
       "        vertical-align: middle;\n",
       "    }\n",
       "\n",
       "    .dataframe tbody tr th {\n",
       "        vertical-align: top;\n",
       "    }\n",
       "\n",
       "    .dataframe thead th {\n",
       "        text-align: right;\n",
       "    }\n",
       "</style>\n",
       "<table border=\"1\" class=\"dataframe\">\n",
       "  <thead>\n",
       "    <tr style=\"text-align: right;\">\n",
       "      <th></th>\n",
       "      <th>segment</th>\n",
       "      <th>sum</th>\n",
       "    </tr>\n",
       "  </thead>\n",
       "  <tbody>\n",
       "    <tr>\n",
       "      <th>0</th>\n",
       "      <td>Islamic Arab Insurance Co- Salama</td>\n",
       "      <td>25659</td>\n",
       "    </tr>\n",
       "    <tr>\n",
       "      <th>1</th>\n",
       "      <td>Market</td>\n",
       "      <td>74327</td>\n",
       "    </tr>\n",
       "  </tbody>\n",
       "</table>\n",
       "</div>"
      ],
      "text/plain": [
       "                             segment    sum\n",
       "0  Islamic Arab Insurance Co- Salama  25659\n",
       "1                             Market  74327"
      ]
     },
     "execution_count": 28,
     "metadata": {},
     "output_type": "execute_result"
    }
   ],
   "source": [
    "sums = group.groupby('segment')['count'].sum()\n",
    "sums = sums.reset_index(name='sum')\n",
    "sums"
   ]
  },
  {
   "cell_type": "code",
   "execution_count": 29,
   "metadata": {},
   "outputs": [],
   "source": [
    "group = group.merge(sums, on='segment')\n",
    "group['normalized_count'] = group['count'] / group['sum'] * 100"
   ]
  },
  {
   "cell_type": "code",
   "execution_count": 33,
   "metadata": {},
   "outputs": [],
   "source": [
    "group.sort_values(by=['segment', 'normalized_count'], ascending=False, inplace=True)"
   ]
  },
  {
   "cell_type": "code",
   "execution_count": 38,
   "metadata": {},
   "outputs": [
    {
     "data": {
      "application/vnd.plotly.v1+json": {
       "config": {
        "plotlyServerURL": "https://plot.ly"
       },
       "data": [
        {
         "alignmentgroup": "True",
         "hovertemplate": "segment=Market<br>ModelYear=%{x}<br>normalized_count=%{text}<extra></extra>",
         "legendgroup": "Market",
         "marker": {
          "color": "#636efa",
          "pattern": {
           "shape": ""
          }
         },
         "name": "Market",
         "offsetgroup": "Market",
         "orientation": "v",
         "showlegend": true,
         "text": {
          "bdata": "2Xa66t/UJkDJBmLlT9UlQJzg9XyRmSNACzQv4cQ6H0BKPp1m+eMeQBjE9q5XIhtA5vsw3meFFUBaBNd8poIVQPgTnba8LxRAZF+wyDxwE0C5oVq6ygwSQPeryD//tRFAJNXDivlkDUDlRT1OXDABQPJXjvAbMABANLnFp2/S+j/s66lf58H6Pz8qQagbLvM/bQahoOW+6T+FjYDsqkrnP60szBDFgOM/pLjBLd2x4T80hNclc9jcP4NYkmquUMk/piMlh9aerT9lly0tdd2qP9XMnorfr58/tAaj3S5Pnj+WQKcwfu6cP3V6q4PNjYs/",
          "dtype": "f8"
         },
         "textposition": "auto",
         "type": "bar",
         "x": [
          "2015",
          "2016",
          "2014",
          "2017",
          "2018",
          "2013",
          "2009",
          "2008",
          "2012",
          "2010",
          "2019",
          "2011",
          "2020",
          "2021",
          "2007",
          "2006",
          "2022",
          "2005",
          "2023",
          "2003",
          "2004",
          "1999",
          "2002",
          "2000",
          "1997",
          "1998",
          "2024",
          "2025",
          "2001",
          "1996"
         ],
         "xaxis": "x",
         "y": {
          "bdata": "2Xa66t/UJkDJBmLlT9UlQJzg9XyRmSNACzQv4cQ6H0BKPp1m+eMeQBjE9q5XIhtA5vsw3meFFUBaBNd8poIVQPgTnba8LxRAZF+wyDxwE0C5oVq6ygwSQPeryD//tRFAJNXDivlkDUDlRT1OXDABQPJXjvAbMABANLnFp2/S+j/s66lf58H6Pz8qQagbLvM/bQahoOW+6T+FjYDsqkrnP60szBDFgOM/pLjBLd2x4T80hNclc9jcP4NYkmquUMk/piMlh9aerT9lly0tdd2qP9XMnorfr58/tAaj3S5Pnj+WQKcwfu6cP3V6q4PNjYs/",
          "dtype": "f8"
         },
         "yaxis": "y"
        },
        {
         "alignmentgroup": "True",
         "hovertemplate": "segment=Islamic Arab Insurance Co- Salama<br>ModelYear=%{x}<br>normalized_count=%{text}<extra></extra>",
         "legendgroup": "Islamic Arab Insurance Co- Salama",
         "marker": {
          "color": "#EF553B",
          "pattern": {
           "shape": ""
          }
         },
         "name": "Islamic Arab Insurance Co- Salama",
         "offsetgroup": "Islamic Arab Insurance Co- Salama",
         "orientation": "v",
         "showlegend": true,
         "text": {
          "bdata": "EulNjTfAKkChBrip17ApQEcgRwXd9SdAIpuZ1Bl5IkDAUi7HzEkhQPeDr1hl1h1A0tQ3LBBRGUCVkhS2wgwTQEHl2iSWNQ9AxrUv1iw2DkB/0mL9sfAJQNohTZcZQQlAiHMMYN/xB0DWeSSo0R79P3UxuZqE7/s/ZusivJUg+j85GWAgybP0P7TxOgSITe8/oQa4qdew6T9h72XVKe1/P2HvZdUp7X8/Ye9l1Sntbz9h72XVKe1vPw==",
          "dtype": "f8"
         },
         "textposition": "auto",
         "type": "bar",
         "x": [
          "2016",
          "2015",
          "2014",
          "2018",
          "2013",
          "2017",
          "2012",
          "2019",
          "2009",
          "2008",
          "2010",
          "2020",
          "2011",
          "2021",
          "2007",
          "2022",
          "2023",
          "2006",
          "2005",
          "2002",
          "2004",
          "1999",
          "2024"
         ],
         "xaxis": "x",
         "y": {
          "bdata": "EulNjTfAKkChBrip17ApQEcgRwXd9SdAIpuZ1Bl5IkDAUi7HzEkhQPeDr1hl1h1A0tQ3LBBRGUCVkhS2wgwTQEHl2iSWNQ9AxrUv1iw2DkB/0mL9sfAJQNohTZcZQQlAiHMMYN/xB0DWeSSo0R79P3UxuZqE7/s/ZusivJUg+j85GWAgybP0P7TxOgSITe8/oQa4qdew6T9h72XVKe1/P2HvZdUp7X8/Ye9l1Sntbz9h72XVKe1vPw==",
          "dtype": "f8"
         },
         "yaxis": "y"
        }
       ],
       "layout": {
        "barmode": "group",
        "legend": {
         "title": {
          "text": "segment"
         },
         "tracegroupgap": 0
        },
        "margin": {
         "t": 60
        },
        "template": {
         "data": {
          "bar": [
           {
            "error_x": {
             "color": "#2a3f5f"
            },
            "error_y": {
             "color": "#2a3f5f"
            },
            "marker": {
             "line": {
              "color": "#E5ECF6",
              "width": 0.5
             },
             "pattern": {
              "fillmode": "overlay",
              "size": 10,
              "solidity": 0.2
             }
            },
            "type": "bar"
           }
          ],
          "barpolar": [
           {
            "marker": {
             "line": {
              "color": "#E5ECF6",
              "width": 0.5
             },
             "pattern": {
              "fillmode": "overlay",
              "size": 10,
              "solidity": 0.2
             }
            },
            "type": "barpolar"
           }
          ],
          "carpet": [
           {
            "aaxis": {
             "endlinecolor": "#2a3f5f",
             "gridcolor": "white",
             "linecolor": "white",
             "minorgridcolor": "white",
             "startlinecolor": "#2a3f5f"
            },
            "baxis": {
             "endlinecolor": "#2a3f5f",
             "gridcolor": "white",
             "linecolor": "white",
             "minorgridcolor": "white",
             "startlinecolor": "#2a3f5f"
            },
            "type": "carpet"
           }
          ],
          "choropleth": [
           {
            "colorbar": {
             "outlinewidth": 0,
             "ticks": ""
            },
            "type": "choropleth"
           }
          ],
          "contour": [
           {
            "colorbar": {
             "outlinewidth": 0,
             "ticks": ""
            },
            "colorscale": [
             [
              0,
              "#0d0887"
             ],
             [
              0.1111111111111111,
              "#46039f"
             ],
             [
              0.2222222222222222,
              "#7201a8"
             ],
             [
              0.3333333333333333,
              "#9c179e"
             ],
             [
              0.4444444444444444,
              "#bd3786"
             ],
             [
              0.5555555555555556,
              "#d8576b"
             ],
             [
              0.6666666666666666,
              "#ed7953"
             ],
             [
              0.7777777777777778,
              "#fb9f3a"
             ],
             [
              0.8888888888888888,
              "#fdca26"
             ],
             [
              1,
              "#f0f921"
             ]
            ],
            "type": "contour"
           }
          ],
          "contourcarpet": [
           {
            "colorbar": {
             "outlinewidth": 0,
             "ticks": ""
            },
            "type": "contourcarpet"
           }
          ],
          "heatmap": [
           {
            "colorbar": {
             "outlinewidth": 0,
             "ticks": ""
            },
            "colorscale": [
             [
              0,
              "#0d0887"
             ],
             [
              0.1111111111111111,
              "#46039f"
             ],
             [
              0.2222222222222222,
              "#7201a8"
             ],
             [
              0.3333333333333333,
              "#9c179e"
             ],
             [
              0.4444444444444444,
              "#bd3786"
             ],
             [
              0.5555555555555556,
              "#d8576b"
             ],
             [
              0.6666666666666666,
              "#ed7953"
             ],
             [
              0.7777777777777778,
              "#fb9f3a"
             ],
             [
              0.8888888888888888,
              "#fdca26"
             ],
             [
              1,
              "#f0f921"
             ]
            ],
            "type": "heatmap"
           }
          ],
          "histogram": [
           {
            "marker": {
             "pattern": {
              "fillmode": "overlay",
              "size": 10,
              "solidity": 0.2
             }
            },
            "type": "histogram"
           }
          ],
          "histogram2d": [
           {
            "colorbar": {
             "outlinewidth": 0,
             "ticks": ""
            },
            "colorscale": [
             [
              0,
              "#0d0887"
             ],
             [
              0.1111111111111111,
              "#46039f"
             ],
             [
              0.2222222222222222,
              "#7201a8"
             ],
             [
              0.3333333333333333,
              "#9c179e"
             ],
             [
              0.4444444444444444,
              "#bd3786"
             ],
             [
              0.5555555555555556,
              "#d8576b"
             ],
             [
              0.6666666666666666,
              "#ed7953"
             ],
             [
              0.7777777777777778,
              "#fb9f3a"
             ],
             [
              0.8888888888888888,
              "#fdca26"
             ],
             [
              1,
              "#f0f921"
             ]
            ],
            "type": "histogram2d"
           }
          ],
          "histogram2dcontour": [
           {
            "colorbar": {
             "outlinewidth": 0,
             "ticks": ""
            },
            "colorscale": [
             [
              0,
              "#0d0887"
             ],
             [
              0.1111111111111111,
              "#46039f"
             ],
             [
              0.2222222222222222,
              "#7201a8"
             ],
             [
              0.3333333333333333,
              "#9c179e"
             ],
             [
              0.4444444444444444,
              "#bd3786"
             ],
             [
              0.5555555555555556,
              "#d8576b"
             ],
             [
              0.6666666666666666,
              "#ed7953"
             ],
             [
              0.7777777777777778,
              "#fb9f3a"
             ],
             [
              0.8888888888888888,
              "#fdca26"
             ],
             [
              1,
              "#f0f921"
             ]
            ],
            "type": "histogram2dcontour"
           }
          ],
          "mesh3d": [
           {
            "colorbar": {
             "outlinewidth": 0,
             "ticks": ""
            },
            "type": "mesh3d"
           }
          ],
          "parcoords": [
           {
            "line": {
             "colorbar": {
              "outlinewidth": 0,
              "ticks": ""
             }
            },
            "type": "parcoords"
           }
          ],
          "pie": [
           {
            "automargin": true,
            "type": "pie"
           }
          ],
          "scatter": [
           {
            "fillpattern": {
             "fillmode": "overlay",
             "size": 10,
             "solidity": 0.2
            },
            "type": "scatter"
           }
          ],
          "scatter3d": [
           {
            "line": {
             "colorbar": {
              "outlinewidth": 0,
              "ticks": ""
             }
            },
            "marker": {
             "colorbar": {
              "outlinewidth": 0,
              "ticks": ""
             }
            },
            "type": "scatter3d"
           }
          ],
          "scattercarpet": [
           {
            "marker": {
             "colorbar": {
              "outlinewidth": 0,
              "ticks": ""
             }
            },
            "type": "scattercarpet"
           }
          ],
          "scattergeo": [
           {
            "marker": {
             "colorbar": {
              "outlinewidth": 0,
              "ticks": ""
             }
            },
            "type": "scattergeo"
           }
          ],
          "scattergl": [
           {
            "marker": {
             "colorbar": {
              "outlinewidth": 0,
              "ticks": ""
             }
            },
            "type": "scattergl"
           }
          ],
          "scattermap": [
           {
            "marker": {
             "colorbar": {
              "outlinewidth": 0,
              "ticks": ""
             }
            },
            "type": "scattermap"
           }
          ],
          "scattermapbox": [
           {
            "marker": {
             "colorbar": {
              "outlinewidth": 0,
              "ticks": ""
             }
            },
            "type": "scattermapbox"
           }
          ],
          "scatterpolar": [
           {
            "marker": {
             "colorbar": {
              "outlinewidth": 0,
              "ticks": ""
             }
            },
            "type": "scatterpolar"
           }
          ],
          "scatterpolargl": [
           {
            "marker": {
             "colorbar": {
              "outlinewidth": 0,
              "ticks": ""
             }
            },
            "type": "scatterpolargl"
           }
          ],
          "scatterternary": [
           {
            "marker": {
             "colorbar": {
              "outlinewidth": 0,
              "ticks": ""
             }
            },
            "type": "scatterternary"
           }
          ],
          "surface": [
           {
            "colorbar": {
             "outlinewidth": 0,
             "ticks": ""
            },
            "colorscale": [
             [
              0,
              "#0d0887"
             ],
             [
              0.1111111111111111,
              "#46039f"
             ],
             [
              0.2222222222222222,
              "#7201a8"
             ],
             [
              0.3333333333333333,
              "#9c179e"
             ],
             [
              0.4444444444444444,
              "#bd3786"
             ],
             [
              0.5555555555555556,
              "#d8576b"
             ],
             [
              0.6666666666666666,
              "#ed7953"
             ],
             [
              0.7777777777777778,
              "#fb9f3a"
             ],
             [
              0.8888888888888888,
              "#fdca26"
             ],
             [
              1,
              "#f0f921"
             ]
            ],
            "type": "surface"
           }
          ],
          "table": [
           {
            "cells": {
             "fill": {
              "color": "#EBF0F8"
             },
             "line": {
              "color": "white"
             }
            },
            "header": {
             "fill": {
              "color": "#C8D4E3"
             },
             "line": {
              "color": "white"
             }
            },
            "type": "table"
           }
          ]
         },
         "layout": {
          "annotationdefaults": {
           "arrowcolor": "#2a3f5f",
           "arrowhead": 0,
           "arrowwidth": 1
          },
          "autotypenumbers": "strict",
          "coloraxis": {
           "colorbar": {
            "outlinewidth": 0,
            "ticks": ""
           }
          },
          "colorscale": {
           "diverging": [
            [
             0,
             "#8e0152"
            ],
            [
             0.1,
             "#c51b7d"
            ],
            [
             0.2,
             "#de77ae"
            ],
            [
             0.3,
             "#f1b6da"
            ],
            [
             0.4,
             "#fde0ef"
            ],
            [
             0.5,
             "#f7f7f7"
            ],
            [
             0.6,
             "#e6f5d0"
            ],
            [
             0.7,
             "#b8e186"
            ],
            [
             0.8,
             "#7fbc41"
            ],
            [
             0.9,
             "#4d9221"
            ],
            [
             1,
             "#276419"
            ]
           ],
           "sequential": [
            [
             0,
             "#0d0887"
            ],
            [
             0.1111111111111111,
             "#46039f"
            ],
            [
             0.2222222222222222,
             "#7201a8"
            ],
            [
             0.3333333333333333,
             "#9c179e"
            ],
            [
             0.4444444444444444,
             "#bd3786"
            ],
            [
             0.5555555555555556,
             "#d8576b"
            ],
            [
             0.6666666666666666,
             "#ed7953"
            ],
            [
             0.7777777777777778,
             "#fb9f3a"
            ],
            [
             0.8888888888888888,
             "#fdca26"
            ],
            [
             1,
             "#f0f921"
            ]
           ],
           "sequentialminus": [
            [
             0,
             "#0d0887"
            ],
            [
             0.1111111111111111,
             "#46039f"
            ],
            [
             0.2222222222222222,
             "#7201a8"
            ],
            [
             0.3333333333333333,
             "#9c179e"
            ],
            [
             0.4444444444444444,
             "#bd3786"
            ],
            [
             0.5555555555555556,
             "#d8576b"
            ],
            [
             0.6666666666666666,
             "#ed7953"
            ],
            [
             0.7777777777777778,
             "#fb9f3a"
            ],
            [
             0.8888888888888888,
             "#fdca26"
            ],
            [
             1,
             "#f0f921"
            ]
           ]
          },
          "colorway": [
           "#636efa",
           "#EF553B",
           "#00cc96",
           "#ab63fa",
           "#FFA15A",
           "#19d3f3",
           "#FF6692",
           "#B6E880",
           "#FF97FF",
           "#FECB52"
          ],
          "font": {
           "color": "#2a3f5f"
          },
          "geo": {
           "bgcolor": "white",
           "lakecolor": "white",
           "landcolor": "#E5ECF6",
           "showlakes": true,
           "showland": true,
           "subunitcolor": "white"
          },
          "hoverlabel": {
           "align": "left"
          },
          "hovermode": "closest",
          "mapbox": {
           "style": "light"
          },
          "paper_bgcolor": "white",
          "plot_bgcolor": "#E5ECF6",
          "polar": {
           "angularaxis": {
            "gridcolor": "white",
            "linecolor": "white",
            "ticks": ""
           },
           "bgcolor": "#E5ECF6",
           "radialaxis": {
            "gridcolor": "white",
            "linecolor": "white",
            "ticks": ""
           }
          },
          "scene": {
           "xaxis": {
            "backgroundcolor": "#E5ECF6",
            "gridcolor": "white",
            "gridwidth": 2,
            "linecolor": "white",
            "showbackground": true,
            "ticks": "",
            "zerolinecolor": "white"
           },
           "yaxis": {
            "backgroundcolor": "#E5ECF6",
            "gridcolor": "white",
            "gridwidth": 2,
            "linecolor": "white",
            "showbackground": true,
            "ticks": "",
            "zerolinecolor": "white"
           },
           "zaxis": {
            "backgroundcolor": "#E5ECF6",
            "gridcolor": "white",
            "gridwidth": 2,
            "linecolor": "white",
            "showbackground": true,
            "ticks": "",
            "zerolinecolor": "white"
           }
          },
          "shapedefaults": {
           "line": {
            "color": "#2a3f5f"
           }
          },
          "ternary": {
           "aaxis": {
            "gridcolor": "white",
            "linecolor": "white",
            "ticks": ""
           },
           "baxis": {
            "gridcolor": "white",
            "linecolor": "white",
            "ticks": ""
           },
           "bgcolor": "#E5ECF6",
           "caxis": {
            "gridcolor": "white",
            "linecolor": "white",
            "ticks": ""
           }
          },
          "title": {
           "x": 0.05
          },
          "xaxis": {
           "automargin": true,
           "gridcolor": "white",
           "linecolor": "white",
           "ticks": "",
           "title": {
            "standoff": 15
           },
           "zerolinecolor": "white",
           "zerolinewidth": 2
          },
          "yaxis": {
           "automargin": true,
           "gridcolor": "white",
           "linecolor": "white",
           "ticks": "",
           "title": {
            "standoff": 15
           },
           "zerolinecolor": "white",
           "zerolinewidth": 2
          }
         }
        },
        "xaxis": {
         "anchor": "y",
         "domain": [
          0,
          1
         ],
         "title": {
          "text": "ModelYear"
         }
        },
        "yaxis": {
         "anchor": "x",
         "domain": [
          0,
          1
         ],
         "title": {
          "text": "normalized_count"
         }
        }
       }
      }
     },
     "metadata": {},
     "output_type": "display_data"
    }
   ],
   "source": [
    "import plotly.express as px\n",
    "\n",
    "group['ModelYear'] = group['ModelYear'].astype(str)\n",
    "\n",
    "fig = px.bar(\n",
    "    data_frame=group,\n",
    "    x='ModelYear',\n",
    "    y='normalized_count',\n",
    "    text='normalized_count',\n",
    "    color='segment',\n",
    "    barmode='group'\n",
    ")\n",
    "\n",
    "fig.show()"
   ]
  },
  {
   "cell_type": "code",
   "execution_count": null,
   "metadata": {},
   "outputs": [],
   "source": []
  }
 ],
 "metadata": {
  "kernelspec": {
   "display_name": "Dashboards",
   "language": "python",
   "name": "python3"
  },
  "language_info": {
   "codemirror_mode": {
    "name": "ipython",
    "version": 3
   },
   "file_extension": ".py",
   "mimetype": "text/x-python",
   "name": "python",
   "nbconvert_exporter": "python",
   "pygments_lexer": "ipython3",
   "version": "3.12.11"
  }
 },
 "nbformat": 4,
 "nbformat_minor": 2
}
